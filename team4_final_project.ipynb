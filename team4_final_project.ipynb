{
  "nbformat": 4,
  "nbformat_minor": 0,
  "metadata": {
    "kernelspec": {
      "display_name": "Python 3",
      "language": "python",
      "name": "python3"
    },
    "language_info": {
      "codemirror_mode": {
        "name": "ipython",
        "version": 3
      },
      "file_extension": ".py",
      "mimetype": "text/x-python",
      "name": "python",
      "nbconvert_exporter": "python",
      "pygments_lexer": "ipython3",
      "version": "3.6.5"
    },
    "colab": {
      "name": "team4_final_project.ipynb",
      "provenance": [],
      "collapsed_sections": []
    }
  },
  "cells": [
    {
      "cell_type": "code",
      "metadata": {
        "id": "Xi3sdgDMj_j4",
        "colab_type": "code",
        "colab": {
          "base_uri": "https://localhost:8080/",
          "height": 34
        },
        "outputId": "becb68b9-361c-4b3f-e517-88f24b0f2268"
      },
      "source": [
        "from google.colab import drive\n",
        "drive.mount('/content/drive')"
      ],
      "execution_count": 21,
      "outputs": [
        {
          "output_type": "stream",
          "text": [
            "Drive already mounted at /content/drive; to attempt to forcibly remount, call drive.mount(\"/content/drive\", force_remount=True).\n"
          ],
          "name": "stdout"
        }
      ]
    },
    {
      "cell_type": "code",
      "metadata": {
        "id": "2L1bRrHZ43nb",
        "colab_type": "code",
        "colab": {}
      },
      "source": [
        "\n",
        "import pandas as pd\n",
        "import gc\n",
        "import numpy as np\n",
        "from sklearn.preprocessing import OneHotEncoder, StandardScaler\n",
        "from sklearn.pipeline import Pipeline\n",
        "from sklearn.compose import ColumnTransformer\n",
        "from sklearn.neighbors import KNeighborsClassifier\n",
        "from sklearn.svm import SVC\n",
        "from sklearn.linear_model import SGDClassifier\n",
        "from sklearn.tree import DecisionTreeClassifier\n",
        "from sklearn.ensemble import RandomForestClassifier,GradientBoostingClassifier,ExtraTreesClassifier,AdaBoostClassifier\n",
        "from sklearn.naive_bayes import GaussianNB\n",
        "from sklearn.linear_model import LogisticRegression\n",
        "from sklearn.model_selection import train_test_split, cross_validate, cross_val_score\n",
        "from sklearn.metrics import accuracy_score, precision_score, recall_score, roc_auc_score, f1_score, confusion_matrix, classification_report\n",
        "import matplotlib.pyplot as plt\n",
        "import random\n",
        "import seaborn as sns\n",
        "from xgboost import XGBClassifier\n",
        "from sklearn.neural_network import MLPClassifier\n",
        "from imblearn.over_sampling import SMOTE"
      ],
      "execution_count": 0,
      "outputs": []
    },
    {
      "cell_type": "code",
      "metadata": {
        "id": "4DYDz4NM43ng",
        "colab_type": "code",
        "colab": {}
      },
      "source": [
        "import warnings \n",
        "warnings.filterwarnings('ignore')\n",
        "pd.options.display.max_columns = None"
      ],
      "execution_count": 0,
      "outputs": []
    },
    {
      "cell_type": "markdown",
      "metadata": {
        "id": "BbBiYt1UXWuH",
        "colab_type": "text"
      },
      "source": [
        "## 1. Introduction"
      ]
    },
    {
      "cell_type": "markdown",
      "metadata": {
        "id": "AO2y7mAGYqW9",
        "colab_type": "text"
      },
      "source": [
        "The failure of patients to attend medical appointments (no-shows) costs healthcare systems a great deal of time and money.  The aim of this project was to construct a machine learning model capable of predicting no-shows ahead of time.  The data that was used provides the details of over 110,000 medical appointments scheduled over the course of April, May and June 2016 at various clinics in the Brazilian city of Vitoria.  \n",
        "\n",
        "Source: https://www.kaggle.com/joniarroba/noshowappointments"
      ]
    },
    {
      "cell_type": "markdown",
      "metadata": {
        "id": "T7kuabf143nj",
        "colab_type": "text"
      },
      "source": [
        "## 2. Loading Data and Inspecting"
      ]
    },
    {
      "cell_type": "code",
      "metadata": {
        "id": "utvVfu7D43nk",
        "colab_type": "code",
        "colab": {}
      },
      "source": [
        "data = pd.read_csv('/content/drive/My Drive/KaggleV2-May-2016.csv')\n",
        "#data = pd.read_csv('KaggleV2-May-2016.csv')"
      ],
      "execution_count": 0,
      "outputs": []
    },
    {
      "cell_type": "code",
      "metadata": {
        "id": "W_rZujAsaGCM",
        "colab_type": "code",
        "colab": {
          "base_uri": "https://localhost:8080/",
          "height": 204
        },
        "outputId": "88147fda-78a1-4a37-a124-bec23464452d"
      },
      "source": [
        "data.head()"
      ],
      "execution_count": 38,
      "outputs": [
        {
          "output_type": "execute_result",
          "data": {
            "text/html": [
              "<div>\n",
              "<style scoped>\n",
              "    .dataframe tbody tr th:only-of-type {\n",
              "        vertical-align: middle;\n",
              "    }\n",
              "\n",
              "    .dataframe tbody tr th {\n",
              "        vertical-align: top;\n",
              "    }\n",
              "\n",
              "    .dataframe thead th {\n",
              "        text-align: right;\n",
              "    }\n",
              "</style>\n",
              "<table border=\"1\" class=\"dataframe\">\n",
              "  <thead>\n",
              "    <tr style=\"text-align: right;\">\n",
              "      <th></th>\n",
              "      <th>PatientId</th>\n",
              "      <th>AppointmentID</th>\n",
              "      <th>Gender</th>\n",
              "      <th>ScheduledDay</th>\n",
              "      <th>AppointmentDay</th>\n",
              "      <th>Age</th>\n",
              "      <th>Neighbourhood</th>\n",
              "      <th>Scholarship</th>\n",
              "      <th>Hipertension</th>\n",
              "      <th>Diabetes</th>\n",
              "      <th>Alcoholism</th>\n",
              "      <th>Handcap</th>\n",
              "      <th>SMS_received</th>\n",
              "      <th>No-show</th>\n",
              "    </tr>\n",
              "  </thead>\n",
              "  <tbody>\n",
              "    <tr>\n",
              "      <th>0</th>\n",
              "      <td>2.987250e+13</td>\n",
              "      <td>5642903</td>\n",
              "      <td>F</td>\n",
              "      <td>2016-04-29T18:38:08Z</td>\n",
              "      <td>2016-04-29T00:00:00Z</td>\n",
              "      <td>62</td>\n",
              "      <td>JARDIM DA PENHA</td>\n",
              "      <td>0</td>\n",
              "      <td>1</td>\n",
              "      <td>0</td>\n",
              "      <td>0</td>\n",
              "      <td>0</td>\n",
              "      <td>0</td>\n",
              "      <td>No</td>\n",
              "    </tr>\n",
              "    <tr>\n",
              "      <th>1</th>\n",
              "      <td>5.589978e+14</td>\n",
              "      <td>5642503</td>\n",
              "      <td>M</td>\n",
              "      <td>2016-04-29T16:08:27Z</td>\n",
              "      <td>2016-04-29T00:00:00Z</td>\n",
              "      <td>56</td>\n",
              "      <td>JARDIM DA PENHA</td>\n",
              "      <td>0</td>\n",
              "      <td>0</td>\n",
              "      <td>0</td>\n",
              "      <td>0</td>\n",
              "      <td>0</td>\n",
              "      <td>0</td>\n",
              "      <td>No</td>\n",
              "    </tr>\n",
              "    <tr>\n",
              "      <th>2</th>\n",
              "      <td>4.262962e+12</td>\n",
              "      <td>5642549</td>\n",
              "      <td>F</td>\n",
              "      <td>2016-04-29T16:19:04Z</td>\n",
              "      <td>2016-04-29T00:00:00Z</td>\n",
              "      <td>62</td>\n",
              "      <td>MATA DA PRAIA</td>\n",
              "      <td>0</td>\n",
              "      <td>0</td>\n",
              "      <td>0</td>\n",
              "      <td>0</td>\n",
              "      <td>0</td>\n",
              "      <td>0</td>\n",
              "      <td>No</td>\n",
              "    </tr>\n",
              "    <tr>\n",
              "      <th>3</th>\n",
              "      <td>8.679512e+11</td>\n",
              "      <td>5642828</td>\n",
              "      <td>F</td>\n",
              "      <td>2016-04-29T17:29:31Z</td>\n",
              "      <td>2016-04-29T00:00:00Z</td>\n",
              "      <td>8</td>\n",
              "      <td>PONTAL DE CAMBURI</td>\n",
              "      <td>0</td>\n",
              "      <td>0</td>\n",
              "      <td>0</td>\n",
              "      <td>0</td>\n",
              "      <td>0</td>\n",
              "      <td>0</td>\n",
              "      <td>No</td>\n",
              "    </tr>\n",
              "    <tr>\n",
              "      <th>4</th>\n",
              "      <td>8.841186e+12</td>\n",
              "      <td>5642494</td>\n",
              "      <td>F</td>\n",
              "      <td>2016-04-29T16:07:23Z</td>\n",
              "      <td>2016-04-29T00:00:00Z</td>\n",
              "      <td>56</td>\n",
              "      <td>JARDIM DA PENHA</td>\n",
              "      <td>0</td>\n",
              "      <td>1</td>\n",
              "      <td>1</td>\n",
              "      <td>0</td>\n",
              "      <td>0</td>\n",
              "      <td>0</td>\n",
              "      <td>No</td>\n",
              "    </tr>\n",
              "  </tbody>\n",
              "</table>\n",
              "</div>"
            ],
            "text/plain": [
              "      PatientId  AppointmentID Gender          ScheduledDay  \\\n",
              "0  2.987250e+13        5642903      F  2016-04-29T18:38:08Z   \n",
              "1  5.589978e+14        5642503      M  2016-04-29T16:08:27Z   \n",
              "2  4.262962e+12        5642549      F  2016-04-29T16:19:04Z   \n",
              "3  8.679512e+11        5642828      F  2016-04-29T17:29:31Z   \n",
              "4  8.841186e+12        5642494      F  2016-04-29T16:07:23Z   \n",
              "\n",
              "         AppointmentDay  Age      Neighbourhood  Scholarship  Hipertension  \\\n",
              "0  2016-04-29T00:00:00Z   62    JARDIM DA PENHA            0             1   \n",
              "1  2016-04-29T00:00:00Z   56    JARDIM DA PENHA            0             0   \n",
              "2  2016-04-29T00:00:00Z   62      MATA DA PRAIA            0             0   \n",
              "3  2016-04-29T00:00:00Z    8  PONTAL DE CAMBURI            0             0   \n",
              "4  2016-04-29T00:00:00Z   56    JARDIM DA PENHA            0             1   \n",
              "\n",
              "   Diabetes  Alcoholism  Handcap  SMS_received No-show  \n",
              "0         0           0        0             0      No  \n",
              "1         0           0        0             0      No  \n",
              "2         0           0        0             0      No  \n",
              "3         0           0        0             0      No  \n",
              "4         1           0        0             0      No  "
            ]
          },
          "metadata": {
            "tags": []
          },
          "execution_count": 38
        }
      ]
    },
    {
      "cell_type": "code",
      "metadata": {
        "id": "TEdpNt4D43ny",
        "colab_type": "code",
        "outputId": "f9cc91e1-9a25-4e03-f468-491aeaf1d1ad",
        "colab": {
          "base_uri": "https://localhost:8080/",
          "height": 297
        }
      },
      "source": [
        "data.describe()"
      ],
      "execution_count": 39,
      "outputs": [
        {
          "output_type": "execute_result",
          "data": {
            "text/html": [
              "<div>\n",
              "<style scoped>\n",
              "    .dataframe tbody tr th:only-of-type {\n",
              "        vertical-align: middle;\n",
              "    }\n",
              "\n",
              "    .dataframe tbody tr th {\n",
              "        vertical-align: top;\n",
              "    }\n",
              "\n",
              "    .dataframe thead th {\n",
              "        text-align: right;\n",
              "    }\n",
              "</style>\n",
              "<table border=\"1\" class=\"dataframe\">\n",
              "  <thead>\n",
              "    <tr style=\"text-align: right;\">\n",
              "      <th></th>\n",
              "      <th>PatientId</th>\n",
              "      <th>AppointmentID</th>\n",
              "      <th>Age</th>\n",
              "      <th>Scholarship</th>\n",
              "      <th>Hipertension</th>\n",
              "      <th>Diabetes</th>\n",
              "      <th>Alcoholism</th>\n",
              "      <th>Handcap</th>\n",
              "      <th>SMS_received</th>\n",
              "    </tr>\n",
              "  </thead>\n",
              "  <tbody>\n",
              "    <tr>\n",
              "      <th>count</th>\n",
              "      <td>1.105270e+05</td>\n",
              "      <td>1.105270e+05</td>\n",
              "      <td>110527.000000</td>\n",
              "      <td>110527.000000</td>\n",
              "      <td>110527.000000</td>\n",
              "      <td>110527.000000</td>\n",
              "      <td>110527.000000</td>\n",
              "      <td>110527.000000</td>\n",
              "      <td>110527.000000</td>\n",
              "    </tr>\n",
              "    <tr>\n",
              "      <th>mean</th>\n",
              "      <td>1.474963e+14</td>\n",
              "      <td>5.675305e+06</td>\n",
              "      <td>37.088874</td>\n",
              "      <td>0.098266</td>\n",
              "      <td>0.197246</td>\n",
              "      <td>0.071865</td>\n",
              "      <td>0.030400</td>\n",
              "      <td>0.022248</td>\n",
              "      <td>0.321026</td>\n",
              "    </tr>\n",
              "    <tr>\n",
              "      <th>std</th>\n",
              "      <td>2.560949e+14</td>\n",
              "      <td>7.129575e+04</td>\n",
              "      <td>23.110205</td>\n",
              "      <td>0.297675</td>\n",
              "      <td>0.397921</td>\n",
              "      <td>0.258265</td>\n",
              "      <td>0.171686</td>\n",
              "      <td>0.161543</td>\n",
              "      <td>0.466873</td>\n",
              "    </tr>\n",
              "    <tr>\n",
              "      <th>min</th>\n",
              "      <td>3.921784e+04</td>\n",
              "      <td>5.030230e+06</td>\n",
              "      <td>-1.000000</td>\n",
              "      <td>0.000000</td>\n",
              "      <td>0.000000</td>\n",
              "      <td>0.000000</td>\n",
              "      <td>0.000000</td>\n",
              "      <td>0.000000</td>\n",
              "      <td>0.000000</td>\n",
              "    </tr>\n",
              "    <tr>\n",
              "      <th>25%</th>\n",
              "      <td>4.172614e+12</td>\n",
              "      <td>5.640286e+06</td>\n",
              "      <td>18.000000</td>\n",
              "      <td>0.000000</td>\n",
              "      <td>0.000000</td>\n",
              "      <td>0.000000</td>\n",
              "      <td>0.000000</td>\n",
              "      <td>0.000000</td>\n",
              "      <td>0.000000</td>\n",
              "    </tr>\n",
              "    <tr>\n",
              "      <th>50%</th>\n",
              "      <td>3.173184e+13</td>\n",
              "      <td>5.680573e+06</td>\n",
              "      <td>37.000000</td>\n",
              "      <td>0.000000</td>\n",
              "      <td>0.000000</td>\n",
              "      <td>0.000000</td>\n",
              "      <td>0.000000</td>\n",
              "      <td>0.000000</td>\n",
              "      <td>0.000000</td>\n",
              "    </tr>\n",
              "    <tr>\n",
              "      <th>75%</th>\n",
              "      <td>9.439172e+13</td>\n",
              "      <td>5.725524e+06</td>\n",
              "      <td>55.000000</td>\n",
              "      <td>0.000000</td>\n",
              "      <td>0.000000</td>\n",
              "      <td>0.000000</td>\n",
              "      <td>0.000000</td>\n",
              "      <td>0.000000</td>\n",
              "      <td>1.000000</td>\n",
              "    </tr>\n",
              "    <tr>\n",
              "      <th>max</th>\n",
              "      <td>9.999816e+14</td>\n",
              "      <td>5.790484e+06</td>\n",
              "      <td>115.000000</td>\n",
              "      <td>1.000000</td>\n",
              "      <td>1.000000</td>\n",
              "      <td>1.000000</td>\n",
              "      <td>1.000000</td>\n",
              "      <td>4.000000</td>\n",
              "      <td>1.000000</td>\n",
              "    </tr>\n",
              "  </tbody>\n",
              "</table>\n",
              "</div>"
            ],
            "text/plain": [
              "          PatientId  AppointmentID            Age    Scholarship  \\\n",
              "count  1.105270e+05   1.105270e+05  110527.000000  110527.000000   \n",
              "mean   1.474963e+14   5.675305e+06      37.088874       0.098266   \n",
              "std    2.560949e+14   7.129575e+04      23.110205       0.297675   \n",
              "min    3.921784e+04   5.030230e+06      -1.000000       0.000000   \n",
              "25%    4.172614e+12   5.640286e+06      18.000000       0.000000   \n",
              "50%    3.173184e+13   5.680573e+06      37.000000       0.000000   \n",
              "75%    9.439172e+13   5.725524e+06      55.000000       0.000000   \n",
              "max    9.999816e+14   5.790484e+06     115.000000       1.000000   \n",
              "\n",
              "        Hipertension       Diabetes     Alcoholism        Handcap  \\\n",
              "count  110527.000000  110527.000000  110527.000000  110527.000000   \n",
              "mean        0.197246       0.071865       0.030400       0.022248   \n",
              "std         0.397921       0.258265       0.171686       0.161543   \n",
              "min         0.000000       0.000000       0.000000       0.000000   \n",
              "25%         0.000000       0.000000       0.000000       0.000000   \n",
              "50%         0.000000       0.000000       0.000000       0.000000   \n",
              "75%         0.000000       0.000000       0.000000       0.000000   \n",
              "max         1.000000       1.000000       1.000000       4.000000   \n",
              "\n",
              "        SMS_received  \n",
              "count  110527.000000  \n",
              "mean        0.321026  \n",
              "std         0.466873  \n",
              "min         0.000000  \n",
              "25%         0.000000  \n",
              "50%         0.000000  \n",
              "75%         1.000000  \n",
              "max         1.000000  "
            ]
          },
          "metadata": {
            "tags": []
          },
          "execution_count": 39
        }
      ]
    },
    {
      "cell_type": "code",
      "metadata": {
        "scrolled": true,
        "id": "JFJQqe7Z43n2",
        "colab_type": "code",
        "outputId": "5cd4bf4f-cfab-41d3-858d-7476383fa51f",
        "colab": {
          "base_uri": "https://localhost:8080/",
          "height": 340
        }
      },
      "source": [
        "data.info()"
      ],
      "execution_count": 40,
      "outputs": [
        {
          "output_type": "stream",
          "text": [
            "<class 'pandas.core.frame.DataFrame'>\n",
            "RangeIndex: 110527 entries, 0 to 110526\n",
            "Data columns (total 14 columns):\n",
            "PatientId         110527 non-null float64\n",
            "AppointmentID     110527 non-null int64\n",
            "Gender            110527 non-null object\n",
            "ScheduledDay      110527 non-null object\n",
            "AppointmentDay    110527 non-null object\n",
            "Age               110527 non-null int64\n",
            "Neighbourhood     110527 non-null object\n",
            "Scholarship       110527 non-null int64\n",
            "Hipertension      110527 non-null int64\n",
            "Diabetes          110527 non-null int64\n",
            "Alcoholism        110527 non-null int64\n",
            "Handcap           110527 non-null int64\n",
            "SMS_received      110527 non-null int64\n",
            "No-show           110527 non-null object\n",
            "dtypes: float64(1), int64(8), object(5)\n",
            "memory usage: 11.8+ MB\n"
          ],
          "name": "stdout"
        }
      ]
    },
    {
      "cell_type": "markdown",
      "metadata": {
        "id": "RjoO8bcx7aij",
        "colab_type": "text"
      },
      "source": [
        "## 3. Feature Engineering"
      ]
    },
    {
      "cell_type": "markdown",
      "metadata": {
        "id": "AdYcuTbFbl9T",
        "colab_type": "text"
      },
      "source": [
        "The original features of interest in this dataset are;\n",
        "\n",
        "- Patient Gender\n",
        "\n",
        "- ScheduledDay - date and time of when the appointment booking was done.\n",
        "\n",
        "- AppointmentDay - date (without time) that the appointment was scheduled for.\n",
        "\n",
        "- Patient Age\n",
        "\n",
        "- Neighbourhood - neighbourhood that the clinic is located in.  All neighbourhoods are in the city of Vitoria, Brazil.\n",
        "\n",
        "- Scholarship - binary feature indicating whether the patient is on a particular Brazilian social assistance program.  The data source provides this wikipedia article as further explanation - https://en.wikipedia.org/wiki/Bolsa_Fam%C3%ADlia.\n",
        "\n",
        "- Hipertension, Diabetes and Alcoholism - binary features indicating whether the patient suffers from any of these conditions.\n",
        "\n",
        "- Handcap - numerical feature (from 1 to 4) indicating degree of physical disability.\n",
        "\n",
        "- SMS_received - binary feature indicating whether a text reminder was received by the patient.\n",
        "\n",
        "- No-show - binary feature indicating whether or not the patient missed their appointment.\n",
        "\n",
        "Several additional features are derived below."
      ]
    },
    {
      "cell_type": "code",
      "metadata": {
        "id": "iUXPZsQ6BS65",
        "colab_type": "code",
        "colab": {}
      },
      "source": [
        "# map labels to 1 and 0\n",
        "\n",
        "data['Labels'] = data['No-show'].map({'Yes': 1, 'No': 0})\n"
      ],
      "execution_count": 0,
      "outputs": []
    },
    {
      "cell_type": "markdown",
      "metadata": {
        "id": "iVhw6_B67i92",
        "colab_type": "text"
      },
      "source": [
        "Creating new features; \"high_temp\" and \"rainfall\" - giving highest temperature (in C) and total rainfall (in mm) for each appointment day.  The supplementary weather data was obtained from https://www.worldweatheronline.com/vitoria-weather-history/espirito-santo/br.aspx"
      ]
    },
    {
      "cell_type": "code",
      "metadata": {
        "id": "6a12XxOTBD1i",
        "colab_type": "code",
        "colab": {}
      },
      "source": [
        "# map appointment days to historical weather data\n",
        "\n",
        "# daily high temp (in C)\n",
        "temps_dict = {'2016-06-06T00:00:00Z' : 31,\n",
        "              '2016-05-16T00:00:00Z' : 28,\n",
        "              '2016-05-09T00:00:00Z' : 28,\n",
        "              '2016-05-30T00:00:00Z' : 28,\n",
        "              '2016-06-08T00:00:00Z' : 24,\n",
        "              '2016-05-11T00:00:00Z' : 29,\n",
        "              '2016-06-01T00:00:00Z' : 29,\n",
        "              '2016-06-07T00:00:00Z' : 27,\n",
        "              '2016-05-12T00:00:00Z' : 27,\n",
        "              '2016-05-02T00:00:00Z' : 24,\n",
        "              '2016-05-18T00:00:00Z' : 25,\n",
        "              '2016-05-17T00:00:00Z' : 28,\n",
        "              '2016-06-02T00:00:00Z' : 30,\n",
        "              '2016-05-10T00:00:00Z' : 28,\n",
        "              '2016-05-31T00:00:00Z' : 25,\n",
        "              '2016-05-05T00:00:00Z' : 26,\n",
        "              '2016-05-19T00:00:00Z' : 24,\n",
        "              '2016-05-03T00:00:00Z' : 25,\n",
        "              '2016-05-04T00:00:00Z' : 27,\n",
        "              '2016-06-03T00:00:00Z' : 27,\n",
        "              '2016-05-24T00:00:00Z' : 24,\n",
        "              '2016-05-13T00:00:00Z' : 25,\n",
        "              '2016-05-25T00:00:00Z' : 23,\n",
        "              '2016-05-06T00:00:00Z' : 26,\n",
        "              '2016-05-20T00:00:00Z' : 24,\n",
        "              '2016-04-29T00:00:00Z' : 24,\n",
        "              '2016-05-14T00:00:00Z' : 23}\n",
        "\n",
        "# total rainfall on that day (in mm)\n",
        "rain_dict = {'2016-06-06T00:00:00Z' : 0,\n",
        "              '2016-05-16T00:00:00Z' : 0.03,\n",
        "              '2016-05-09T00:00:00Z' : 0.12,\n",
        "              '2016-05-30T00:00:00Z' : 0.37,\n",
        "              '2016-06-08T00:00:00Z' : 2.67,\n",
        "              '2016-05-11T00:00:00Z' : 0,\n",
        "              '2016-06-01T00:00:00Z' : 0,\n",
        "              '2016-06-07T00:00:00Z' : 1.26,\n",
        "              '2016-05-12T00:00:00Z' : 5.3,\n",
        "              '2016-05-02T00:00:00Z' : 0,\n",
        "              '2016-05-18T00:00:00Z' : 1.67,\n",
        "              '2016-05-17T00:00:00Z' : 0.74,\n",
        "              '2016-06-02T00:00:00Z' : 0.38,\n",
        "              '2016-05-10T00:00:00Z' : 0,\n",
        "              '2016-05-31T00:00:00Z' : 1.53,\n",
        "              '2016-05-05T00:00:00Z' : 0.02,\n",
        "              '2016-05-19T00:00:00Z' : 0.56,\n",
        "              '2016-05-03T00:00:00Z' : 0.47,\n",
        "              '2016-05-04T00:00:00Z' : 0.13,\n",
        "              '2016-06-03T00:00:00Z' : 2.2,\n",
        "              '2016-05-24T00:00:00Z' : 0.1,\n",
        "              '2016-05-13T00:00:00Z' : 0.28,\n",
        "              '2016-05-25T00:00:00Z' : 1.08,\n",
        "              '2016-05-06T00:00:00Z' : 0.34,\n",
        "              '2016-05-20T00:00:00Z' : 0.84,\n",
        "              '2016-04-29T00:00:00Z' : 3.58,\n",
        "              '2016-05-14T00:00:00Z' : 1.16}          \n",
        "\n",
        "data['high_temp'] = data['AppointmentDay'].map(temps_dict)  \n",
        "data['rainfall'] = data['AppointmentDay'].map(rain_dict)\n"
      ],
      "execution_count": 0,
      "outputs": []
    },
    {
      "cell_type": "markdown",
      "metadata": {
        "id": "_h4OG56e7yR-",
        "colab_type": "text"
      },
      "source": [
        "Creating new feature - \"impeachment_vote\" - the only significant news story in Brazil during the range of dates in question was their Senate voting to impeach the president on May 12, 2016.  Can distractions like this affect appointment compliance?"
      ]
    },
    {
      "cell_type": "code",
      "metadata": {
        "id": "8rtLemhsYz06",
        "colab_type": "code",
        "colab": {}
      },
      "source": [
        "# 1 for impeachment date, 0 for all others\n",
        "data['impeachment_vote'] = 0\n",
        "data['impeachment_vote'] = data['AppointmentDay'].map(lambda x: 1 if x == '2016-05-12T00:00:00Z' else 0)"
      ],
      "execution_count": 0,
      "outputs": []
    },
    {
      "cell_type": "markdown",
      "metadata": {
        "id": "HLUG2sbCClRY",
        "colab_type": "text"
      },
      "source": [
        "Creating new time-related features;\n",
        "\n",
        "days_to_appt - days between booking date and appointment.\n",
        "\n",
        "day_of_appt - day of the week of the appointment.\n",
        "\n",
        "day_of_scheduling - day of the week of the booking date.\n",
        "\n",
        "month_of_appt - month of the year of the appointment.\n",
        "\n",
        "month_of_scheduling - month of the year of the booking date.\n",
        "\n",
        "hour_of_scheduling - hour of the day during which the appointment booking took place. (Actual appointment time was not provided.) \n"
      ]
    },
    {
      "cell_type": "code",
      "metadata": {
        "id": "6Tnrye3t43oG",
        "colab_type": "code",
        "colab": {}
      },
      "source": [
        "# convert date objects to datetime format (without time part)\n",
        "data['ScheduledDayDT'] = pd.to_datetime(data['ScheduledDay']).dt.date\n",
        "data['ScheduledDayDT'] = pd.to_datetime((data['ScheduledDayDT']),utc=True)\n",
        "data['AppointmentDayDT'] = pd.to_datetime(data['AppointmentDay'])"
      ],
      "execution_count": 0,
      "outputs": []
    },
    {
      "cell_type": "code",
      "metadata": {
        "id": "syenBaBy43oJ",
        "colab_type": "code",
        "colab": {}
      },
      "source": [
        "# create new feature - \"days_to_appt\" - no. of days between scheduled date and appt date\n",
        "data['time_between_appts'] = data['AppointmentDayDT']-data['ScheduledDayDT']\n",
        "data['days_to_appt'] = data['time_between_appts']/np.timedelta64(1,'D')"
      ],
      "execution_count": 0,
      "outputs": []
    },
    {
      "cell_type": "code",
      "metadata": {
        "id": "PqLwhMYp43oM",
        "colab_type": "code",
        "colab": {}
      },
      "source": [
        "# create new features - day of the week and month of the year of the scheduling and appointment dates, hour of scheduling\n",
        "data['day_of_appt'] = data['AppointmentDayDT'].dt.dayofweek\n",
        "data['day_of_scheduling'] = data['ScheduledDayDT'].dt.dayofweek\n",
        "data['month_of_appt'] = data['AppointmentDayDT'].dt.month\n",
        "data['month_of_scheduling'] = data['ScheduledDayDT'].dt.month\n",
        "data['hour_of_scheduling'] = pd.to_datetime(data['ScheduledDay']).dt.hour"
      ],
      "execution_count": 0,
      "outputs": []
    },
    {
      "cell_type": "markdown",
      "metadata": {
        "id": "TBLwTriHDRzG",
        "colab_type": "text"
      },
      "source": [
        "Creating new features regarding past patient history;\n",
        "\n",
        "prior_no_shows - number of no-shows the patient had prior to the current appointment.\n",
        "\n",
        "prior_visits - number of total scheduled appointments the patient had prior to the current appointment.\n",
        "\n",
        "visit_freq - frequency of visits (appts/day for each pt, = 0 if they only had one appt \n",
        "in the dataset)"
      ]
    },
    {
      "cell_type": "code",
      "metadata": {
        "id": "WNHRSJgpZ0c4",
        "colab_type": "code",
        "colab": {}
      },
      "source": [
        "# loop below takes several mins to run, you can just read in the data by running the cell below this one\n",
        "\n",
        "data['prior_no_shows'] = 0\n",
        "data['prior_visits'] = 0\n",
        "data['visit_freq'] = 0\n",
        "\n",
        "for i in data.index: \n",
        "  \n",
        "  # how many no-shows and overall visits happened for this PatientId, prior to current date?\n",
        "  data.loc[i,'prior_no_shows']=len(data[(data['PatientId']==data.loc[i,'PatientId']) & (data['AppointmentDayDT']<data.loc[i,'AppointmentDayDT']) & (data['Labels']==1)])\n",
        "  data.loc[i,'prior_visits']=len(data[(data['PatientId']==data.loc[i,'PatientId']) & (data['AppointmentDayDT']<data.loc[i,'AppointmentDayDT'])])\n",
        "\n",
        "  # visit frequency = total visits/(latest-earliest visit)\n",
        "  max_date = data[data['PatientId']==data.loc[i,'PatientId']]['AppointmentDayDT'].max()\n",
        "  min_date = data[data['PatientId']==data.loc[i,'PatientId']]['AppointmentDayDT'].min()\n",
        "  \n",
        "  if (max_date>min_date): # if there's only 1 appt it stays as zero\n",
        "      data.loc[i,'visit_freq'] = float(len(data[data['PatientId']==data.loc[i,'PatientId']]))/((max_date-min_date)/np.timedelta64(1,'D'))   \n",
        "\n",
        "# write the new columns to disk or google drive\n",
        "data[['prior_no_shows','prior_visits','visit_freq']].to_csv('prior_no_shows.csv')    \n",
        "!cp prior_no_shows.csv drive/My\\ Drive/  # only if using colab"
      ],
      "execution_count": 0,
      "outputs": []
    },
    {
      "cell_type": "code",
      "metadata": {
        "id": "WoEhEZ09zrg7",
        "colab_type": "code",
        "colab": {}
      },
      "source": [
        "# use this to just read in the data instead of running the cells above\n",
        "prior_no_shows = pd.read_csv('/content/drive/My Drive/prior_no_shows.csv') # change to local dir if not using colab\n",
        "data['prior_no_shows'] = prior_no_shows['prior_no_shows']\n",
        "data['prior_visits'] = prior_no_shows['prior_visits']\n",
        "data['visit_freq'] = prior_no_shows['visit_freq']\n"
      ],
      "execution_count": 0,
      "outputs": []
    },
    {
      "cell_type": "markdown",
      "metadata": {
        "id": "O9oavd01VLj4",
        "colab_type": "text"
      },
      "source": [
        "## 4. Exploratory Analysis"
      ]
    },
    {
      "cell_type": "markdown",
      "metadata": {
        "id": "1UeYDeBy43oW",
        "colab_type": "text"
      },
      "source": [
        "No-shows make up approximately 20% of the data, while 80% of appointments were attended."
      ]
    },
    {
      "cell_type": "code",
      "metadata": {
        "id": "SPjpTqHDaMki",
        "colab_type": "code",
        "colab": {
          "base_uri": "https://localhost:8080/",
          "height": 34
        },
        "outputId": "cc9024df-862a-4977-f658-854fb1ce6c82"
      },
      "source": [
        "# check balance of labels\n",
        "\n",
        "no = len(data[data['No-show']=='No'])\n",
        "yes = len(data[data['No-show']=='Yes'])\n",
        "total = len(data)\n",
        "\n",
        "print('Number of Rows with No-Show = Yes: ', yes,'(',np.round(yes/total*100,2),'%), Number of rows with No-show = No: ', no,'(',np.round(no/total*100,2),'%)')"
      ],
      "execution_count": 48,
      "outputs": [
        {
          "output_type": "stream",
          "text": [
            "Number of Rows with No-Show = Yes:  22319 ( 20.19 %), Number of rows with No-show = No:  88208 ( 79.81 %)\n"
          ],
          "name": "stdout"
        }
      ]
    },
    {
      "cell_type": "markdown",
      "metadata": {
        "id": "Tb5wD96QaPTt",
        "colab_type": "text"
      },
      "source": [
        "Below we look at correlations between the various features and the labels."
      ]
    },
    {
      "cell_type": "code",
      "metadata": {
        "scrolled": true,
        "id": "aXrSCzmq43oX",
        "colab_type": "code",
        "outputId": "2f75851d-1197-4258-98f8-fa8a938571e9",
        "colab": {
          "base_uri": "https://localhost:8080/",
          "height": 408
        }
      },
      "source": [
        "#Correlation analysis\n",
        "corr=data.corr()\n",
        "corr['Labels'].sort_values(ascending=False)"
      ],
      "execution_count": 49,
      "outputs": [
        {
          "output_type": "execute_result",
          "data": {
            "text/plain": [
              "Labels                 1.000000\n",
              "days_to_appt           0.186231\n",
              "SMS_received           0.126431\n",
              "prior_no_shows         0.078592\n",
              "hour_of_scheduling     0.060697\n",
              "Scholarship            0.029135\n",
              "day_of_scheduling      0.006020\n",
              "day_of_appt            0.001165\n",
              "Alcoholism            -0.000196\n",
              "high_temp             -0.001033\n",
              "PatientId             -0.001461\n",
              "impeachment_vote      -0.005801\n",
              "Handcap               -0.006076\n",
              "rainfall              -0.014748\n",
              "Diabetes              -0.015180\n",
              "visit_freq            -0.016729\n",
              "prior_visits          -0.020710\n",
              "month_of_appt         -0.020886\n",
              "Hipertension          -0.035701\n",
              "Age                   -0.060319\n",
              "month_of_scheduling   -0.160862\n",
              "AppointmentID         -0.162602\n",
              "Name: Labels, dtype: float64"
            ]
          },
          "metadata": {
            "tags": []
          },
          "execution_count": 49
        }
      ]
    },
    {
      "cell_type": "code",
      "metadata": {
        "id": "azci-2_M43ob",
        "colab_type": "code",
        "outputId": "71b7c04b-2643-4a5e-c31b-ea7b5c46ba24",
        "colab": {
          "base_uri": "https://localhost:8080/",
          "height": 366
        }
      },
      "source": [
        "#Heatmap\n",
        "ax = sns.heatmap(corr,  square=True)"
      ],
      "execution_count": 50,
      "outputs": [
        {
          "output_type": "display_data",
          "data": {
            "image/png": "[encoded data removed]",
            "text/plain": [
              "<Figure size 432x288 with 2 Axes>"
            ]
          },
          "metadata": {
            "tags": []
          }
        }
      ]
    },
    {
      "cell_type": "code",
      "metadata": {
        "id": "_AiVKMRB43oj",
        "colab_type": "code",
        "colab": {}
      },
      "source": [
        ""
      ],
      "execution_count": 0,
      "outputs": []
    },
    {
      "cell_type": "code",
      "metadata": {
        "id": "PFYhOfE6ED8Z",
        "colab_type": "code",
        "colab": {}
      },
      "source": [
        "# keep only desired features and labels\n",
        "data_clean = data[['Labels','Gender','Age','SMS_received','day_of_appt','day_of_scheduling','month_of_appt','month_of_scheduling','hour_of_scheduling','days_to_appt','prior_no_shows','prior_visits',\n",
        "                   'high_temp','rainfall','visit_freq','Scholarship']]\n"
      ],
      "execution_count": 0,
      "outputs": []
    },
    {
      "cell_type": "markdown",
      "metadata": {
        "id": "izwTxgiM43on",
        "colab_type": "text"
      },
      "source": [
        "## 5. Preparing for Modelling\n",
        "\n",
        "The cleaned data is divided into train/test sets (70/30) ratio below. OneHotEncoder() is used to encode categorical features and StandardScaler() is used to transform numerical features.  "
      ]
    },
    {
      "cell_type": "code",
      "metadata": {
        "id": "FGXgaFsEZhfD",
        "colab_type": "code",
        "outputId": "251fd80e-4e88-4fae-a442-b2d1c15f8b8a",
        "colab": {
          "base_uri": "https://localhost:8080/",
          "height": 102
        }
      },
      "source": [
        "data_clean.columns"
      ],
      "execution_count": 52,
      "outputs": [
        {
          "output_type": "execute_result",
          "data": {
            "text/plain": [
              "Index(['Labels', 'Gender', 'Age', 'SMS_received', 'day_of_appt',\n",
              "       'day_of_scheduling', 'month_of_appt', 'month_of_scheduling',\n",
              "       'hour_of_scheduling', 'days_to_appt', 'prior_no_shows', 'prior_visits',\n",
              "       'high_temp', 'rainfall', 'visit_freq', 'Scholarship'],\n",
              "      dtype='object')"
            ]
          },
          "metadata": {
            "tags": []
          },
          "execution_count": 52
        }
      ]
    },
    {
      "cell_type": "code",
      "metadata": {
        "id": "qYnfpNWH43or",
        "colab_type": "code",
        "outputId": "976b979b-6b42-4e15-c728-748e2d2d78a9",
        "colab": {
          "base_uri": "https://localhost:8080/",
          "height": 34
        }
      },
      "source": [
        "# split into test/train\n",
        "train_set,test_set = train_test_split(data_clean,test_size=0.3,stratify=data_clean[\"Labels\"])\n",
        "print(len(train_set), \"train +\", len(test_set), \"test\")\n",
        "\n",
        "# divide into features/labels\n",
        "train_features = train_set.drop('Labels',axis=1)\n",
        "train_labels = train_set[['Labels']]\n",
        "test_features = test_set.drop('Labels',axis=1)\n",
        "test_labels = test_set[['Labels']]"
      ],
      "execution_count": 53,
      "outputs": [
        {
          "output_type": "stream",
          "text": [
            "77368 train + 33159 test\n"
          ],
          "name": "stdout"
        }
      ]
    },
    {
      "cell_type": "code",
      "metadata": {
        "id": "IIlo_sf343o9",
        "colab_type": "code",
        "colab": {}
      },
      "source": [
        "# transform numerical and categorical features using StandardScaler() and OneHotEncoder()\n",
        "num_attribs = ['Age','days_to_appt','prior_no_shows','high_temp','rainfall','prior_visits','visit_freq']\n",
        "cat_attribs_one_hot = ['Gender','day_of_appt','day_of_scheduling','month_of_appt','month_of_scheduling','hour_of_scheduling']\n",
        "\n",
        "pipeline_features = ColumnTransformer(\n",
        "    [(\"num\",StandardScaler(),num_attribs),(\"cat\",OneHotEncoder(categories='auto',handle_unknown='ignore'),cat_attribs_one_hot)],remainder='passthrough')\n",
        "\n",
        "train_features_prepared = pipeline_features.fit_transform(train_features)\n",
        "train_labels_prepared = train_labels.values\n",
        "\n",
        "test_features_prepared = pipeline_features.transform(test_features)\n",
        "test_labels_prepared = test_labels.values"
      ],
      "execution_count": 0,
      "outputs": []
    },
    {
      "cell_type": "code",
      "metadata": {
        "scrolled": true,
        "id": "eBNDq8il43pA",
        "colab_type": "code",
        "outputId": "39a5d93a-3b62-4ba5-bd07-79ac9b3eac34",
        "colab": {
          "base_uri": "https://localhost:8080/",
          "height": 34
        }
      },
      "source": [
        "train_features_prepared.shape"
      ],
      "execution_count": 55,
      "outputs": [
        {
          "output_type": "execute_result",
          "data": {
            "text/plain": [
              "(77368, 50)"
            ]
          },
          "metadata": {
            "tags": []
          },
          "execution_count": 55
        }
      ]
    },
    {
      "cell_type": "code",
      "metadata": {
        "id": "HlgAIOXv43pF",
        "colab_type": "code",
        "outputId": "545b458c-bdbd-448b-ee9c-827350675868",
        "colab": {
          "base_uri": "https://localhost:8080/",
          "height": 34
        }
      },
      "source": [
        "test_features_prepared.shape"
      ],
      "execution_count": 56,
      "outputs": [
        {
          "output_type": "execute_result",
          "data": {
            "text/plain": [
              "(33159, 50)"
            ]
          },
          "metadata": {
            "tags": []
          },
          "execution_count": 56
        }
      ]
    },
    {
      "cell_type": "code",
      "metadata": {
        "colab_type": "code",
        "id": "PNay-VDGV8iX",
        "colab": {}
      },
      "source": [
        ""
      ],
      "execution_count": 0,
      "outputs": []
    },
    {
      "cell_type": "markdown",
      "metadata": {
        "id": "1Q2XCpqZV-HV",
        "colab_type": "text"
      },
      "source": [
        ""
      ]
    }
  ]
}