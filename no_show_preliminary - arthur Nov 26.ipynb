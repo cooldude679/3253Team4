{
  "nbformat": 4,
  "nbformat_minor": 0,
  "metadata": {
    "kernelspec": {
      "display_name": "Python 3",
      "language": "python",
      "name": "python3"
    },
    "language_info": {
      "codemirror_mode": {
        "name": "ipython",
        "version": 3
      },
      "file_extension": ".py",
      "mimetype": "text/x-python",
      "name": "python",
      "nbconvert_exporter": "python",
      "pygments_lexer": "ipython3",
      "version": "3.6.5"
    },
    "colab": {
      "name": "no_show_preliminary(1).ipynb",
      "provenance": [],
      "collapsed_sections": []
    }
  },
  "cells": [
    {
      "cell_type": "code",
      "metadata": {
        "id": "Xi3sdgDMj_j4",
        "colab_type": "code",
        "colab": {}
      },
      "source": [
        ""
      ],
      "execution_count": 0,
      "outputs": []
    },
    {
      "cell_type": "code",
      "metadata": {
        "id": "2L1bRrHZ43nb",
        "colab_type": "code",
        "outputId": "44e0a97e-6bf5-4f37-b180-7d3e15bfa6ca",
        "colab": {
          "base_uri": "https://localhost:8080/",
          "height": 34
        }
      },
      "source": [
        "from google.colab import drive\n",
        "drive.mount('/content/drive')\n",
        "\n",
        "import pandas as pd\n",
        "import gc\n",
        "import numpy as np\n",
        "from sklearn.preprocessing import OneHotEncoder\n",
        "from sklearn.pipeline import Pipeline\n",
        "from sklearn.preprocessing import StandardScaler\n",
        "from sklearn.compose import ColumnTransformer\n",
        "from sklearn.neighbors import KNeighborsClassifier\n",
        "from sklearn.svm import SVC\n",
        "from sklearn.linear_model import SGDClassifier\n",
        "from sklearn.tree import DecisionTreeClassifier\n",
        "from sklearn.ensemble import RandomForestClassifier,GradientBoostingClassifier,ExtraTreesClassifier,AdaBoostClassifier\n",
        "from sklearn.naive_bayes import GaussianNB\n",
        "from sklearn.linear_model import LogisticRegression\n",
        "from sklearn.model_selection import train_test_split\n",
        "from sklearn.model_selection import cross_validate,cross_val_score\n",
        "from sklearn.metrics import accuracy_score, precision_score, recall_score, roc_auc_score, f1_score, confusion_matrix\n",
        "from sklearn.metrics import classification_report \n",
        "import matplotlib.pyplot as plt\n",
        "import random\n",
        "import seaborn as sns\n",
        "from xgboost import XGBClassifier\n",
        "from sklearn.neural_network import MLPClassifier\n",
        "from imblearn.over_sampling import SMOTE"
      ],
      "execution_count": 187,
      "outputs": [
        {
          "output_type": "stream",
          "text": [
            "Drive already mounted at /content/drive; to attempt to forcibly remount, call drive.mount(\"/content/drive\", force_remount=True).\n"
          ],
          "name": "stdout"
        }
      ]
    },
    {
      "cell_type": "code",
      "metadata": {
        "id": "4DYDz4NM43ng",
        "colab_type": "code",
        "colab": {}
      },
      "source": [
        "import warnings \n",
        "warnings.filterwarnings('ignore')\n",
        "pd.options.display.max_columns = None"
      ],
      "execution_count": 0,
      "outputs": []
    },
    {
      "cell_type": "markdown",
      "metadata": {
        "id": "T7kuabf143nj",
        "colab_type": "text"
      },
      "source": [
        "## 1. Loading Data and Inspecting"
      ]
    },
    {
      "cell_type": "code",
      "metadata": {
        "id": "utvVfu7D43nk",
        "colab_type": "code",
        "colab": {}
      },
      "source": [
        "#Source\n",
        "#https://www.kaggle.com/joniarroba/noshowappointments\n",
        "data = pd.read_csv('/content/drive/My Drive/KaggleV2-May-2016.csv')\n",
        "#data = pd.read_csv('KaggleV2-May-2016.csv')"
      ],
      "execution_count": 0,
      "outputs": []
    },
    {
      "cell_type": "code",
      "metadata": {
        "scrolled": true,
        "id": "bdoFc40U43no",
        "colab_type": "code",
        "outputId": "f11ad7a2-8515-4823-d679-d0c5649f321c",
        "colab": {
          "base_uri": "https://localhost:8080/",
          "height": 204
        }
      },
      "source": [
        "data.head()"
      ],
      "execution_count": 100,
      "outputs": [
        {
          "output_type": "execute_result",
          "data": {
            "text/html": [
              "<div>\n",
              "<style scoped>\n",
              "    .dataframe tbody tr th:only-of-type {\n",
              "        vertical-align: middle;\n",
              "    }\n",
              "\n",
              "    .dataframe tbody tr th {\n",
              "        vertical-align: top;\n",
              "    }\n",
              "\n",
              "    .dataframe thead th {\n",
              "        text-align: right;\n",
              "    }\n",
              "</style>\n",
              "<table border=\"1\" class=\"dataframe\">\n",
              "  <thead>\n",
              "    <tr style=\"text-align: right;\">\n",
              "      <th></th>\n",
              "      <th>PatientId</th>\n",
              "      <th>AppointmentID</th>\n",
              "      <th>Gender</th>\n",
              "      <th>ScheduledDay</th>\n",
              "      <th>AppointmentDay</th>\n",
              "      <th>Age</th>\n",
              "      <th>Neighbourhood</th>\n",
              "      <th>Scholarship</th>\n",
              "      <th>Hipertension</th>\n",
              "      <th>Diabetes</th>\n",
              "      <th>Alcoholism</th>\n",
              "      <th>Handcap</th>\n",
              "      <th>SMS_received</th>\n",
              "      <th>No-show</th>\n",
              "    </tr>\n",
              "  </thead>\n",
              "  <tbody>\n",
              "    <tr>\n",
              "      <th>0</th>\n",
              "      <td>2.987250e+13</td>\n",
              "      <td>5642903</td>\n",
              "      <td>F</td>\n",
              "      <td>2016-04-29T18:38:08Z</td>\n",
              "      <td>2016-04-29T00:00:00Z</td>\n",
              "      <td>62</td>\n",
              "      <td>JARDIM DA PENHA</td>\n",
              "      <td>0</td>\n",
              "      <td>1</td>\n",
              "      <td>0</td>\n",
              "      <td>0</td>\n",
              "      <td>0</td>\n",
              "      <td>0</td>\n",
              "      <td>No</td>\n",
              "    </tr>\n",
              "    <tr>\n",
              "      <th>1</th>\n",
              "      <td>5.589978e+14</td>\n",
              "      <td>5642503</td>\n",
              "      <td>M</td>\n",
              "      <td>2016-04-29T16:08:27Z</td>\n",
              "      <td>2016-04-29T00:00:00Z</td>\n",
              "      <td>56</td>\n",
              "      <td>JARDIM DA PENHA</td>\n",
              "      <td>0</td>\n",
              "      <td>0</td>\n",
              "      <td>0</td>\n",
              "      <td>0</td>\n",
              "      <td>0</td>\n",
              "      <td>0</td>\n",
              "      <td>No</td>\n",
              "    </tr>\n",
              "    <tr>\n",
              "      <th>2</th>\n",
              "      <td>4.262962e+12</td>\n",
              "      <td>5642549</td>\n",
              "      <td>F</td>\n",
              "      <td>2016-04-29T16:19:04Z</td>\n",
              "      <td>2016-04-29T00:00:00Z</td>\n",
              "      <td>62</td>\n",
              "      <td>MATA DA PRAIA</td>\n",
              "      <td>0</td>\n",
              "      <td>0</td>\n",
              "      <td>0</td>\n",
              "      <td>0</td>\n",
              "      <td>0</td>\n",
              "      <td>0</td>\n",
              "      <td>No</td>\n",
              "    </tr>\n",
              "    <tr>\n",
              "      <th>3</th>\n",
              "      <td>8.679512e+11</td>\n",
              "      <td>5642828</td>\n",
              "      <td>F</td>\n",
              "      <td>2016-04-29T17:29:31Z</td>\n",
              "      <td>2016-04-29T00:00:00Z</td>\n",
              "      <td>8</td>\n",
              "      <td>PONTAL DE CAMBURI</td>\n",
              "      <td>0</td>\n",
              "      <td>0</td>\n",
              "      <td>0</td>\n",
              "      <td>0</td>\n",
              "      <td>0</td>\n",
              "      <td>0</td>\n",
              "      <td>No</td>\n",
              "    </tr>\n",
              "    <tr>\n",
              "      <th>4</th>\n",
              "      <td>8.841186e+12</td>\n",
              "      <td>5642494</td>\n",
              "      <td>F</td>\n",
              "      <td>2016-04-29T16:07:23Z</td>\n",
              "      <td>2016-04-29T00:00:00Z</td>\n",
              "      <td>56</td>\n",
              "      <td>JARDIM DA PENHA</td>\n",
              "      <td>0</td>\n",
              "      <td>1</td>\n",
              "      <td>1</td>\n",
              "      <td>0</td>\n",
              "      <td>0</td>\n",
              "      <td>0</td>\n",
              "      <td>No</td>\n",
              "    </tr>\n",
              "  </tbody>\n",
              "</table>\n",
              "</div>"
            ],
            "text/plain": [
              "      PatientId  AppointmentID Gender          ScheduledDay  \\\n",
              "0  2.987250e+13        5642903      F  2016-04-29T18:38:08Z   \n",
              "1  5.589978e+14        5642503      M  2016-04-29T16:08:27Z   \n",
              "2  4.262962e+12        5642549      F  2016-04-29T16:19:04Z   \n",
              "3  8.679512e+11        5642828      F  2016-04-29T17:29:31Z   \n",
              "4  8.841186e+12        5642494      F  2016-04-29T16:07:23Z   \n",
              "\n",
              "         AppointmentDay  Age      Neighbourhood  Scholarship  Hipertension  \\\n",
              "0  2016-04-29T00:00:00Z   62    JARDIM DA PENHA            0             1   \n",
              "1  2016-04-29T00:00:00Z   56    JARDIM DA PENHA            0             0   \n",
              "2  2016-04-29T00:00:00Z   62      MATA DA PRAIA            0             0   \n",
              "3  2016-04-29T00:00:00Z    8  PONTAL DE CAMBURI            0             0   \n",
              "4  2016-04-29T00:00:00Z   56    JARDIM DA PENHA            0             1   \n",
              "\n",
              "   Diabetes  Alcoholism  Handcap  SMS_received No-show  \n",
              "0         0           0        0             0      No  \n",
              "1         0           0        0             0      No  \n",
              "2         0           0        0             0      No  \n",
              "3         0           0        0             0      No  \n",
              "4         1           0        0             0      No  "
            ]
          },
          "metadata": {
            "tags": []
          },
          "execution_count": 100
        }
      ]
    },
    {
      "cell_type": "code",
      "metadata": {
        "id": "TEdpNt4D43ny",
        "colab_type": "code",
        "outputId": "1a3bb636-c6f5-4385-dcde-92d4d530cecd",
        "colab": {
          "base_uri": "https://localhost:8080/",
          "height": 297
        }
      },
      "source": [
        "data.describe()"
      ],
      "execution_count": 228,
      "outputs": [
        {
          "output_type": "execute_result",
          "data": {
            "text/html": [
              "<div>\n",
              "<style scoped>\n",
              "    .dataframe tbody tr th:only-of-type {\n",
              "        vertical-align: middle;\n",
              "    }\n",
              "\n",
              "    .dataframe tbody tr th {\n",
              "        vertical-align: top;\n",
              "    }\n",
              "\n",
              "    .dataframe thead th {\n",
              "        text-align: right;\n",
              "    }\n",
              "</style>\n",
              "<table border=\"1\" class=\"dataframe\">\n",
              "  <thead>\n",
              "    <tr style=\"text-align: right;\">\n",
              "      <th></th>\n",
              "      <th>PatientId</th>\n",
              "      <th>AppointmentID</th>\n",
              "      <th>Age</th>\n",
              "      <th>Scholarship</th>\n",
              "      <th>Hipertension</th>\n",
              "      <th>Diabetes</th>\n",
              "      <th>Alcoholism</th>\n",
              "      <th>Handcap</th>\n",
              "      <th>SMS_received</th>\n",
              "    </tr>\n",
              "  </thead>\n",
              "  <tbody>\n",
              "    <tr>\n",
              "      <th>count</th>\n",
              "      <td>1.105270e+05</td>\n",
              "      <td>1.105270e+05</td>\n",
              "      <td>110527.000000</td>\n",
              "      <td>110527.000000</td>\n",
              "      <td>110527.000000</td>\n",
              "      <td>110527.000000</td>\n",
              "      <td>110527.000000</td>\n",
              "      <td>110527.000000</td>\n",
              "      <td>110527.000000</td>\n",
              "    </tr>\n",
              "    <tr>\n",
              "      <th>mean</th>\n",
              "      <td>1.474963e+14</td>\n",
              "      <td>5.675305e+06</td>\n",
              "      <td>37.088874</td>\n",
              "      <td>0.098266</td>\n",
              "      <td>0.197246</td>\n",
              "      <td>0.071865</td>\n",
              "      <td>0.030400</td>\n",
              "      <td>0.022248</td>\n",
              "      <td>0.321026</td>\n",
              "    </tr>\n",
              "    <tr>\n",
              "      <th>std</th>\n",
              "      <td>2.560949e+14</td>\n",
              "      <td>7.129575e+04</td>\n",
              "      <td>23.110205</td>\n",
              "      <td>0.297675</td>\n",
              "      <td>0.397921</td>\n",
              "      <td>0.258265</td>\n",
              "      <td>0.171686</td>\n",
              "      <td>0.161543</td>\n",
              "      <td>0.466873</td>\n",
              "    </tr>\n",
              "    <tr>\n",
              "      <th>min</th>\n",
              "      <td>3.921784e+04</td>\n",
              "      <td>5.030230e+06</td>\n",
              "      <td>-1.000000</td>\n",
              "      <td>0.000000</td>\n",
              "      <td>0.000000</td>\n",
              "      <td>0.000000</td>\n",
              "      <td>0.000000</td>\n",
              "      <td>0.000000</td>\n",
              "      <td>0.000000</td>\n",
              "    </tr>\n",
              "    <tr>\n",
              "      <th>25%</th>\n",
              "      <td>4.172614e+12</td>\n",
              "      <td>5.640286e+06</td>\n",
              "      <td>18.000000</td>\n",
              "      <td>0.000000</td>\n",
              "      <td>0.000000</td>\n",
              "      <td>0.000000</td>\n",
              "      <td>0.000000</td>\n",
              "      <td>0.000000</td>\n",
              "      <td>0.000000</td>\n",
              "    </tr>\n",
              "    <tr>\n",
              "      <th>50%</th>\n",
              "      <td>3.173184e+13</td>\n",
              "      <td>5.680573e+06</td>\n",
              "      <td>37.000000</td>\n",
              "      <td>0.000000</td>\n",
              "      <td>0.000000</td>\n",
              "      <td>0.000000</td>\n",
              "      <td>0.000000</td>\n",
              "      <td>0.000000</td>\n",
              "      <td>0.000000</td>\n",
              "    </tr>\n",
              "    <tr>\n",
              "      <th>75%</th>\n",
              "      <td>9.439172e+13</td>\n",
              "      <td>5.725524e+06</td>\n",
              "      <td>55.000000</td>\n",
              "      <td>0.000000</td>\n",
              "      <td>0.000000</td>\n",
              "      <td>0.000000</td>\n",
              "      <td>0.000000</td>\n",
              "      <td>0.000000</td>\n",
              "      <td>1.000000</td>\n",
              "    </tr>\n",
              "    <tr>\n",
              "      <th>max</th>\n",
              "      <td>9.999816e+14</td>\n",
              "      <td>5.790484e+06</td>\n",
              "      <td>115.000000</td>\n",
              "      <td>1.000000</td>\n",
              "      <td>1.000000</td>\n",
              "      <td>1.000000</td>\n",
              "      <td>1.000000</td>\n",
              "      <td>4.000000</td>\n",
              "      <td>1.000000</td>\n",
              "    </tr>\n",
              "  </tbody>\n",
              "</table>\n",
              "</div>"
            ],
            "text/plain": [
              "          PatientId  AppointmentID            Age    Scholarship  \\\n",
              "count  1.105270e+05   1.105270e+05  110527.000000  110527.000000   \n",
              "mean   1.474963e+14   5.675305e+06      37.088874       0.098266   \n",
              "std    2.560949e+14   7.129575e+04      23.110205       0.297675   \n",
              "min    3.921784e+04   5.030230e+06      -1.000000       0.000000   \n",
              "25%    4.172614e+12   5.640286e+06      18.000000       0.000000   \n",
              "50%    3.173184e+13   5.680573e+06      37.000000       0.000000   \n",
              "75%    9.439172e+13   5.725524e+06      55.000000       0.000000   \n",
              "max    9.999816e+14   5.790484e+06     115.000000       1.000000   \n",
              "\n",
              "        Hipertension       Diabetes     Alcoholism        Handcap  \\\n",
              "count  110527.000000  110527.000000  110527.000000  110527.000000   \n",
              "mean        0.197246       0.071865       0.030400       0.022248   \n",
              "std         0.397921       0.258265       0.171686       0.161543   \n",
              "min         0.000000       0.000000       0.000000       0.000000   \n",
              "25%         0.000000       0.000000       0.000000       0.000000   \n",
              "50%         0.000000       0.000000       0.000000       0.000000   \n",
              "75%         0.000000       0.000000       0.000000       0.000000   \n",
              "max         1.000000       1.000000       1.000000       4.000000   \n",
              "\n",
              "        SMS_received  \n",
              "count  110527.000000  \n",
              "mean        0.321026  \n",
              "std         0.466873  \n",
              "min         0.000000  \n",
              "25%         0.000000  \n",
              "50%         0.000000  \n",
              "75%         1.000000  \n",
              "max         1.000000  "
            ]
          },
          "metadata": {
            "tags": []
          },
          "execution_count": 228
        }
      ]
    },
    {
      "cell_type": "code",
      "metadata": {
        "scrolled": true,
        "id": "JFJQqe7Z43n2",
        "colab_type": "code",
        "outputId": "96a60e7a-6990-4564-c77b-c67ed0db697e",
        "colab": {
          "base_uri": "https://localhost:8080/",
          "height": 340
        }
      },
      "source": [
        "data.info()"
      ],
      "execution_count": 229,
      "outputs": [
        {
          "output_type": "stream",
          "text": [
            "<class 'pandas.core.frame.DataFrame'>\n",
            "RangeIndex: 110527 entries, 0 to 110526\n",
            "Data columns (total 14 columns):\n",
            "PatientId         110527 non-null float64\n",
            "AppointmentID     110527 non-null int64\n",
            "Gender            110527 non-null object\n",
            "ScheduledDay      110527 non-null object\n",
            "AppointmentDay    110527 non-null object\n",
            "Age               110527 non-null int64\n",
            "Neighbourhood     110527 non-null object\n",
            "Scholarship       110527 non-null int64\n",
            "Hipertension      110527 non-null int64\n",
            "Diabetes          110527 non-null int64\n",
            "Alcoholism        110527 non-null int64\n",
            "Handcap           110527 non-null int64\n",
            "SMS_received      110527 non-null int64\n",
            "No-show           110527 non-null object\n",
            "dtypes: float64(1), int64(8), object(5)\n",
            "memory usage: 11.8+ MB\n"
          ],
          "name": "stdout"
        }
      ]
    },
    {
      "cell_type": "markdown",
      "metadata": {
        "id": "RjoO8bcx7aij",
        "colab_type": "text"
      },
      "source": [
        "# Feature Engineering"
      ]
    },
    {
      "cell_type": "code",
      "metadata": {
        "id": "iUXPZsQ6BS65",
        "colab_type": "code",
        "colab": {}
      },
      "source": [
        "# map labels to 1/0\n",
        "\n",
        "data['Labels'] = data['No-show'].map({'Yes': 1, 'No': 0})"
      ],
      "execution_count": 0,
      "outputs": []
    },
    {
      "cell_type": "markdown",
      "metadata": {
        "id": "iVhw6_B67i92",
        "colab_type": "text"
      },
      "source": [
        "Creating new features; \"high_temp\" and \"rainfall\" - giving highest temperature (in C) and total rainfall (in mm) for each appointment day."
      ]
    },
    {
      "cell_type": "code",
      "metadata": {
        "id": "6a12XxOTBD1i",
        "colab_type": "code",
        "colab": {}
      },
      "source": [
        "# map appointment days to historical weather data, obtained from https://www.worldweatheronline.com/vitoria-weather-history/espirito-santo/br.aspx\n",
        "\n",
        "# daily high temp (in C)\n",
        "temps_dict = {'2016-06-06T00:00:00Z' : 31,\n",
        "              '2016-05-16T00:00:00Z' : 28,\n",
        "              '2016-05-09T00:00:00Z' : 28,\n",
        "              '2016-05-30T00:00:00Z' : 28,\n",
        "              '2016-06-08T00:00:00Z' : 24,\n",
        "              '2016-05-11T00:00:00Z' : 29,\n",
        "              '2016-06-01T00:00:00Z' : 29,\n",
        "              '2016-06-07T00:00:00Z' : 27,\n",
        "              '2016-05-12T00:00:00Z' : 27,\n",
        "              '2016-05-02T00:00:00Z' : 24,\n",
        "              '2016-05-18T00:00:00Z' : 25,\n",
        "              '2016-05-17T00:00:00Z' : 28,\n",
        "              '2016-06-02T00:00:00Z' : 30,\n",
        "              '2016-05-10T00:00:00Z' : 28,\n",
        "              '2016-05-31T00:00:00Z' : 25,\n",
        "              '2016-05-05T00:00:00Z' : 26,\n",
        "              '2016-05-19T00:00:00Z' : 24,\n",
        "              '2016-05-03T00:00:00Z' : 25,\n",
        "              '2016-05-04T00:00:00Z' : 27,\n",
        "              '2016-06-03T00:00:00Z' : 27,\n",
        "              '2016-05-24T00:00:00Z' : 24,\n",
        "              '2016-05-13T00:00:00Z' : 25,\n",
        "              '2016-05-25T00:00:00Z' : 23,\n",
        "              '2016-05-06T00:00:00Z' : 26,\n",
        "              '2016-05-20T00:00:00Z' : 24,\n",
        "              '2016-04-29T00:00:00Z' : 24,\n",
        "              '2016-05-14T00:00:00Z' : 23}\n",
        "\n",
        "# total rainfall on that day (in mm)\n",
        "rain_dict = {'2016-06-06T00:00:00Z' : 0,\n",
        "              '2016-05-16T00:00:00Z' : 0.03,\n",
        "              '2016-05-09T00:00:00Z' : 0.12,\n",
        "              '2016-05-30T00:00:00Z' : 0.37,\n",
        "              '2016-06-08T00:00:00Z' : 2.67,\n",
        "              '2016-05-11T00:00:00Z' : 0,\n",
        "              '2016-06-01T00:00:00Z' : 0,\n",
        "              '2016-06-07T00:00:00Z' : 1.26,\n",
        "              '2016-05-12T00:00:00Z' : 5.3,\n",
        "              '2016-05-02T00:00:00Z' : 0,\n",
        "              '2016-05-18T00:00:00Z' : 1.67,\n",
        "              '2016-05-17T00:00:00Z' : 0.74,\n",
        "              '2016-06-02T00:00:00Z' : 0.38,\n",
        "              '2016-05-10T00:00:00Z' : 0,\n",
        "              '2016-05-31T00:00:00Z' : 1.53,\n",
        "              '2016-05-05T00:00:00Z' : 0.02,\n",
        "              '2016-05-19T00:00:00Z' : 0.56,\n",
        "              '2016-05-03T00:00:00Z' : 0.47,\n",
        "              '2016-05-04T00:00:00Z' : 0.13,\n",
        "              '2016-06-03T00:00:00Z' : 2.2,\n",
        "              '2016-05-24T00:00:00Z' : 0.1,\n",
        "              '2016-05-13T00:00:00Z' : 0.28,\n",
        "              '2016-05-25T00:00:00Z' : 1.08,\n",
        "              '2016-05-06T00:00:00Z' : 0.34,\n",
        "              '2016-05-20T00:00:00Z' : 0.84,\n",
        "              '2016-04-29T00:00:00Z' : 3.58,\n",
        "              '2016-05-14T00:00:00Z' : 1.16}          \n",
        "\n",
        "data['high_temp'] = data['AppointmentDay'].map(temps_dict)  \n",
        "data['rainfall'] = data['AppointmentDay'].map(rain_dict)\n"
      ],
      "execution_count": 0,
      "outputs": []
    },
    {
      "cell_type": "markdown",
      "metadata": {
        "id": "_h4OG56e7yR-",
        "colab_type": "text"
      },
      "source": [
        "Creating new feature - \"impeachment_vote\" - most significant news story in Brazil during this range of dates was Senate voting to impeach the president on May 12, 2016.  Can distractions like this affect appointment compliance?"
      ]
    },
    {
      "cell_type": "code",
      "metadata": {
        "id": "8rtLemhsYz06",
        "colab_type": "code",
        "colab": {}
      },
      "source": [
        "# 1 for impeachment date, 0 for all others\n",
        "data['impeachment_vote'] = 0\n",
        "data['impeachment_vote'] = data['AppointmentDay'].map(lambda x: 1 if x == '2016-05-12T00:00:00Z' else 0)"
      ],
      "execution_count": 0,
      "outputs": []
    },
    {
      "cell_type": "markdown",
      "metadata": {
        "id": "cXUGtxcLNW49",
        "colab_type": "text"
      },
      "source": [
        "Tried to create a new features of neighbourhood, by finding the neighbourhood with highest no-show frequency that is also on the top 10 list of most prevalent neighbourhoods in the data, it was 'Bonfim.'\n",
        "\n",
        "However this has weak correlation with the labels and isn't used. "
      ]
    },
    {
      "cell_type": "code",
      "metadata": {
        "id": "RuLZrDGEo2gm",
        "colab_type": "code",
        "outputId": "32b7a30c-3579-42da-83d2-ff2dea2312b8",
        "colab": {
          "base_uri": "https://localhost:8080/",
          "height": 390
        }
      },
      "source": [
        "#Neighbourhoods\n",
        "pd.crosstab(data['Neighbourhood'],data['No-show']).apply(lambda x: x/x.sum(), axis=1).head(10).sort_values(by='Yes',ascending=False)"
      ],
      "execution_count": 233,
      "outputs": [
        {
          "output_type": "execute_result",
          "data": {
            "text/html": [
              "<div>\n",
              "<style scoped>\n",
              "    .dataframe tbody tr th:only-of-type {\n",
              "        vertical-align: middle;\n",
              "    }\n",
              "\n",
              "    .dataframe tbody tr th {\n",
              "        vertical-align: top;\n",
              "    }\n",
              "\n",
              "    .dataframe thead th {\n",
              "        text-align: right;\n",
              "    }\n",
              "</style>\n",
              "<table border=\"1\" class=\"dataframe\">\n",
              "  <thead>\n",
              "    <tr style=\"text-align: right;\">\n",
              "      <th>No-show</th>\n",
              "      <th>No</th>\n",
              "      <th>Yes</th>\n",
              "    </tr>\n",
              "    <tr>\n",
              "      <th>Neighbourhood</th>\n",
              "      <th></th>\n",
              "      <th></th>\n",
              "    </tr>\n",
              "  </thead>\n",
              "  <tbody>\n",
              "    <tr>\n",
              "      <th>CARATOÍRA</th>\n",
              "      <td>0.769591</td>\n",
              "      <td>0.230409</td>\n",
              "    </tr>\n",
              "    <tr>\n",
              "      <th>ANDORINHAS</th>\n",
              "      <td>0.769673</td>\n",
              "      <td>0.230327</td>\n",
              "    </tr>\n",
              "    <tr>\n",
              "      <th>BENTO FERREIRA</th>\n",
              "      <td>0.775058</td>\n",
              "      <td>0.224942</td>\n",
              "    </tr>\n",
              "    <tr>\n",
              "      <th>ARIOVALDO FAVALESSA</th>\n",
              "      <td>0.780142</td>\n",
              "      <td>0.219858</td>\n",
              "    </tr>\n",
              "    <tr>\n",
              "      <th>BARRO VERMELHO</th>\n",
              "      <td>0.784870</td>\n",
              "      <td>0.215130</td>\n",
              "    </tr>\n",
              "    <tr>\n",
              "      <th>BELA VISTA</th>\n",
              "      <td>0.798637</td>\n",
              "      <td>0.201363</td>\n",
              "    </tr>\n",
              "    <tr>\n",
              "      <th>BONFIM</th>\n",
              "      <td>0.801659</td>\n",
              "      <td>0.198341</td>\n",
              "    </tr>\n",
              "    <tr>\n",
              "      <th>BOA VISTA</th>\n",
              "      <td>0.814103</td>\n",
              "      <td>0.185897</td>\n",
              "    </tr>\n",
              "    <tr>\n",
              "      <th>ANTÔNIO HONÓRIO</th>\n",
              "      <td>0.815498</td>\n",
              "      <td>0.184502</td>\n",
              "    </tr>\n",
              "    <tr>\n",
              "      <th>AEROPORTO</th>\n",
              "      <td>0.875000</td>\n",
              "      <td>0.125000</td>\n",
              "    </tr>\n",
              "  </tbody>\n",
              "</table>\n",
              "</div>"
            ],
            "text/plain": [
              "No-show                    No       Yes\n",
              "Neighbourhood                          \n",
              "CARATOÍRA            0.769591  0.230409\n",
              "ANDORINHAS           0.769673  0.230327\n",
              "BENTO FERREIRA       0.775058  0.224942\n",
              "ARIOVALDO FAVALESSA  0.780142  0.219858\n",
              "BARRO VERMELHO       0.784870  0.215130\n",
              "BELA VISTA           0.798637  0.201363\n",
              "BONFIM               0.801659  0.198341\n",
              "BOA VISTA            0.814103  0.185897\n",
              "ANTÔNIO HONÓRIO      0.815498  0.184502\n",
              "AEROPORTO            0.875000  0.125000"
            ]
          },
          "metadata": {
            "tags": []
          },
          "execution_count": 233
        }
      ]
    },
    {
      "cell_type": "code",
      "metadata": {
        "id": "rNNhV_XpzhDx",
        "colab_type": "code",
        "colab": {}
      },
      "source": [
        "# Bonfim is the neighbourhood with largest proportion of \"yes,\" that is also on the top 10 most prevalent neighbourhoods int the dataset\n",
        "data['Neighbourhood_bonfim'] = 0\n",
        "data['Neighbourhood_bonfim'][data['Neighbourhood']=='BONFIM'] = 1"
      ],
      "execution_count": 0,
      "outputs": []
    },
    {
      "cell_type": "markdown",
      "metadata": {
        "id": "HLUG2sbCClRY",
        "colab_type": "text"
      },
      "source": [
        "Create new time-based features;\n",
        "\n",
        "days_to_appt - days between scheduled date and appt date \n",
        "\n",
        "day_of_appt - day of the week of the appointment\n",
        "\n",
        "day_of_scheduling - day of the week of scheduling date\n",
        "\n",
        "month_of_appt - month of the year of the appointment\n",
        "\n",
        "month_of_scheduling - month of the year of the scheduling date\n",
        "\n",
        "hour_of_scheduling - hour of the scheduling time (there is no time for appointment dates)\n"
      ]
    },
    {
      "cell_type": "code",
      "metadata": {
        "id": "6Tnrye3t43oG",
        "colab_type": "code",
        "colab": {}
      },
      "source": [
        "# convert date objects to datetime format (without time part)\n",
        "data['ScheduledDayDT'] = pd.to_datetime(data['ScheduledDay']).dt.date\n",
        "data['ScheduledDayDT'] = pd.to_datetime((data['ScheduledDayDT']),utc=True)\n",
        "data['AppointmentDayDT'] = pd.to_datetime(data['AppointmentDay'])"
      ],
      "execution_count": 0,
      "outputs": []
    },
    {
      "cell_type": "code",
      "metadata": {
        "id": "syenBaBy43oJ",
        "colab_type": "code",
        "colab": {}
      },
      "source": [
        "# create new feature - \"days_to_appt\" - no. of days between scheduled date and appt date\n",
        "data['time_between_appts'] = data['AppointmentDayDT']-data['ScheduledDayDT']\n",
        "data['days_to_appt'] = data['time_between_appts']/np.timedelta64(1,'D')"
      ],
      "execution_count": 0,
      "outputs": []
    },
    {
      "cell_type": "code",
      "metadata": {
        "id": "PqLwhMYp43oM",
        "colab_type": "code",
        "colab": {}
      },
      "source": [
        "# create new features - day of the week and month of the year of the scheduling and appointment dates, hour of scheduling\n",
        "data['day_of_appt'] = data['AppointmentDayDT'].dt.dayofweek\n",
        "data['day_of_scheduling'] = data['ScheduledDayDT'].dt.dayofweek\n",
        "data['month_of_appt'] = data['AppointmentDayDT'].dt.month\n",
        "data['month_of_scheduling'] = data['ScheduledDayDT'].dt.month\n",
        "data['hour_of_scheduling'] = pd.to_datetime(data['ScheduledDay']).dt.hour"
      ],
      "execution_count": 0,
      "outputs": []
    },
    {
      "cell_type": "markdown",
      "metadata": {
        "id": "fF-AYYwOx1XS",
        "colab_type": "text"
      },
      "source": [
        "Not using these but maybe useful to look at;"
      ]
    },
    {
      "cell_type": "code",
      "metadata": {
        "id": "kmxeqArI43oP",
        "colab_type": "code",
        "colab": {}
      },
      "source": [
        "#Has the same Patient been there before (e.g same PatientID appears multiple times)?\n",
        "data['count_visits'] = data.groupby('PatientId')['PatientId'].transform('count')\n",
        "#data.loc[data['PatientId'] == 22638656.0]\n",
        "\n",
        "#How many total no-shows does the specific patient have in the dataset?\n",
        "data['total_no_shows'] = data.groupby('PatientId')['Labels'].transform('sum')\n"
      ],
      "execution_count": 0,
      "outputs": []
    },
    {
      "cell_type": "markdown",
      "metadata": {
        "id": "TBLwTriHDRzG",
        "colab_type": "text"
      },
      "source": [
        "Create new features regarding past patient history;\n",
        "\n",
        "prior_no_shows - # of no shows patient had prior to current appt\n",
        "\n",
        "prior_visits - # of visits patient had prior to current appt\n",
        "\n",
        "visit_freq - frequency of visits (appts/day for each pt, = 0 if they only had one appt \n",
        "in the dataset)"
      ]
    },
    {
      "cell_type": "code",
      "metadata": {
        "id": "WNHRSJgpZ0c4",
        "colab_type": "code",
        "colab": {}
      },
      "source": [
        "# loop below takes several mins to run, you can just read in the data by running the cell below this one\n",
        "\n",
        "data['prior_no_shows'] = 0\n",
        "data['prior_visits'] = 0\n",
        "data['visit_freq'] = 0\n",
        "\n",
        "for i in data.index: \n",
        "  \n",
        "  # how many no-shows and overall visits happened for this PatientId, prior to current date?\n",
        "  data.loc[i,'prior_no_shows']=len(data[(data['PatientId']==data.loc[i,'PatientId']) & (data['AppointmentDayDT']<data.loc[i,'AppointmentDayDT']) & (data['Labels']==1)])\n",
        "  data.loc[i,'prior_visits']=len(data[(data['PatientId']==data.loc[i,'PatientId']) & (data['AppointmentDayDT']<data.loc[i,'AppointmentDayDT'])])\n",
        "\n",
        "  # visit frequency = total visits/(latest-earliest visit)\n",
        "  max_date = data[data['PatientId']==data.loc[i,'PatientId']]['AppointmentDayDT'].max()\n",
        "  min_date = data[data['PatientId']==data.loc[i,'PatientId']]['AppointmentDayDT'].min()\n",
        "  \n",
        "  if (max_date>min_date): # if there's only 1 appt it stays as zero\n",
        "      data.loc[i,'visit_freq'] = float(len(data[data['PatientId']==data.loc[i,'PatientId']]))/((max_date-min_date)/np.timedelta64(1,'D'))   \n",
        "\n",
        "# write the new columns to disk or google drive\n",
        "data[['prior_no_shows','prior_visits','visit_freq']].to_csv('prior_no_shows.csv')    \n",
        "!cp prior_no_shows.csv drive/My\\ Drive/  # only if using colab"
      ],
      "execution_count": 0,
      "outputs": []
    },
    {
      "cell_type": "code",
      "metadata": {
        "id": "WoEhEZ09zrg7",
        "colab_type": "code",
        "colab": {}
      },
      "source": [
        "# use this to just read in the data instead of running the cells above\n",
        "prior_no_shows = pd.read_csv('/content/drive/My Drive/prior_no_shows.csv') # change to local dir if not using colab\n",
        "data['prior_no_shows'] = prior_no_shows['prior_no_shows']\n",
        "data['prior_visits'] = prior_no_shows['prior_visits']\n",
        "data['visit_freq'] = prior_no_shows['visit_freq']\n"
      ],
      "execution_count": 0,
      "outputs": []
    },
    {
      "cell_type": "markdown",
      "metadata": {
        "id": "1UeYDeBy43oW",
        "colab_type": "text"
      },
      "source": [
        "Correlation and Heat map"
      ]
    },
    {
      "cell_type": "code",
      "metadata": {
        "scrolled": true,
        "id": "aXrSCzmq43oX",
        "colab_type": "code",
        "outputId": "1cc90bc2-e18e-4b5c-a6e0-912c8bd4d589",
        "colab": {
          "base_uri": "https://localhost:8080/",
          "height": 459
        }
      },
      "source": [
        "#Correlation analysis\n",
        "corr=data.corr()\n",
        "corr['Labels'].sort_values(ascending=False)"
      ],
      "execution_count": 242,
      "outputs": [
        {
          "output_type": "execute_result",
          "data": {
            "text/plain": [
              "Labels                  1.000000\n",
              "total_no_shows          0.462508\n",
              "days_to_appt            0.186231\n",
              "SMS_received            0.126431\n",
              "prior_no_shows          0.078592\n",
              "hour_of_scheduling      0.060697\n",
              "Scholarship             0.029135\n",
              "day_of_scheduling       0.006020\n",
              "day_of_appt             0.001165\n",
              "Alcoholism             -0.000196\n",
              "high_temp              -0.001033\n",
              "Neighbourhood_bonfim   -0.001435\n",
              "PatientId              -0.001461\n",
              "impeachment_vote       -0.005801\n",
              "Handcap                -0.006076\n",
              "rainfall               -0.014748\n",
              "Diabetes               -0.015180\n",
              "visit_freq             -0.016729\n",
              "prior_visits           -0.020710\n",
              "month_of_appt          -0.020886\n",
              "count_visits           -0.031194\n",
              "Hipertension           -0.035701\n",
              "Age                    -0.060319\n",
              "month_of_scheduling    -0.160862\n",
              "AppointmentID          -0.162602\n",
              "Name: Labels, dtype: float64"
            ]
          },
          "metadata": {
            "tags": []
          },
          "execution_count": 242
        }
      ]
    },
    {
      "cell_type": "code",
      "metadata": {
        "id": "azci-2_M43ob",
        "colab_type": "code",
        "outputId": "a027db26-238b-4e35-f099-54b9271aa18a",
        "colab": {
          "base_uri": "https://localhost:8080/",
          "height": 376
        }
      },
      "source": [
        "#Heatmap\n",
        "ax = sns.heatmap(corr,  square=True)"
      ],
      "execution_count": 243,
      "outputs": [
        {
          "output_type": "display_data",
          "data": {
            "image/png": "[encoded data removed]",
            "text/plain": [
              "<Figure size 432x288 with 2 Axes>"
            ]
          },
          "metadata": {
            "tags": []
          }
        }
      ]
    },
    {
      "cell_type": "code",
      "metadata": {
        "id": "_AiVKMRB43oj",
        "colab_type": "code",
        "colab": {
          "base_uri": "https://localhost:8080/",
          "height": 34
        },
        "outputId": "8c77ad62-10b6-43e3-a131-1a6dae7aea30"
      },
      "source": [
        "# check balance of labels\n",
        "\n",
        "no = len(data[data['No-show']=='No'])\n",
        "yes = len(data[data['No-show']=='Yes'])\n",
        "total = len(data)\n",
        "\n",
        "print('Number of Rows with No-Show = Yes: ', yes,'(',np.round(yes/total*100,2),'%), Number of rows with No-show = No: ', no,'(',np.round(no/total*100,2),'%)')"
      ],
      "execution_count": 244,
      "outputs": [
        {
          "output_type": "stream",
          "text": [
            "Number of Rows with No-Show = Yes:  22319 ( 20.19 %), Number of rows with No-show = No:  88208 ( 79.81 %)\n"
          ],
          "name": "stdout"
        }
      ]
    },
    {
      "cell_type": "code",
      "metadata": {
        "id": "PFYhOfE6ED8Z",
        "colab_type": "code",
        "colab": {}
      },
      "source": [
        "# keep only desired features and labels\n",
        "data_clean = data[['Labels','Gender','Age','SMS_received','day_of_appt','day_of_scheduling','month_of_appt','month_of_scheduling','hour_of_scheduling','days_to_appt','prior_no_shows','prior_visits',\n",
        "                   'high_temp','rainfall','visit_freq','Scholarship']]\n",
        "\n",
        "# disease features are dropped for now due to strong correlation with Age and very weark correlation with Labels"
      ],
      "execution_count": 0,
      "outputs": []
    },
    {
      "cell_type": "markdown",
      "metadata": {
        "id": "izwTxgiM43on",
        "colab_type": "text"
      },
      "source": [
        "## 3. Prepare for Modelling\n",
        "\n",
        "The cleaned data is divided into train/test sets (70/30) ratio. OneHotEncoder() is used for all categorical features (except the ones already encoded from the source) and StandardScaler() for numerical features."
      ]
    },
    {
      "cell_type": "code",
      "metadata": {
        "id": "FGXgaFsEZhfD",
        "colab_type": "code",
        "outputId": "3b98b2b8-388a-4a0c-e629-6f12b1876042",
        "colab": {
          "base_uri": "https://localhost:8080/",
          "height": 102
        }
      },
      "source": [
        "data_clean.columns"
      ],
      "execution_count": 258,
      "outputs": [
        {
          "output_type": "execute_result",
          "data": {
            "text/plain": [
              "Index(['Labels', 'Gender', 'Age', 'SMS_received', 'day_of_appt',\n",
              "       'day_of_scheduling', 'month_of_appt', 'month_of_scheduling',\n",
              "       'hour_of_scheduling', 'days_to_appt', 'prior_no_shows', 'prior_visits',\n",
              "       'high_temp', 'rainfall', 'visit_freq', 'Scholarship'],\n",
              "      dtype='object')"
            ]
          },
          "metadata": {
            "tags": []
          },
          "execution_count": 258
        }
      ]
    },
    {
      "cell_type": "code",
      "metadata": {
        "id": "qYnfpNWH43or",
        "colab_type": "code",
        "outputId": "14a0d611-6dc8-47da-b10f-aa4d811b4f6d",
        "colab": {
          "base_uri": "https://localhost:8080/",
          "height": 34
        }
      },
      "source": [
        "# split into test/train\n",
        "train_set,test_set = train_test_split(data_clean,test_size=0.3,stratify=data_clean[\"Labels\"])\n",
        "print(len(train_set), \"train +\", len(test_set), \"test\")\n",
        "\n",
        "# divide into features/labels\n",
        "train_features = train_set.drop('Labels',axis=1)\n",
        "train_labels = train_set[['Labels']]\n",
        "test_features = test_set.drop('Labels',axis=1)\n",
        "test_labels = test_set[['Labels']]"
      ],
      "execution_count": 259,
      "outputs": [
        {
          "output_type": "stream",
          "text": [
            "77368 train + 33159 test\n"
          ],
          "name": "stdout"
        }
      ]
    },
    {
      "cell_type": "code",
      "metadata": {
        "id": "IIlo_sf343o9",
        "colab_type": "code",
        "colab": {}
      },
      "source": [
        "# transform numerical and categorical features using StandardScaler() and OneHotEncoder()\n",
        "num_attribs = ['Age','days_to_appt','prior_no_shows','high_temp','rainfall','prior_visits','visit_freq']\n",
        "cat_attribs_one_hot = ['Gender','day_of_appt','day_of_scheduling','month_of_appt','month_of_scheduling','hour_of_scheduling']\n",
        "\n",
        "pipeline_features = ColumnTransformer(\n",
        "    [(\"num\",StandardScaler(),num_attribs),(\"cat\",OneHotEncoder(categories='auto',handle_unknown='ignore'),cat_attribs_one_hot)],remainder='passthrough')\n",
        "\n",
        "train_features_prepared = pipeline_features.fit_transform(train_features)\n",
        "train_labels_prepared = train_labels.values\n",
        "\n",
        "test_features_prepared = pipeline_features.transform(test_features)\n",
        "test_labels_prepared = test_labels.values"
      ],
      "execution_count": 0,
      "outputs": []
    },
    {
      "cell_type": "code",
      "metadata": {
        "scrolled": true,
        "id": "eBNDq8il43pA",
        "colab_type": "code",
        "outputId": "d69330f4-76aa-4ab4-ee0d-d8fcd36ef83e",
        "colab": {
          "base_uri": "https://localhost:8080/",
          "height": 34
        }
      },
      "source": [
        "train_features_prepared.shape"
      ],
      "execution_count": 261,
      "outputs": [
        {
          "output_type": "execute_result",
          "data": {
            "text/plain": [
              "(77368, 49)"
            ]
          },
          "metadata": {
            "tags": []
          },
          "execution_count": 261
        }
      ]
    },
    {
      "cell_type": "code",
      "metadata": {
        "id": "HlgAIOXv43pF",
        "colab_type": "code",
        "outputId": "2a76837a-0a81-464c-f3fd-26adeadd9306",
        "colab": {
          "base_uri": "https://localhost:8080/",
          "height": 34
        }
      },
      "source": [
        "test_features_prepared.shape"
      ],
      "execution_count": 262,
      "outputs": [
        {
          "output_type": "execute_result",
          "data": {
            "text/plain": [
              "(33159, 49)"
            ]
          },
          "metadata": {
            "tags": []
          },
          "execution_count": 262
        }
      ]
    },
    {
      "cell_type": "markdown",
      "metadata": {
        "id": "W2qqd0iO43pS",
        "colab_type": "text"
      },
      "source": [
        "## 4. Testing Some Models\n",
        "\n",
        "Logistic Regression, Random Forest and XGBoost Classifiers are tested below on train set, using 3 cv-folds.  Each is run using no class weighting first, followed by setting class_weight = 'balanced'.  Setting weight to 'balanced' causes the classifiers to put more weight on results of the minority class ('Yes') to try and account for class imbalance."
      ]
    },
    {
      "cell_type": "code",
      "metadata": {
        "id": "0hzerUnf43pT",
        "colab_type": "code",
        "colab": {}
      },
      "source": [
        "# This Function Runs Several Classifiers on Training Data with 3 cv-folds, Prints Out \"metric\" score of each Model\n",
        " \n",
        "def testClassifiers(features,labels,metric=[]):\n",
        " \n",
        " # all models\n",
        "    DTC=DecisionTreeClassifier()\n",
        "    GBC=GradientBoostingClassifier()\n",
        "    KNN=KNeighborsClassifier()\n",
        "    SGD=SGDClassifier()\n",
        "    SVC_rbf = SVC(kernel=\"rbf\",class_weight='balanced') #This runs very slow!\n",
        "    SVC_lin = SVC(kernel='linear',class_weight='balanced')\n",
        "    ADA = AdaBoostClassifier()\n",
        "    MLP = MLPClassifier()\n",
        "    GNB = GaussianNB()\n",
        " \n",
        "# models used for now\n",
        "    LOG_no_weights=LogisticRegression()\n",
        "    LOG_weighted=LogisticRegression(class_weight='balanced')\n",
        "    RFC_no_weights=RandomForestClassifier(n_estimators=100)\n",
        "    RFC_weighted=RandomForestClassifier(n_estimators=100,class_weight='balanced')\n",
        "    XGB_no_weights = XGBClassifier()\n",
        "    XGB_weighted = XGBClassifier(scale_pos_weight=4)\n",
        "\n",
        "    classifier_list = [LOG_no_weights,LOG_weighted,RFC_no_weights,RFC_weighted,XGB_no_weights,XGB_weighted]\n",
        "\n",
        "    for c in classifier_list:\n",
        "        print(type(c).__name__)\n",
        "\n",
        "        for m in metric:\n",
        "            cv_results = cross_val_score(c,features,labels,cv=3,scoring=m)\n",
        "            print('-------------------')\n",
        "            print('Scoring Metric: ', m)\n",
        "            print('Scores: ',cv_results)\n",
        "            print('Mean Score: ',np.round(np.mean(cv_results),2))\n",
        "            print('')"
      ],
      "execution_count": 0,
      "outputs": []
    },
    {
      "cell_type": "code",
      "metadata": {
        "id": "1NqAEBdc43pX",
        "colab_type": "code",
        "outputId": "cb16b396-0f13-4380-c837-9e171cdce0da",
        "colab": {
          "base_uri": "https://localhost:8080/",
          "height": 1000
        }
      },
      "source": [
        "# testing out Logistic Regression, Random Forest, XGBoost (each unweighted followed by weighted)\n",
        "testClassifiers(train_features_prepared,train_labels_prepared, ['accuracy','precision','recall'])"
      ],
      "execution_count": 264,
      "outputs": [
        {
          "output_type": "stream",
          "text": [
            "LogisticRegression\n",
            "-------------------\n",
            "Scoring Metric:  accuracy\n",
            "Scores:  [0.79654905 0.79728577 0.79556383]\n",
            "Mean Score:  0.8\n",
            "\n",
            "-------------------\n",
            "Scoring Metric:  precision\n",
            "Scores:  [0.44380403 0.46855346 0.41144414]\n",
            "Mean Score:  0.44\n",
            "\n",
            "-------------------\n",
            "Scoring Metric:  recall\n",
            "Scores:  [0.02956989 0.02860983 0.02899942]\n",
            "Mean Score:  0.03\n",
            "\n",
            "LogisticRegression\n",
            "-------------------\n",
            "Scoring Metric:  accuracy\n",
            "Scores:  [0.66297014 0.65917022 0.66212967]\n",
            "Mean Score:  0.66\n",
            "\n",
            "-------------------\n",
            "Scoring Metric:  precision\n",
            "Scores:  [0.32041237 0.31930993 0.32159577]\n",
            "Mean Score:  0.32\n",
            "\n",
            "-------------------\n",
            "Scoring Metric:  recall\n",
            "Scores:  [0.59677419 0.60771889 0.60687536]\n",
            "Mean Score:  0.6\n",
            "\n",
            "RandomForestClassifier\n",
            "-------------------\n",
            "Scoring Metric:  accuracy\n",
            "Scores:  [0.79127569 0.79081039 0.79234528]\n",
            "Mean Score:  0.79\n",
            "\n",
            "-------------------\n",
            "Scoring Metric:  precision\n",
            "Scores:  [0.44770858 0.42523923 0.44404973]\n",
            "Mean Score:  0.44\n",
            "\n",
            "-------------------\n",
            "Scoring Metric:  recall\n",
            "Scores:  [0.1499616  0.14266513 0.14365278]\n",
            "Mean Score:  0.15\n",
            "\n",
            "RandomForestClassifier\n",
            "-------------------\n",
            "Scoring Metric:  accuracy\n",
            "Scores:  [0.79119814 0.79065529 0.79145339]\n",
            "Mean Score:  0.79\n",
            "\n",
            "-------------------\n",
            "Scoring Metric:  precision\n",
            "Scores:  [0.44990548 0.44547135 0.43540373]\n",
            "Mean Score:  0.44\n",
            "\n",
            "-------------------\n",
            "Scoring Metric:  recall\n",
            "Scores:  [0.13709677 0.13536866 0.13616286]\n",
            "Mean Score:  0.14\n",
            "\n",
            "XGBClassifier\n",
            "-------------------\n",
            "Scoring Metric:  accuracy\n",
            "Scores:  [0.79926328 0.79972858 0.79967427]\n",
            "Mean Score:  0.8\n",
            "\n",
            "-------------------\n",
            "Scoring Metric:  precision\n",
            "Scores:  [0.58757062 0.61025641 0.61325967]\n",
            "Mean Score:  0.6\n",
            "\n",
            "-------------------\n",
            "Scoring Metric:  recall\n",
            "Scores:  [0.01996928 0.02284946 0.02131746]\n",
            "Mean Score:  0.02\n",
            "\n",
            "XGBClassifier\n",
            "-------------------\n",
            "Scoring Metric:  accuracy\n",
            "Scores:  [0.59131446 0.58553703 0.59624632]\n",
            "Mean Score:  0.59\n",
            "\n",
            "-------------------\n",
            "Scoring Metric:  precision\n",
            "Scores:  [0.3105996  0.30721069 0.31169959]\n",
            "Mean Score:  0.31\n",
            "\n",
            "-------------------\n",
            "Scoring Metric:  recall\n",
            "Scores:  [0.83947773 0.83851767 0.8273478 ]\n",
            "Mean Score:  0.84\n",
            "\n"
          ],
          "name": "stdout"
        }
      ]
    },
    {
      "cell_type": "markdown",
      "metadata": {
        "id": "9xKc5tlFK6II",
        "colab_type": "text"
      },
      "source": [
        ""
      ]
    },
    {
      "cell_type": "markdown",
      "metadata": {
        "id": "oijNonmPK6Yv",
        "colab_type": "text"
      },
      "source": [
        ""
      ]
    },
    {
      "cell_type": "code",
      "metadata": {
        "id": "s0WI_PNDJmgm",
        "colab_type": "code",
        "colab": {}
      },
      "source": [
        "### MESSING AROUND WITH RESAMPLING BELOW, IGNORE FOR NOW"
      ],
      "execution_count": 0,
      "outputs": []
    },
    {
      "cell_type": "markdown",
      "metadata": {
        "id": "5awGx3UzJWWl",
        "colab_type": "text"
      },
      "source": [
        "I was playing around trying out models on a 50/50 yes/no sample of the train_set, and then fitting them on the original test set.  Since the models above all have accuracy suspiciously close to 80%, which is the fraction of labels that are \"no.\"  \n",
        "\n",
        "So this is able to improve recall and F1 but accuracy/precision is usually worse.  "
      ]
    },
    {
      "cell_type": "code",
      "metadata": {
        "id": "y_PONGKT43po",
        "colab_type": "code",
        "outputId": "d798645c-0126-4efe-9c80-6e38c8ea17b5",
        "colab": {
          "base_uri": "https://localhost:8080/",
          "height": 68
        }
      },
      "source": [
        "# sample the \"No-show=no\" data so that yes and no are in equal amounts\n",
        "yes = len(train_set[train_set['Labels']==1])\n",
        "\n",
        "train_set_yes = train_set[train_set['Labels']==1]\n",
        "train_set_no = train_set[train_set['Labels']==0].sample(yes)\n",
        "train_set_5050 = pd.concat([train_set_yes,train_set_no])\n",
        "train_set_5050['Labels'].value_counts()\n"
      ],
      "execution_count": 0,
      "outputs": [
        {
          "output_type": "execute_result",
          "data": {
            "text/plain": [
              "1    15623\n",
              "0    15623\n",
              "Name: Labels, dtype: int64"
            ]
          },
          "metadata": {
            "tags": []
          },
          "execution_count": 286
        }
      ]
    },
    {
      "cell_type": "code",
      "metadata": {
        "id": "4SivN4-W43ps",
        "colab_type": "code",
        "outputId": "4515ff76-6a80-41bc-e46e-7668b2d1c7a0",
        "colab": {
          "base_uri": "https://localhost:8080/",
          "height": 34
        }
      },
      "source": [
        "# prepare balanced train data, and train a Random Forest Classifier on it\n",
        "train_features_balanced = train_set_5050.drop('Labels',axis=1)\n",
        "train_labels_balanced = train_set_5050[['Labels']]\n",
        "train_features_balanced_prepared = pipeline_features.transform(train_features_balanced)\n",
        "train_labels_balanced_prepared = train_labels_balanced.values\n",
        "\n",
        "train_features_balanced_prepared.shape"
      ],
      "execution_count": 0,
      "outputs": [
        {
          "output_type": "execute_result",
          "data": {
            "text/plain": [
              "(31246, 46)"
            ]
          },
          "metadata": {
            "tags": []
          },
          "execution_count": 287
        }
      ]
    },
    {
      "cell_type": "code",
      "metadata": {
        "id": "RdV5vlj93J4M",
        "colab_type": "code",
        "outputId": "2007931f-13f4-4f33-96b0-87b60fef7b6e",
        "colab": {
          "base_uri": "https://localhost:8080/",
          "height": 85
        }
      },
      "source": [
        "RFC2 = SVC(kernel='linear')\n",
        "RFC2.fit(train_features_balanced_prepared,train_labels_balanced_prepared)"
      ],
      "execution_count": 0,
      "outputs": [
        {
          "output_type": "execute_result",
          "data": {
            "text/plain": [
              "SVC(C=1.0, cache_size=200, class_weight=None, coef0=0.0,\n",
              "    decision_function_shape='ovr', degree=3, gamma='auto_deprecated',\n",
              "    kernel='linear', max_iter=-1, probability=False, random_state=None,\n",
              "    shrinking=True, tol=0.001, verbose=False)"
            ]
          },
          "metadata": {
            "tags": []
          },
          "execution_count": 315
        }
      ]
    },
    {
      "cell_type": "code",
      "metadata": {
        "id": "VpA0XeMm43pv",
        "colab_type": "code",
        "outputId": "4f7b4522-f023-4441-9a48-721ebde61c09",
        "colab": {
          "base_uri": "https://localhost:8080/",
          "height": 153
        }
      },
      "source": [
        "# now test resulting model on original (imbalanced) test data\n",
        "pred = RFC2.predict(test_features_prepared)\n",
        "print('Accuracy: ',accuracy_score(test_labels_prepared,pred))\n",
        "print('Recall: ',recall_score(test_labels_prepared,pred))\n",
        "print('Precision: ',precision_score(test_labels_prepared,pred))\n",
        "print('ROC AUC: ',roc_auc_score(test_labels_prepared,pred))\n",
        "print('F1: ',f1_score(test_labels_prepared,pred))\n",
        "print(confusion_matrix(test_labels_prepared,pred))\n",
        "print('Amount of No/Yes in Predicted Values: ',np.bincount(pred))"
      ],
      "execution_count": 0,
      "outputs": [
        {
          "output_type": "stream",
          "text": [
            "Accuracy:  0.6677221870382098\n",
            "Recall:  0.5159796893667862\n",
            "Precision:  0.30760327635327633\n",
            "ROC AUC:  0.6110488327044035\n",
            "F1:  0.3854306113342258\n",
            "[[18686  7777]\n",
            " [ 3241  3455]]\n",
            "Amount of No/Yes in Predicted Values:  [21927 11232]\n"
          ],
          "name": "stdout"
        }
      ]
    },
    {
      "cell_type": "code",
      "metadata": {
        "id": "8C6Hqsbf43py",
        "colab_type": "code",
        "colab": {}
      },
      "source": [
        ""
      ],
      "execution_count": 0,
      "outputs": []
    },
    {
      "cell_type": "code",
      "metadata": {
        "id": "9kUijPaU43p0",
        "colab_type": "code",
        "outputId": "edcbebc4-b8de-4770-b9e3-8aefb68010c8",
        "colab": {
          "base_uri": "https://localhost:8080/",
          "height": 119
        }
      },
      "source": [
        "# now for comparison, train Random Forest on original (imbalanced) train set and test on test set..\n",
        "RFC3 = XGBClassifier()\n",
        "RFC3.fit(train_features_prepared,train_labels_prepared)\n",
        "pred = RFC3.predict(test_features_prepared)\n",
        "print('Accuracy: ',accuracy_score(test_labels_prepared,pred))\n",
        "print('Recall: ',recall_score(test_labels_prepared,pred))\n",
        "print('Precision: ',precision_score(test_labels_prepared,pred))\n",
        "print('ROC AUC: ',roc_auc_score(test_labels_prepared,pred))\n",
        "print('F1: ',f1_score(test_labels_prepared,pred))\n",
        "print('Amount of No/Yes in Predicted Values: ',np.bincount(pred))"
      ],
      "execution_count": 0,
      "outputs": [
        {
          "output_type": "stream",
          "text": [
            "Accuracy:  0.7749932145118972\n",
            "Recall:  0.20654121863799282\n",
            "Precision:  0.39167374681393374\n",
            "ROC AUC:  0.5626856416282585\n",
            "F1:  0.27046054561454974\n",
            "Amount of No/Yes in Predicted Values:  [29628  3531]\n"
          ],
          "name": "stdout"
        }
      ]
    },
    {
      "cell_type": "code",
      "metadata": {
        "id": "EE-3kDuV43p6",
        "colab_type": "code",
        "colab": {}
      },
      "source": [
        "# accuracy/precision improve but other scores get worse, not sure if the models have any predictive ability so far or are just guessing"
      ],
      "execution_count": 0,
      "outputs": []
    },
    {
      "cell_type": "code",
      "metadata": {
        "id": "kPAZwMP3ZURE",
        "colab_type": "code",
        "colab": {}
      },
      "source": [
        ""
      ],
      "execution_count": 0,
      "outputs": []
    },
    {
      "cell_type": "code",
      "metadata": {
        "id": "BVc9qu-ha4wR",
        "colab_type": "code",
        "outputId": "b1aaaf56-c423-47c2-ed17-553443bff92f",
        "colab": {
          "base_uri": "https://localhost:8080/",
          "height": 34
        }
      },
      "source": [
        "#Sampling data to 50/50 prior to dividing into test/train;\n",
        "yes_data_clean = len(data_clean[data_clean['Labels']==1])\n",
        "\n",
        "data_clean_yes = data_clean[data_clean['Labels']==1]\n",
        "data_clean_no = data_clean[data_clean['Labels']==0].sample(yes_data_clean)\n",
        "data_clean_5050 = pd.concat([data_clean_yes,data_clean_no])\n",
        "data_clean_5050['Labels'].value_counts()\n",
        "\n",
        "train_set_5050,test_set_5050 = train_test_split(data_clean_5050,test_size=0.3,stratify=data_clean_5050[\"Labels\"])\n",
        "print(len(train_set_5050), \"train +\", len(test_set_5050), \"test\")\n",
        "\n",
        "# divide into features/labels\n",
        "train_features_5050 = train_set_5050.drop('Labels',axis=1)\n",
        "train_labels_5050 = train_set_5050[['Labels']]\n",
        "test_features_5050 = test_set_5050.drop('Labels',axis=1)\n",
        "test_labels_5050 = test_set_5050[['Labels']]\n",
        "\n",
        "train_features_5050_prepared = pipeline_features.fit_transform(train_features_5050)\n",
        "train_labels_5050_prepared = train_labels_5050.values\n",
        "\n",
        "test_features_5050_prepared = pipeline_features.transform(test_features_5050)\n",
        "test_labels_5050_prepared = test_labels_5050.values\n"
      ],
      "execution_count": 0,
      "outputs": [
        {
          "output_type": "stream",
          "text": [
            "31246 train + 13392 test\n"
          ],
          "name": "stdout"
        }
      ]
    },
    {
      "cell_type": "code",
      "metadata": {
        "id": "z3Ok9pF2UOZo",
        "colab_type": "code",
        "outputId": "d2c82613-fbd1-49ba-d7d7-e57929f9ed7a",
        "colab": {
          "base_uri": "https://localhost:8080/",
          "height": 119
        }
      },
      "source": [
        "RFC3 = XGBClassifier()\n",
        "RFC3.fit(train_features_5050_prepared,train_labels_5050_prepared)\n",
        "pred = RFC3.predict(test_features_5050_prepared)\n",
        "print('Accuracy: ',accuracy_score(test_labels_5050_prepared,pred))\n",
        "print('Recall: ',recall_score(test_labels_5050_prepared,pred))\n",
        "print('Precision: ',precision_score(test_labels_5050_prepared,pred))\n",
        "print('ROC AUC: ',roc_auc_score(test_labels_5050_prepared,pred))\n",
        "print('F1: ',f1_score(test_labels_5050_prepared,pred))\n",
        "print('Amount of No/Yes in Predicted Values: ',np.bincount(pred))"
      ],
      "execution_count": 0,
      "outputs": [
        {
          "output_type": "stream",
          "text": [
            "Accuracy:  0.6777180406212664\n",
            "Recall:  0.8315412186379928\n",
            "Precision:  0.6359068067610781\n",
            "ROC AUC:  0.6777180406212665\n",
            "F1:  0.720683406678747\n",
            "Amount of No/Yes in Predicted Values:  [4636 8756]\n"
          ],
          "name": "stdout"
        }
      ]
    },
    {
      "cell_type": "code",
      "metadata": {
        "id": "O4kINu-lX3o8",
        "colab_type": "code",
        "outputId": "a2898ad3-8f82-4ea5-8c1e-05ea28b7bed5",
        "colab": {
          "base_uri": "https://localhost:8080/",
          "height": 129
        }
      },
      "source": [
        "|importances = RFC3.feature_importances_\n",
        "indices = np.argsort(RFC3.feature_importances_)[::-1]\n",
        "\n",
        "for f in range(train_features_5050_prepared.shape[1]):\n",
        "    print(\"%d. feature %d (%f)\" % (f + 1, indices[f], importances[indices[f]]))"
      ],
      "execution_count": 0,
      "outputs": [
        {
          "output_type": "error",
          "ename": "SyntaxError",
          "evalue": "ignored",
          "traceback": [
            "\u001b[0;36m  File \u001b[0;32m\"<ipython-input-299-26d032c3eb54>\"\u001b[0;36m, line \u001b[0;32m1\u001b[0m\n\u001b[0;31m    |importances = RFC3.feature_importances_\u001b[0m\n\u001b[0m    ^\u001b[0m\n\u001b[0;31mSyntaxError\u001b[0m\u001b[0;31m:\u001b[0m invalid syntax\n"
          ]
        }
      ]
    },
    {
      "cell_type": "code",
      "metadata": {
        "id": "yjRJC8ekay8U",
        "colab_type": "code",
        "colab": {}
      },
      "source": [
        ""
      ],
      "execution_count": 0,
      "outputs": []
    },
    {
      "cell_type": "code",
      "metadata": {
        "id": "9Xf3OtDGYul8",
        "colab_type": "code",
        "colab": {}
      },
      "source": [
        ""
      ],
      "execution_count": 0,
      "outputs": []
    }
  ]
}