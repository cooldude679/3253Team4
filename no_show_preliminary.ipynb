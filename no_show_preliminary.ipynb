{
 "cells": [
  {
   "cell_type": "code",
   "execution_count": 125,
   "metadata": {},
   "outputs": [],
   "source": [
    "import warnings \n",
    "warnings.filterwarnings('ignore')"
   ]
  },
  {
   "cell_type": "code",
   "execution_count": 126,
   "metadata": {},
   "outputs": [],
   "source": [
    "import pandas as pd\n",
    "import numpy as np\n",
    "from sklearn.preprocessing import OneHotEncoder\n",
    "from sklearn.pipeline import Pipeline\n",
    "from sklearn.preprocessing import StandardScaler\n",
    "from sklearn.compose import ColumnTransformer\n",
    "from sklearn.neighbors import KNeighborsClassifier\n",
    "from sklearn.linear_model import SGDClassifier\n",
    "from sklearn.tree import DecisionTreeClassifier\n",
    "from sklearn.ensemble import RandomForestClassifier\n",
    "from sklearn.linear_model import LogisticRegression\n",
    "from sklearn.model_selection import train_test_split\n",
    "from sklearn.model_selection import cross_validate\n",
    "from sklearn.metrics import accuracy_score, precision_score, recall_score, roc_auc_score"
   ]
  },
  {
   "cell_type": "markdown",
   "metadata": {},
   "source": [
    "## 1. Loading Data and Inspecting"
   ]
  },
  {
   "cell_type": "code",
   "execution_count": 127,
   "metadata": {},
   "outputs": [],
   "source": [
    "data = pd.read_csv('KaggleV2-May-2016.csv')"
   ]
  },
  {
   "cell_type": "code",
   "execution_count": 128,
   "metadata": {},
   "outputs": [
    {
     "data": {
      "text/html": [
       "<div>\n",
       "<style scoped>\n",
       "    .dataframe tbody tr th:only-of-type {\n",
       "        vertical-align: middle;\n",
       "    }\n",
       "\n",
       "    .dataframe tbody tr th {\n",
       "        vertical-align: top;\n",
       "    }\n",
       "\n",
       "    .dataframe thead th {\n",
       "        text-align: right;\n",
       "    }\n",
       "</style>\n",
       "<table border=\"1\" class=\"dataframe\">\n",
       "  <thead>\n",
       "    <tr style=\"text-align: right;\">\n",
       "      <th></th>\n",
       "      <th>PatientId</th>\n",
       "      <th>AppointmentID</th>\n",
       "      <th>Age</th>\n",
       "      <th>Scholarship</th>\n",
       "      <th>Hipertension</th>\n",
       "      <th>Diabetes</th>\n",
       "      <th>Alcoholism</th>\n",
       "      <th>Handcap</th>\n",
       "      <th>SMS_received</th>\n",
       "    </tr>\n",
       "  </thead>\n",
       "  <tbody>\n",
       "    <tr>\n",
       "      <th>count</th>\n",
       "      <td>1.105270e+05</td>\n",
       "      <td>1.105270e+05</td>\n",
       "      <td>110527.000000</td>\n",
       "      <td>110527.000000</td>\n",
       "      <td>110527.000000</td>\n",
       "      <td>110527.000000</td>\n",
       "      <td>110527.000000</td>\n",
       "      <td>110527.000000</td>\n",
       "      <td>110527.000000</td>\n",
       "    </tr>\n",
       "    <tr>\n",
       "      <th>mean</th>\n",
       "      <td>1.474963e+14</td>\n",
       "      <td>5.675305e+06</td>\n",
       "      <td>37.088874</td>\n",
       "      <td>0.098266</td>\n",
       "      <td>0.197246</td>\n",
       "      <td>0.071865</td>\n",
       "      <td>0.030400</td>\n",
       "      <td>0.022248</td>\n",
       "      <td>0.321026</td>\n",
       "    </tr>\n",
       "    <tr>\n",
       "      <th>std</th>\n",
       "      <td>2.560949e+14</td>\n",
       "      <td>7.129575e+04</td>\n",
       "      <td>23.110205</td>\n",
       "      <td>0.297675</td>\n",
       "      <td>0.397921</td>\n",
       "      <td>0.258265</td>\n",
       "      <td>0.171686</td>\n",
       "      <td>0.161543</td>\n",
       "      <td>0.466873</td>\n",
       "    </tr>\n",
       "    <tr>\n",
       "      <th>min</th>\n",
       "      <td>3.921784e+04</td>\n",
       "      <td>5.030230e+06</td>\n",
       "      <td>-1.000000</td>\n",
       "      <td>0.000000</td>\n",
       "      <td>0.000000</td>\n",
       "      <td>0.000000</td>\n",
       "      <td>0.000000</td>\n",
       "      <td>0.000000</td>\n",
       "      <td>0.000000</td>\n",
       "    </tr>\n",
       "    <tr>\n",
       "      <th>25%</th>\n",
       "      <td>4.172614e+12</td>\n",
       "      <td>5.640286e+06</td>\n",
       "      <td>18.000000</td>\n",
       "      <td>0.000000</td>\n",
       "      <td>0.000000</td>\n",
       "      <td>0.000000</td>\n",
       "      <td>0.000000</td>\n",
       "      <td>0.000000</td>\n",
       "      <td>0.000000</td>\n",
       "    </tr>\n",
       "    <tr>\n",
       "      <th>50%</th>\n",
       "      <td>3.173184e+13</td>\n",
       "      <td>5.680573e+06</td>\n",
       "      <td>37.000000</td>\n",
       "      <td>0.000000</td>\n",
       "      <td>0.000000</td>\n",
       "      <td>0.000000</td>\n",
       "      <td>0.000000</td>\n",
       "      <td>0.000000</td>\n",
       "      <td>0.000000</td>\n",
       "    </tr>\n",
       "    <tr>\n",
       "      <th>75%</th>\n",
       "      <td>9.439172e+13</td>\n",
       "      <td>5.725524e+06</td>\n",
       "      <td>55.000000</td>\n",
       "      <td>0.000000</td>\n",
       "      <td>0.000000</td>\n",
       "      <td>0.000000</td>\n",
       "      <td>0.000000</td>\n",
       "      <td>0.000000</td>\n",
       "      <td>1.000000</td>\n",
       "    </tr>\n",
       "    <tr>\n",
       "      <th>max</th>\n",
       "      <td>9.999816e+14</td>\n",
       "      <td>5.790484e+06</td>\n",
       "      <td>115.000000</td>\n",
       "      <td>1.000000</td>\n",
       "      <td>1.000000</td>\n",
       "      <td>1.000000</td>\n",
       "      <td>1.000000</td>\n",
       "      <td>4.000000</td>\n",
       "      <td>1.000000</td>\n",
       "    </tr>\n",
       "  </tbody>\n",
       "</table>\n",
       "</div>"
      ],
      "text/plain": [
       "          PatientId  AppointmentID            Age    Scholarship  \\\n",
       "count  1.105270e+05   1.105270e+05  110527.000000  110527.000000   \n",
       "mean   1.474963e+14   5.675305e+06      37.088874       0.098266   \n",
       "std    2.560949e+14   7.129575e+04      23.110205       0.297675   \n",
       "min    3.921784e+04   5.030230e+06      -1.000000       0.000000   \n",
       "25%    4.172614e+12   5.640286e+06      18.000000       0.000000   \n",
       "50%    3.173184e+13   5.680573e+06      37.000000       0.000000   \n",
       "75%    9.439172e+13   5.725524e+06      55.000000       0.000000   \n",
       "max    9.999816e+14   5.790484e+06     115.000000       1.000000   \n",
       "\n",
       "        Hipertension       Diabetes     Alcoholism        Handcap  \\\n",
       "count  110527.000000  110527.000000  110527.000000  110527.000000   \n",
       "mean        0.197246       0.071865       0.030400       0.022248   \n",
       "std         0.397921       0.258265       0.171686       0.161543   \n",
       "min         0.000000       0.000000       0.000000       0.000000   \n",
       "25%         0.000000       0.000000       0.000000       0.000000   \n",
       "50%         0.000000       0.000000       0.000000       0.000000   \n",
       "75%         0.000000       0.000000       0.000000       0.000000   \n",
       "max         1.000000       1.000000       1.000000       4.000000   \n",
       "\n",
       "        SMS_received  \n",
       "count  110527.000000  \n",
       "mean        0.321026  \n",
       "std         0.466873  \n",
       "min         0.000000  \n",
       "25%         0.000000  \n",
       "50%         0.000000  \n",
       "75%         1.000000  \n",
       "max         1.000000  "
      ]
     },
     "execution_count": 128,
     "metadata": {},
     "output_type": "execute_result"
    }
   ],
   "source": [
    "data.describe()"
   ]
  },
  {
   "cell_type": "code",
   "execution_count": 129,
   "metadata": {},
   "outputs": [
    {
     "name": "stdout",
     "output_type": "stream",
     "text": [
      "<class 'pandas.core.frame.DataFrame'>\n",
      "RangeIndex: 110527 entries, 0 to 110526\n",
      "Data columns (total 14 columns):\n",
      "PatientId         110527 non-null float64\n",
      "AppointmentID     110527 non-null int64\n",
      "Gender            110527 non-null object\n",
      "ScheduledDay      110527 non-null object\n",
      "AppointmentDay    110527 non-null object\n",
      "Age               110527 non-null int64\n",
      "Neighbourhood     110527 non-null object\n",
      "Scholarship       110527 non-null int64\n",
      "Hipertension      110527 non-null int64\n",
      "Diabetes          110527 non-null int64\n",
      "Alcoholism        110527 non-null int64\n",
      "Handcap           110527 non-null int64\n",
      "SMS_received      110527 non-null int64\n",
      "No-show           110527 non-null object\n",
      "dtypes: float64(1), int64(8), object(5)\n",
      "memory usage: 11.8+ MB\n"
     ]
    }
   ],
   "source": [
    "data.info()"
   ]
  },
  {
   "cell_type": "markdown",
   "metadata": {},
   "source": [
    "The dataset is imbalanced (approx. 80/20 ratio of No/Yes).  Measuring classifier accuracy is probably not useful unless the accuracy is well over 80%, or the dataset is resampled.  This can be done after preparing data for modelling?"
   ]
  },
  {
   "cell_type": "code",
   "execution_count": 130,
   "metadata": {},
   "outputs": [
    {
     "name": "stdout",
     "output_type": "stream",
     "text": [
      "Number of Rows with No-Show = Yes:  22319 ( 20.19 %), Number of rows with No-show = No:  88208 ( 79.81 %)\n"
     ]
    }
   ],
   "source": [
    "no = len(data[data['No-show']=='No'])\n",
    "yes = len(data[data['No-show']=='Yes'])\n",
    "total = len(data)\n",
    "\n",
    "print('Number of Rows with No-Show = Yes: ', yes,'(',np.round(yes/total*100,2),'%), Number of rows with No-show = No: ', no,'(',np.round(no/total*100,2),'%)')"
   ]
  },
  {
   "cell_type": "markdown",
   "metadata": {},
   "source": [
    "## 2. Editing/Adding Features and Labels\n",
    "\n",
    "**New Features Created:**\n",
    "\n",
    "\"days_to_appt\" - days between scheduling date and appt date (numerical)\n",
    "\n",
    "\"day_of_appt\" - day of the week of the appt (categorical)\n",
    "\n",
    "\"month_of_appt\" - month of the year of the appt (categorical)\n",
    "\n",
    "\"day_of_scheduling\" - day of week appt was scheduled on (categorical)\n",
    "\n",
    "\"month_of_scheduling\" - month of year appt was scheduled on (categorical)\n",
    "\n",
    "**Final Features/Labels of Interest:**\n",
    "\n",
    "Numerical: Age, days_to_appt, Handcap\n",
    "\n",
    "Categorical: Gender, Hipertension, Diabetes, Alcoholism, SMS_received, day_of_appt, month_of_appt, day_of_scheduling, month_of_scheduling \n",
    "\n",
    "Labels: No-show (Yes=1, No=0)\n",
    "\n"
   ]
  },
  {
   "cell_type": "code",
   "execution_count": 131,
   "metadata": {},
   "outputs": [],
   "source": [
    "# convert date objects to datetime format (without time part)\n",
    "data['ScheduledDayDT'] = pd.to_datetime(data['ScheduledDay']).dt.date\n",
    "data['ScheduledDayDT'] = pd.to_datetime(data['ScheduledDayDT'])\n",
    "data['AppointmentDayDT'] = pd.to_datetime(data['AppointmentDay'])"
   ]
  },
  {
   "cell_type": "code",
   "execution_count": 132,
   "metadata": {},
   "outputs": [],
   "source": [
    "# create new feature - \"days_to_appt\" - no. of days between scheduled date and appt date\n",
    "data['time_between_appts'] = data['AppointmentDayDT']-data['ScheduledDayDT']\n",
    "data['days_to_appt'] = data['time_between_appts']/np.timedelta64(1,'D')"
   ]
  },
  {
   "cell_type": "code",
   "execution_count": 133,
   "metadata": {},
   "outputs": [],
   "source": [
    "# create new features - day of the week and month of the year of the scheduling and appointment dates\n",
    "data['day_of_appt'] = data['AppointmentDayDT'].dt.dayofweek\n",
    "data['day_of_scheduling'] = data['ScheduledDayDT'].dt.dayofweek\n",
    "data['month_of_appt'] = data['AppointmentDayDT'].dt.month\n",
    "data['month_of_scheduling'] = data['ScheduledDayDT'].dt.month"
   ]
  },
  {
   "cell_type": "code",
   "execution_count": 134,
   "metadata": {},
   "outputs": [],
   "source": [
    "# map labels to 1/0\n",
    "data['Labels'] = data['No-show'].map({'Yes': 1, 'No': 0})"
   ]
  },
  {
   "cell_type": "code",
   "execution_count": 135,
   "metadata": {},
   "outputs": [],
   "source": [
    "# keep only desired features and labels\n",
    "data_clean = data[['Gender','Age','Hipertension','Diabetes','Alcoholism','Handcap','SMS_received',\n",
    "                  'Labels','day_of_appt','day_of_scheduling','days_to_appt','month_of_appt','month_of_scheduling']]"
   ]
  },
  {
   "cell_type": "code",
   "execution_count": 136,
   "metadata": {},
   "outputs": [
    {
     "data": {
      "text/html": [
       "<div>\n",
       "<style scoped>\n",
       "    .dataframe tbody tr th:only-of-type {\n",
       "        vertical-align: middle;\n",
       "    }\n",
       "\n",
       "    .dataframe tbody tr th {\n",
       "        vertical-align: top;\n",
       "    }\n",
       "\n",
       "    .dataframe thead th {\n",
       "        text-align: right;\n",
       "    }\n",
       "</style>\n",
       "<table border=\"1\" class=\"dataframe\">\n",
       "  <thead>\n",
       "    <tr style=\"text-align: right;\">\n",
       "      <th></th>\n",
       "      <th>Gender</th>\n",
       "      <th>Age</th>\n",
       "      <th>Hipertension</th>\n",
       "      <th>Diabetes</th>\n",
       "      <th>Alcoholism</th>\n",
       "      <th>Handcap</th>\n",
       "      <th>SMS_received</th>\n",
       "      <th>Labels</th>\n",
       "      <th>day_of_appt</th>\n",
       "      <th>day_of_scheduling</th>\n",
       "      <th>days_to_appt</th>\n",
       "      <th>month_of_appt</th>\n",
       "      <th>month_of_scheduling</th>\n",
       "    </tr>\n",
       "  </thead>\n",
       "  <tbody>\n",
       "    <tr>\n",
       "      <th>0</th>\n",
       "      <td>F</td>\n",
       "      <td>62</td>\n",
       "      <td>1</td>\n",
       "      <td>0</td>\n",
       "      <td>0</td>\n",
       "      <td>0</td>\n",
       "      <td>0</td>\n",
       "      <td>0</td>\n",
       "      <td>4</td>\n",
       "      <td>4</td>\n",
       "      <td>0.0</td>\n",
       "      <td>4</td>\n",
       "      <td>4</td>\n",
       "    </tr>\n",
       "    <tr>\n",
       "      <th>1</th>\n",
       "      <td>M</td>\n",
       "      <td>56</td>\n",
       "      <td>0</td>\n",
       "      <td>0</td>\n",
       "      <td>0</td>\n",
       "      <td>0</td>\n",
       "      <td>0</td>\n",
       "      <td>0</td>\n",
       "      <td>4</td>\n",
       "      <td>4</td>\n",
       "      <td>0.0</td>\n",
       "      <td>4</td>\n",
       "      <td>4</td>\n",
       "    </tr>\n",
       "    <tr>\n",
       "      <th>2</th>\n",
       "      <td>F</td>\n",
       "      <td>62</td>\n",
       "      <td>0</td>\n",
       "      <td>0</td>\n",
       "      <td>0</td>\n",
       "      <td>0</td>\n",
       "      <td>0</td>\n",
       "      <td>0</td>\n",
       "      <td>4</td>\n",
       "      <td>4</td>\n",
       "      <td>0.0</td>\n",
       "      <td>4</td>\n",
       "      <td>4</td>\n",
       "    </tr>\n",
       "    <tr>\n",
       "      <th>3</th>\n",
       "      <td>F</td>\n",
       "      <td>8</td>\n",
       "      <td>0</td>\n",
       "      <td>0</td>\n",
       "      <td>0</td>\n",
       "      <td>0</td>\n",
       "      <td>0</td>\n",
       "      <td>0</td>\n",
       "      <td>4</td>\n",
       "      <td>4</td>\n",
       "      <td>0.0</td>\n",
       "      <td>4</td>\n",
       "      <td>4</td>\n",
       "    </tr>\n",
       "    <tr>\n",
       "      <th>4</th>\n",
       "      <td>F</td>\n",
       "      <td>56</td>\n",
       "      <td>1</td>\n",
       "      <td>1</td>\n",
       "      <td>0</td>\n",
       "      <td>0</td>\n",
       "      <td>0</td>\n",
       "      <td>0</td>\n",
       "      <td>4</td>\n",
       "      <td>4</td>\n",
       "      <td>0.0</td>\n",
       "      <td>4</td>\n",
       "      <td>4</td>\n",
       "    </tr>\n",
       "  </tbody>\n",
       "</table>\n",
       "</div>"
      ],
      "text/plain": [
       "  Gender  Age  Hipertension  Diabetes  Alcoholism  Handcap  SMS_received  \\\n",
       "0      F   62             1         0           0        0             0   \n",
       "1      M   56             0         0           0        0             0   \n",
       "2      F   62             0         0           0        0             0   \n",
       "3      F    8             0         0           0        0             0   \n",
       "4      F   56             1         1           0        0             0   \n",
       "\n",
       "   Labels  day_of_appt  day_of_scheduling  days_to_appt  month_of_appt  \\\n",
       "0       0            4                  4           0.0              4   \n",
       "1       0            4                  4           0.0              4   \n",
       "2       0            4                  4           0.0              4   \n",
       "3       0            4                  4           0.0              4   \n",
       "4       0            4                  4           0.0              4   \n",
       "\n",
       "   month_of_scheduling  \n",
       "0                    4  \n",
       "1                    4  \n",
       "2                    4  \n",
       "3                    4  \n",
       "4                    4  "
      ]
     },
     "execution_count": 136,
     "metadata": {},
     "output_type": "execute_result"
    }
   ],
   "source": [
    "data_clean.head()"
   ]
  },
  {
   "cell_type": "markdown",
   "metadata": {},
   "source": [
    "## 3. Prepare for Modelling\n",
    "\n",
    "The cleaned data is divided into train/test sets (70/30) ratio. OneHotEncoder() is used for all categorical features and StandardScaler() for numerical features."
   ]
  },
  {
   "cell_type": "code",
   "execution_count": 137,
   "metadata": {},
   "outputs": [],
   "source": [
    "# This function prepares the datafame, dividing into train/test, seperating features from labels, and scaling/one hot encoding\n",
    "# Input is dataframe and test ratio.  Ouput is train/test sets divided into features and labels.\n",
    "def data_prepare(data,test_ratio):\n",
    "    # split into train/test\n",
    "    train_set,test_set = train_test_split(data,test_size=test_ratio)\n",
    "    print(len(train_set), \"train +\", len(test_set), \"test\")\n",
    "    \n",
    "    # divide into features/labels\n",
    "    train_features = train_set.drop('Labels',axis=1)\n",
    "    train_labels = train_set[['Labels']]\n",
    "    test_features = test_set.drop('Labels',axis=1)\n",
    "    test_labels = test_set[['Labels']]\n",
    "    \n",
    "    # transform numerical and categorical features using StandardScaler() and OneHotEncoder()\n",
    "    num_attribs = ['Age','days_to_appt','Handcap']\n",
    "    cat_attribs = ['Gender','Hipertension','Diabetes','Alcoholism','SMS_received','day_of_appt',\n",
    "              'month_of_appt','day_of_scheduling','month_of_scheduling']\n",
    "    pipeline_features = ColumnTransformer([(\"num\",StandardScaler(),num_attribs),(\"cat\",OneHotEncoder(handle_unknown='ignore'),cat_attribs)])\n",
    "    \n",
    "    train_features_prepared = pipeline_features.fit_transform(train_features)\n",
    "    test_features_prepared = pipeline_features.transform(test_features)\n",
    "    train_labels_prepared = train_labels.values\n",
    "    test_labels_prepared = test_labels.values\n",
    "    \n",
    "    return (train_features_prepared,test_features_prepared,train_labels_prepared,test_labels_prepared)"
   ]
  },
  {
   "cell_type": "code",
   "execution_count": 138,
   "metadata": {},
   "outputs": [
    {
     "name": "stdout",
     "output_type": "stream",
     "text": [
      "77368 train + 33159 test\n"
     ]
    }
   ],
   "source": [
    "train_features,test_features,train_labels,test_labels = data_prepare(data_clean,0.3)"
   ]
  },
  {
   "cell_type": "markdown",
   "metadata": {},
   "source": [
    "## 4. Testing Some Models\n",
    "\n",
    "A few classifiers are trained below, with 3 cross-validation folds. \n",
    "\n",
    "For KNN, sqrt(n_samples) was used as n_neighbors, as usually suggested in literature.\n"
   ]
  },
  {
   "cell_type": "code",
   "execution_count": 141,
   "metadata": {},
   "outputs": [],
   "source": [
    "# This Function Runs Several Classifiers on Training Data with 3 cv-folds, Prints Out \"metric\" score of each Model\n",
    " \n",
    "def testClassifiers(train_features,train_labels,metric):\n",
    "    LOG=LogisticRegression()\n",
    "    DTC=DecisionTreeClassifier()\n",
    "    RFC=RandomForestClassifier()\n",
    "    KNN=KNeighborsClassifier(n_neighbors=int(np.sqrt(train_labels.size/3).round()))\n",
    "    SGD=SGDClassifier()\n",
    "    #KNN=KNeighborsClassifier(n_neighbors=5)\n",
    "    \n",
    "    classifier_list = [LOG,DTC,RFC,KNN,SGD]\n",
    "    \n",
    "    for c in classifier_list:\n",
    "        cv_results = cross_validate(c,train_features,train_labels,cv=3,scoring=metric)\n",
    "        print(type(c).__name__)\n",
    "        print('-------------------')\n",
    "        print('Scoring Metric: ', metric)\n",
    "        print('Scores: ',cv_results['test_score'])\n",
    "        print('Mean Score: ',np.round(np.mean(cv_results['test_score']),2))\n",
    "        print('')\n",
    "    "
   ]
  },
  {
   "cell_type": "code",
   "execution_count": 142,
   "metadata": {},
   "outputs": [
    {
     "name": "stdout",
     "output_type": "stream",
     "text": [
      "LogisticRegression\n",
      "-------------------\n",
      "Scoring Metric:  roc_auc\n",
      "Scores:  [0.67481993 0.66651012 0.66848624]\n",
      "Mean Score:  0.67\n",
      "\n",
      "DecisionTreeClassifier\n",
      "-------------------\n",
      "Scoring Metric:  roc_auc\n",
      "Scores:  [0.55436244 0.5559     0.55604507]\n",
      "Mean Score:  0.56\n",
      "\n",
      "RandomForestClassifier\n",
      "-------------------\n",
      "Scoring Metric:  roc_auc\n",
      "Scores:  [0.64513755 0.64566076 0.64448238]\n",
      "Mean Score:  0.65\n",
      "\n",
      "KNeighborsClassifier\n",
      "-------------------\n",
      "Scoring Metric:  roc_auc\n",
      "Scores:  [0.71843994 0.7135111  0.70972577]\n",
      "Mean Score:  0.71\n",
      "\n",
      "SGDClassifier\n",
      "-------------------\n",
      "Scoring Metric:  roc_auc\n",
      "Scores:  [0.63682229 0.58291512 0.55214536]\n",
      "Mean Score:  0.59\n",
      "\n"
     ]
    }
   ],
   "source": [
    "testClassifiers(train_features,train_labels,'roc_auc')"
   ]
  },
  {
   "cell_type": "markdown",
   "metadata": {},
   "source": [
    "K-Neighbors gave the best score so far. "
   ]
  },
  {
   "cell_type": "code",
   "execution_count": null,
   "metadata": {},
   "outputs": [],
   "source": [
    "\n"
   ]
  },
  {
   "cell_type": "markdown",
   "metadata": {},
   "source": [
    "## 5. Resampling\n",
    "\n",
    "I tried to resample (under-resampling) the dataset to make use of accuracy as a performance metric.  Excess data in the No-show = \"No\" class was eliminated until the two classes are split 50/50."
   ]
  },
  {
   "cell_type": "code",
   "execution_count": 143,
   "metadata": {},
   "outputs": [],
   "source": [
    "data_clean_yes = data_clean[data_clean['Labels']==1]\n",
    "data_clean_no = data_clean[data_clean['Labels']==0].sample(yes) # yes/no amounts were calculated in section 1\n",
    "data_clean_5050 = pd.concat([data_clean_yes,data_clean_no])"
   ]
  },
  {
   "cell_type": "markdown",
   "metadata": {},
   "source": [
    "Prepare data and test several classifiers on training data as was done before, but looking at accuracy..."
   ]
  },
  {
   "cell_type": "code",
   "execution_count": 144,
   "metadata": {},
   "outputs": [
    {
     "name": "stdout",
     "output_type": "stream",
     "text": [
      "31246 train + 13392 test\n"
     ]
    }
   ],
   "source": [
    "train_features5050,test_features5050,train_labels5050,test_labels5050 = data_prepare(data_clean_5050,0.3)"
   ]
  },
  {
   "cell_type": "code",
   "execution_count": 145,
   "metadata": {},
   "outputs": [
    {
     "name": "stdout",
     "output_type": "stream",
     "text": [
      "LogisticRegression\n",
      "-------------------\n",
      "Scoring Metric:  accuracy\n",
      "Scores:  [0.63786482 0.63139702 0.63264522]\n",
      "Mean Score:  0.63\n",
      "\n",
      "DecisionTreeClassifier\n",
      "-------------------\n",
      "Scoring Metric:  accuracy\n",
      "Scores:  [0.60243856 0.60758521 0.60480077]\n",
      "Mean Score:  0.6\n",
      "\n",
      "RandomForestClassifier\n",
      "-------------------\n",
      "Scoring Metric:  accuracy\n",
      "Scores:  [0.61443932 0.6131541  0.61641863]\n",
      "Mean Score:  0.61\n",
      "\n",
      "KNeighborsClassifier\n",
      "-------------------\n",
      "Scoring Metric:  accuracy\n",
      "Scores:  [0.66042627 0.64896783 0.65472876]\n",
      "Mean Score:  0.65\n",
      "\n",
      "SGDClassifier\n",
      "-------------------\n",
      "Scoring Metric:  accuracy\n",
      "Scores:  [0.62461598 0.61325012 0.61757081]\n",
      "Mean Score:  0.62\n",
      "\n"
     ]
    }
   ],
   "source": [
    "testClassifiers(train_features5050,train_labels5050,'accuracy')"
   ]
  },
  {
   "cell_type": "markdown",
   "metadata": {},
   "source": [
    "Once again, KNN performed the best.  "
   ]
  },
  {
   "cell_type": "markdown",
   "metadata": {},
   "source": [
    "Next, tuning hyperpameters of KNN?  Or going back and looking more closely at importance of different features."
   ]
  },
  {
   "cell_type": "code",
   "execution_count": null,
   "metadata": {},
   "outputs": [],
   "source": []
  }
 ],
 "metadata": {
  "kernelspec": {
   "display_name": "Python 3",
   "language": "python",
   "name": "python3"
  },
  "language_info": {
   "codemirror_mode": {
    "name": "ipython",
    "version": 3
   },
   "file_extension": ".py",
   "mimetype": "text/x-python",
   "name": "python",
   "nbconvert_exporter": "python",
   "pygments_lexer": "ipython3",
   "version": "3.6.5"
  }
 },
 "nbformat": 4,
 "nbformat_minor": 2
}
