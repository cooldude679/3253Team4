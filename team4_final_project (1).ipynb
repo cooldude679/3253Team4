{
  "nbformat": 4,
  "nbformat_minor": 0,
  "metadata": {
    "colab": {
      "name": "team4_final_project.ipynb",
      "provenance": [],
      "collapsed_sections": []
    },
    "kernelspec": {
      "display_name": "Python 3",
      "language": "python",
      "name": "python3"
    },
    "language_info": {
      "codemirror_mode": {
        "name": "ipython",
        "version": 3
      },
      "file_extension": ".py",
      "mimetype": "text/x-python",
      "name": "python",
      "nbconvert_exporter": "python",
      "pygments_lexer": "ipython3",
      "version": "3.6.5"
    }
  },
  "cells": [
    {
      "cell_type": "code",
      "metadata": {
        "colab_type": "code",
        "id": "Xi3sdgDMj_j4",
        "outputId": "d10ecf8a-c853-442e-8345-3efe7d364d0b",
        "colab": {
          "base_uri": "https://localhost:8080/",
          "height": 54
        }
      },
      "source": [
        "from google.colab import drive\n",
        "drive.mount('/content/drive')"
      ],
      "execution_count": 169,
      "outputs": [
        {
          "output_type": "stream",
          "text": [
            "Drive already mounted at /content/drive; to attempt to forcibly remount, call drive.mount(\"/content/drive\", force_remount=True).\n"
          ],
          "name": "stdout"
        }
      ]
    },
    {
      "cell_type": "code",
      "metadata": {
        "colab_type": "code",
        "id": "2L1bRrHZ43nb",
        "colab": {}
      },
      "source": [
        "\n",
        "import pandas as pd\n",
        "import gc\n",
        "import numpy as np\n",
        "from sklearn.preprocessing import OneHotEncoder, StandardScaler\n",
        "from sklearn.pipeline import Pipeline\n",
        "from sklearn.compose import ColumnTransformer\n",
        "from sklearn.neighbors import KNeighborsClassifier\n",
        "from sklearn.svm import SVC\n",
        "from sklearn.linear_model import SGDClassifier\n",
        "from sklearn.tree import DecisionTreeClassifier\n",
        "from sklearn.ensemble import RandomForestClassifier,GradientBoostingClassifier,ExtraTreesClassifier,AdaBoostClassifier,VotingClassifier\n",
        "from sklearn.naive_bayes import GaussianNB\n",
        "from sklearn.linear_model import LogisticRegression\n",
        "from sklearn.model_selection import train_test_split, cross_validate, cross_val_score\n",
        "from sklearn.metrics import accuracy_score, precision_score, recall_score, roc_auc_score, f1_score, confusion_matrix, classification_report\n",
        "import matplotlib.pyplot as plt\n",
        "import random\n",
        "import seaborn as sns\n",
        "from xgboost import XGBClassifier\n",
        "from sklearn.neural_network import MLPClassifier\n",
        "from imblearn.over_sampling import SMOTE\n",
        "from sklearn.metrics import auc, roc_curve "
      ],
      "execution_count": 0,
      "outputs": []
    },
    {
      "cell_type": "code",
      "metadata": {
        "colab_type": "code",
        "id": "4DYDz4NM43ng",
        "colab": {}
      },
      "source": [
        "import warnings \n",
        "warnings.filterwarnings('ignore')\n",
        "pd.options.display.max_columns = None"
      ],
      "execution_count": 0,
      "outputs": []
    },
    {
      "cell_type": "markdown",
      "metadata": {
        "colab_type": "text",
        "id": "BbBiYt1UXWuH"
      },
      "source": [
        "## 1. Introduction"
      ]
    },
    {
      "cell_type": "markdown",
      "metadata": {
        "colab_type": "text",
        "id": "AO2y7mAGYqW9"
      },
      "source": [
        "The failure of patients to attend medical appointments (no-shows) costs healthcare systems a great deal of time and money.  The aim of this project was to construct a machine learning model capable of predicting no-shows ahead of time.  The data that was used provides the details of over 110,000 medical appointments scheduled over the course of April, May and June 2016 at various clinics in the Brazilian city of Vitoria.  \n",
        "\n",
        "Source: https://www.kaggle.com/joniarroba/noshowappointments"
      ]
    },
    {
      "cell_type": "markdown",
      "metadata": {
        "colab_type": "text",
        "id": "T7kuabf143nj"
      },
      "source": [
        "## 2. Loading Data and Inspecting"
      ]
    },
    {
      "cell_type": "code",
      "metadata": {
        "colab_type": "code",
        "id": "utvVfu7D43nk",
        "colab": {}
      },
      "source": [
        "data = pd.read_csv('/content/drive/My Drive/KaggleV2-May-2016.csv')\n",
        "#data = pd.read_csv('KaggleV2-May-2016.csv')\n"
      ],
      "execution_count": 0,
      "outputs": []
    },
    {
      "cell_type": "code",
      "metadata": {
        "colab_type": "code",
        "id": "W_rZujAsaGCM",
        "outputId": "12377b68-663e-4a48-d06b-7e4ffb6d504d",
        "colab": {
          "base_uri": "https://localhost:8080/",
          "height": 316
        }
      },
      "source": [
        "data.head()"
      ],
      "execution_count": 173,
      "outputs": [
        {
          "output_type": "execute_result",
          "data": {
            "text/html": [
              "<div>\n",
              "<style scoped>\n",
              "    .dataframe tbody tr th:only-of-type {\n",
              "        vertical-align: middle;\n",
              "    }\n",
              "\n",
              "    .dataframe tbody tr th {\n",
              "        vertical-align: top;\n",
              "    }\n",
              "\n",
              "    .dataframe thead th {\n",
              "        text-align: right;\n",
              "    }\n",
              "</style>\n",
              "<table border=\"1\" class=\"dataframe\">\n",
              "  <thead>\n",
              "    <tr style=\"text-align: right;\">\n",
              "      <th></th>\n",
              "      <th>PatientId</th>\n",
              "      <th>AppointmentID</th>\n",
              "      <th>Gender</th>\n",
              "      <th>ScheduledDay</th>\n",
              "      <th>AppointmentDay</th>\n",
              "      <th>Age</th>\n",
              "      <th>Neighbourhood</th>\n",
              "      <th>Scholarship</th>\n",
              "      <th>Hipertension</th>\n",
              "      <th>Diabetes</th>\n",
              "      <th>Alcoholism</th>\n",
              "      <th>Handcap</th>\n",
              "      <th>SMS_received</th>\n",
              "      <th>No-show</th>\n",
              "    </tr>\n",
              "  </thead>\n",
              "  <tbody>\n",
              "    <tr>\n",
              "      <th>0</th>\n",
              "      <td>2.987250e+13</td>\n",
              "      <td>5642903</td>\n",
              "      <td>F</td>\n",
              "      <td>2016-04-29T18:38:08Z</td>\n",
              "      <td>2016-04-29T00:00:00Z</td>\n",
              "      <td>62</td>\n",
              "      <td>JARDIM DA PENHA</td>\n",
              "      <td>0</td>\n",
              "      <td>1</td>\n",
              "      <td>0</td>\n",
              "      <td>0</td>\n",
              "      <td>0</td>\n",
              "      <td>0</td>\n",
              "      <td>No</td>\n",
              "    </tr>\n",
              "    <tr>\n",
              "      <th>1</th>\n",
              "      <td>5.589978e+14</td>\n",
              "      <td>5642503</td>\n",
              "      <td>M</td>\n",
              "      <td>2016-04-29T16:08:27Z</td>\n",
              "      <td>2016-04-29T00:00:00Z</td>\n",
              "      <td>56</td>\n",
              "      <td>JARDIM DA PENHA</td>\n",
              "      <td>0</td>\n",
              "      <td>0</td>\n",
              "      <td>0</td>\n",
              "      <td>0</td>\n",
              "      <td>0</td>\n",
              "      <td>0</td>\n",
              "      <td>No</td>\n",
              "    </tr>\n",
              "    <tr>\n",
              "      <th>2</th>\n",
              "      <td>4.262962e+12</td>\n",
              "      <td>5642549</td>\n",
              "      <td>F</td>\n",
              "      <td>2016-04-29T16:19:04Z</td>\n",
              "      <td>2016-04-29T00:00:00Z</td>\n",
              "      <td>62</td>\n",
              "      <td>MATA DA PRAIA</td>\n",
              "      <td>0</td>\n",
              "      <td>0</td>\n",
              "      <td>0</td>\n",
              "      <td>0</td>\n",
              "      <td>0</td>\n",
              "      <td>0</td>\n",
              "      <td>No</td>\n",
              "    </tr>\n",
              "    <tr>\n",
              "      <th>3</th>\n",
              "      <td>8.679512e+11</td>\n",
              "      <td>5642828</td>\n",
              "      <td>F</td>\n",
              "      <td>2016-04-29T17:29:31Z</td>\n",
              "      <td>2016-04-29T00:00:00Z</td>\n",
              "      <td>8</td>\n",
              "      <td>PONTAL DE CAMBURI</td>\n",
              "      <td>0</td>\n",
              "      <td>0</td>\n",
              "      <td>0</td>\n",
              "      <td>0</td>\n",
              "      <td>0</td>\n",
              "      <td>0</td>\n",
              "      <td>No</td>\n",
              "    </tr>\n",
              "    <tr>\n",
              "      <th>4</th>\n",
              "      <td>8.841186e+12</td>\n",
              "      <td>5642494</td>\n",
              "      <td>F</td>\n",
              "      <td>2016-04-29T16:07:23Z</td>\n",
              "      <td>2016-04-29T00:00:00Z</td>\n",
              "      <td>56</td>\n",
              "      <td>JARDIM DA PENHA</td>\n",
              "      <td>0</td>\n",
              "      <td>1</td>\n",
              "      <td>1</td>\n",
              "      <td>0</td>\n",
              "      <td>0</td>\n",
              "      <td>0</td>\n",
              "      <td>No</td>\n",
              "    </tr>\n",
              "  </tbody>\n",
              "</table>\n",
              "</div>"
            ],
            "text/plain": [
              "      PatientId  AppointmentID Gender          ScheduledDay  \\\n",
              "0  2.987250e+13        5642903      F  2016-04-29T18:38:08Z   \n",
              "1  5.589978e+14        5642503      M  2016-04-29T16:08:27Z   \n",
              "2  4.262962e+12        5642549      F  2016-04-29T16:19:04Z   \n",
              "3  8.679512e+11        5642828      F  2016-04-29T17:29:31Z   \n",
              "4  8.841186e+12        5642494      F  2016-04-29T16:07:23Z   \n",
              "\n",
              "         AppointmentDay  Age      Neighbourhood  Scholarship  Hipertension  \\\n",
              "0  2016-04-29T00:00:00Z   62    JARDIM DA PENHA            0             1   \n",
              "1  2016-04-29T00:00:00Z   56    JARDIM DA PENHA            0             0   \n",
              "2  2016-04-29T00:00:00Z   62      MATA DA PRAIA            0             0   \n",
              "3  2016-04-29T00:00:00Z    8  PONTAL DE CAMBURI            0             0   \n",
              "4  2016-04-29T00:00:00Z   56    JARDIM DA PENHA            0             1   \n",
              "\n",
              "   Diabetes  Alcoholism  Handcap  SMS_received No-show  \n",
              "0         0           0        0             0      No  \n",
              "1         0           0        0             0      No  \n",
              "2         0           0        0             0      No  \n",
              "3         0           0        0             0      No  \n",
              "4         1           0        0             0      No  "
            ]
          },
          "metadata": {
            "tags": []
          },
          "execution_count": 173
        }
      ]
    },
    {
      "cell_type": "code",
      "metadata": {
        "colab_type": "code",
        "id": "TEdpNt4D43ny",
        "outputId": "a36f608f-ed42-48b6-8ba2-e5822fb54ecb",
        "colab": {
          "base_uri": "https://localhost:8080/",
          "height": 304
        }
      },
      "source": [
        "data.describe()"
      ],
      "execution_count": 174,
      "outputs": [
        {
          "output_type": "execute_result",
          "data": {
            "text/html": [
              "<div>\n",
              "<style scoped>\n",
              "    .dataframe tbody tr th:only-of-type {\n",
              "        vertical-align: middle;\n",
              "    }\n",
              "\n",
              "    .dataframe tbody tr th {\n",
              "        vertical-align: top;\n",
              "    }\n",
              "\n",
              "    .dataframe thead th {\n",
              "        text-align: right;\n",
              "    }\n",
              "</style>\n",
              "<table border=\"1\" class=\"dataframe\">\n",
              "  <thead>\n",
              "    <tr style=\"text-align: right;\">\n",
              "      <th></th>\n",
              "      <th>PatientId</th>\n",
              "      <th>AppointmentID</th>\n",
              "      <th>Age</th>\n",
              "      <th>Scholarship</th>\n",
              "      <th>Hipertension</th>\n",
              "      <th>Diabetes</th>\n",
              "      <th>Alcoholism</th>\n",
              "      <th>Handcap</th>\n",
              "      <th>SMS_received</th>\n",
              "    </tr>\n",
              "  </thead>\n",
              "  <tbody>\n",
              "    <tr>\n",
              "      <th>count</th>\n",
              "      <td>1.105270e+05</td>\n",
              "      <td>1.105270e+05</td>\n",
              "      <td>110527.000000</td>\n",
              "      <td>110527.000000</td>\n",
              "      <td>110527.000000</td>\n",
              "      <td>110527.000000</td>\n",
              "      <td>110527.000000</td>\n",
              "      <td>110527.000000</td>\n",
              "      <td>110527.000000</td>\n",
              "    </tr>\n",
              "    <tr>\n",
              "      <th>mean</th>\n",
              "      <td>1.474963e+14</td>\n",
              "      <td>5.675305e+06</td>\n",
              "      <td>37.088874</td>\n",
              "      <td>0.098266</td>\n",
              "      <td>0.197246</td>\n",
              "      <td>0.071865</td>\n",
              "      <td>0.030400</td>\n",
              "      <td>0.022248</td>\n",
              "      <td>0.321026</td>\n",
              "    </tr>\n",
              "    <tr>\n",
              "      <th>std</th>\n",
              "      <td>2.560949e+14</td>\n",
              "      <td>7.129575e+04</td>\n",
              "      <td>23.110205</td>\n",
              "      <td>0.297675</td>\n",
              "      <td>0.397921</td>\n",
              "      <td>0.258265</td>\n",
              "      <td>0.171686</td>\n",
              "      <td>0.161543</td>\n",
              "      <td>0.466873</td>\n",
              "    </tr>\n",
              "    <tr>\n",
              "      <th>min</th>\n",
              "      <td>3.921784e+04</td>\n",
              "      <td>5.030230e+06</td>\n",
              "      <td>-1.000000</td>\n",
              "      <td>0.000000</td>\n",
              "      <td>0.000000</td>\n",
              "      <td>0.000000</td>\n",
              "      <td>0.000000</td>\n",
              "      <td>0.000000</td>\n",
              "      <td>0.000000</td>\n",
              "    </tr>\n",
              "    <tr>\n",
              "      <th>25%</th>\n",
              "      <td>4.172614e+12</td>\n",
              "      <td>5.640286e+06</td>\n",
              "      <td>18.000000</td>\n",
              "      <td>0.000000</td>\n",
              "      <td>0.000000</td>\n",
              "      <td>0.000000</td>\n",
              "      <td>0.000000</td>\n",
              "      <td>0.000000</td>\n",
              "      <td>0.000000</td>\n",
              "    </tr>\n",
              "    <tr>\n",
              "      <th>50%</th>\n",
              "      <td>3.173184e+13</td>\n",
              "      <td>5.680573e+06</td>\n",
              "      <td>37.000000</td>\n",
              "      <td>0.000000</td>\n",
              "      <td>0.000000</td>\n",
              "      <td>0.000000</td>\n",
              "      <td>0.000000</td>\n",
              "      <td>0.000000</td>\n",
              "      <td>0.000000</td>\n",
              "    </tr>\n",
              "    <tr>\n",
              "      <th>75%</th>\n",
              "      <td>9.439172e+13</td>\n",
              "      <td>5.725524e+06</td>\n",
              "      <td>55.000000</td>\n",
              "      <td>0.000000</td>\n",
              "      <td>0.000000</td>\n",
              "      <td>0.000000</td>\n",
              "      <td>0.000000</td>\n",
              "      <td>0.000000</td>\n",
              "      <td>1.000000</td>\n",
              "    </tr>\n",
              "    <tr>\n",
              "      <th>max</th>\n",
              "      <td>9.999816e+14</td>\n",
              "      <td>5.790484e+06</td>\n",
              "      <td>115.000000</td>\n",
              "      <td>1.000000</td>\n",
              "      <td>1.000000</td>\n",
              "      <td>1.000000</td>\n",
              "      <td>1.000000</td>\n",
              "      <td>4.000000</td>\n",
              "      <td>1.000000</td>\n",
              "    </tr>\n",
              "  </tbody>\n",
              "</table>\n",
              "</div>"
            ],
            "text/plain": [
              "          PatientId  AppointmentID            Age    Scholarship  \\\n",
              "count  1.105270e+05   1.105270e+05  110527.000000  110527.000000   \n",
              "mean   1.474963e+14   5.675305e+06      37.088874       0.098266   \n",
              "std    2.560949e+14   7.129575e+04      23.110205       0.297675   \n",
              "min    3.921784e+04   5.030230e+06      -1.000000       0.000000   \n",
              "25%    4.172614e+12   5.640286e+06      18.000000       0.000000   \n",
              "50%    3.173184e+13   5.680573e+06      37.000000       0.000000   \n",
              "75%    9.439172e+13   5.725524e+06      55.000000       0.000000   \n",
              "max    9.999816e+14   5.790484e+06     115.000000       1.000000   \n",
              "\n",
              "        Hipertension       Diabetes     Alcoholism        Handcap  \\\n",
              "count  110527.000000  110527.000000  110527.000000  110527.000000   \n",
              "mean        0.197246       0.071865       0.030400       0.022248   \n",
              "std         0.397921       0.258265       0.171686       0.161543   \n",
              "min         0.000000       0.000000       0.000000       0.000000   \n",
              "25%         0.000000       0.000000       0.000000       0.000000   \n",
              "50%         0.000000       0.000000       0.000000       0.000000   \n",
              "75%         0.000000       0.000000       0.000000       0.000000   \n",
              "max         1.000000       1.000000       1.000000       4.000000   \n",
              "\n",
              "        SMS_received  \n",
              "count  110527.000000  \n",
              "mean        0.321026  \n",
              "std         0.466873  \n",
              "min         0.000000  \n",
              "25%         0.000000  \n",
              "50%         0.000000  \n",
              "75%         1.000000  \n",
              "max         1.000000  "
            ]
          },
          "metadata": {
            "tags": []
          },
          "execution_count": 174
        }
      ]
    },
    {
      "cell_type": "code",
      "metadata": {
        "colab_type": "code",
        "id": "JFJQqe7Z43n2",
        "outputId": "55311924-63a2-4273-9e5f-2642df41fe3b",
        "scrolled": true,
        "colab": {
          "base_uri": "https://localhost:8080/",
          "height": 351
        }
      },
      "source": [
        "data.info()"
      ],
      "execution_count": 175,
      "outputs": [
        {
          "output_type": "stream",
          "text": [
            "<class 'pandas.core.frame.DataFrame'>\n",
            "RangeIndex: 110527 entries, 0 to 110526\n",
            "Data columns (total 14 columns):\n",
            "PatientId         110527 non-null float64\n",
            "AppointmentID     110527 non-null int64\n",
            "Gender            110527 non-null object\n",
            "ScheduledDay      110527 non-null object\n",
            "AppointmentDay    110527 non-null object\n",
            "Age               110527 non-null int64\n",
            "Neighbourhood     110527 non-null object\n",
            "Scholarship       110527 non-null int64\n",
            "Hipertension      110527 non-null int64\n",
            "Diabetes          110527 non-null int64\n",
            "Alcoholism        110527 non-null int64\n",
            "Handcap           110527 non-null int64\n",
            "SMS_received      110527 non-null int64\n",
            "No-show           110527 non-null object\n",
            "dtypes: float64(1), int64(8), object(5)\n",
            "memory usage: 11.8+ MB\n"
          ],
          "name": "stdout"
        }
      ]
    },
    {
      "cell_type": "markdown",
      "metadata": {
        "colab_type": "text",
        "id": "RjoO8bcx7aij"
      },
      "source": [
        "## 3. Feature Engineering"
      ]
    },
    {
      "cell_type": "markdown",
      "metadata": {
        "colab_type": "text",
        "id": "AdYcuTbFbl9T"
      },
      "source": [
        "The original features of interest in this dataset are;\n",
        "\n",
        "- Patient Gender\n",
        "\n",
        "- ScheduledDay - date and time of when the appointment booking was done.\n",
        "\n",
        "- AppointmentDay - date (without time) that the appointment was scheduled for.\n",
        "\n",
        "- Patient Age\n",
        "\n",
        "- Neighbourhood - neighbourhood that the clinic is located in.  All neighbourhoods are in the city of Vitoria, Brazil.\n",
        "\n",
        "- Scholarship - binary feature indicating whether the patient is on a particular Brazilian social assistance program.  The data source provides this wikipedia article as further explanation - https://en.wikipedia.org/wiki/Bolsa_Fam%C3%ADlia.\n",
        "\n",
        "- Hipertension, Diabetes and Alcoholism - binary features indicating whether the patient suffers from any of these conditions.\n",
        "\n",
        "- Handcap - numerical feature (from 1 to 4) indicating degree of physical disability.\n",
        "\n",
        "- SMS_received - binary feature indicating whether a text reminder was received by the patient.\n",
        "\n",
        "- No-show - binary feature indicating whether or not the patient missed their appointment.\n",
        "\n",
        "Several additional features are derived below."
      ]
    },
    {
      "cell_type": "code",
      "metadata": {
        "colab_type": "code",
        "id": "iUXPZsQ6BS65",
        "colab": {}
      },
      "source": [
        "# map labels to 1 and 0\n",
        "\n",
        "data['Labels'] = data['No-show'].map({'Yes': 1, 'No': 0})\n"
      ],
      "execution_count": 0,
      "outputs": []
    },
    {
      "cell_type": "markdown",
      "metadata": {
        "colab_type": "text",
        "id": "iVhw6_B67i92"
      },
      "source": [
        "Creating new features; \"high_temp\" and \"rainfall\" - giving highest temperature (in C) and total rainfall (in mm) for each appointment day.  The supplementary weather data was obtained from https://www.worldweatheronline.com/vitoria-weather-history/espirito-santo/br.aspx"
      ]
    },
    {
      "cell_type": "code",
      "metadata": {
        "colab_type": "code",
        "id": "6a12XxOTBD1i",
        "colab": {}
      },
      "source": [
        "# map appointment days to historical weather data\n",
        "\n",
        "# daily high temp (in C)\n",
        "temps_dict = {'2016-06-06T00:00:00Z' : 31,\n",
        "              '2016-05-16T00:00:00Z' : 28,\n",
        "              '2016-05-09T00:00:00Z' : 28,\n",
        "              '2016-05-30T00:00:00Z' : 28,\n",
        "              '2016-06-08T00:00:00Z' : 24,\n",
        "              '2016-05-11T00:00:00Z' : 29,\n",
        "              '2016-06-01T00:00:00Z' : 29,\n",
        "              '2016-06-07T00:00:00Z' : 27,\n",
        "              '2016-05-12T00:00:00Z' : 27,\n",
        "              '2016-05-02T00:00:00Z' : 24,\n",
        "              '2016-05-18T00:00:00Z' : 25,\n",
        "              '2016-05-17T00:00:00Z' : 28,\n",
        "              '2016-06-02T00:00:00Z' : 30,\n",
        "              '2016-05-10T00:00:00Z' : 28,\n",
        "              '2016-05-31T00:00:00Z' : 25,\n",
        "              '2016-05-05T00:00:00Z' : 26,\n",
        "              '2016-05-19T00:00:00Z' : 24,\n",
        "              '2016-05-03T00:00:00Z' : 25,\n",
        "              '2016-05-04T00:00:00Z' : 27,\n",
        "              '2016-06-03T00:00:00Z' : 27,\n",
        "              '2016-05-24T00:00:00Z' : 24,\n",
        "              '2016-05-13T00:00:00Z' : 25,\n",
        "              '2016-05-25T00:00:00Z' : 23,\n",
        "              '2016-05-06T00:00:00Z' : 26,\n",
        "              '2016-05-20T00:00:00Z' : 24,\n",
        "              '2016-04-29T00:00:00Z' : 24,\n",
        "              '2016-05-14T00:00:00Z' : 23}\n",
        "\n",
        "# total rainfall on that day (in mm)\n",
        "rain_dict = {'2016-06-06T00:00:00Z' : 0,\n",
        "              '2016-05-16T00:00:00Z' : 0.03,\n",
        "              '2016-05-09T00:00:00Z' : 0.12,\n",
        "              '2016-05-30T00:00:00Z' : 0.37,\n",
        "              '2016-06-08T00:00:00Z' : 2.67,\n",
        "              '2016-05-11T00:00:00Z' : 0,\n",
        "              '2016-06-01T00:00:00Z' : 0,\n",
        "              '2016-06-07T00:00:00Z' : 1.26,\n",
        "              '2016-05-12T00:00:00Z' : 5.3,\n",
        "              '2016-05-02T00:00:00Z' : 0,\n",
        "              '2016-05-18T00:00:00Z' : 1.67,\n",
        "              '2016-05-17T00:00:00Z' : 0.74,\n",
        "              '2016-06-02T00:00:00Z' : 0.38,\n",
        "              '2016-05-10T00:00:00Z' : 0,\n",
        "              '2016-05-31T00:00:00Z' : 1.53,\n",
        "              '2016-05-05T00:00:00Z' : 0.02,\n",
        "              '2016-05-19T00:00:00Z' : 0.56,\n",
        "              '2016-05-03T00:00:00Z' : 0.47,\n",
        "              '2016-05-04T00:00:00Z' : 0.13,\n",
        "              '2016-06-03T00:00:00Z' : 2.2,\n",
        "              '2016-05-24T00:00:00Z' : 0.1,\n",
        "              '2016-05-13T00:00:00Z' : 0.28,\n",
        "              '2016-05-25T00:00:00Z' : 1.08,\n",
        "              '2016-05-06T00:00:00Z' : 0.34,\n",
        "              '2016-05-20T00:00:00Z' : 0.84,\n",
        "              '2016-04-29T00:00:00Z' : 3.58,\n",
        "              '2016-05-14T00:00:00Z' : 1.16}          \n",
        "\n",
        "data['high_temp'] = data['AppointmentDay'].map(temps_dict)  \n",
        "data['rainfall'] = data['AppointmentDay'].map(rain_dict)\n"
      ],
      "execution_count": 0,
      "outputs": []
    },
    {
      "cell_type": "markdown",
      "metadata": {
        "colab_type": "text",
        "id": "_h4OG56e7yR-"
      },
      "source": [
        "Creating new feature - \"impeachment_vote\" - the only significant news story in Brazil during the range of dates in question was their Senate voting to impeach the president on May 12, 2016.  Can distractions like this affect appointment compliance?"
      ]
    },
    {
      "cell_type": "code",
      "metadata": {
        "colab_type": "code",
        "id": "8rtLemhsYz06",
        "colab": {}
      },
      "source": [
        "# 1 for impeachment date, 0 for all others\n",
        "data['impeachment_vote'] = 0\n",
        "data['impeachment_vote'] = data['AppointmentDay'].map(lambda x: 1 if x == '2016-05-12T00:00:00Z' else 0)"
      ],
      "execution_count": 0,
      "outputs": []
    },
    {
      "cell_type": "markdown",
      "metadata": {
        "colab_type": "text",
        "id": "HLUG2sbCClRY"
      },
      "source": [
        "Creating new time-related features;\n",
        "\n",
        "days_to_appt - days between booking date and appointment.\n",
        "\n",
        "day_of_appt - day of the week of the appointment.\n",
        "\n",
        "day_of_scheduling - day of the week of the booking date.\n",
        "\n",
        "month_of_appt - month of the year of the appointment.\n",
        "\n",
        "month_of_scheduling - month of the year of the booking date.\n",
        "\n",
        "hour_of_scheduling - hour of the day during which the appointment booking took place. (Actual appointment time was not provided.) \n"
      ]
    },
    {
      "cell_type": "code",
      "metadata": {
        "colab_type": "code",
        "id": "6Tnrye3t43oG",
        "colab": {}
      },
      "source": [
        "# convert date objects to datetime format (without time part)\n",
        "data['ScheduledDayDT'] = pd.to_datetime(data['ScheduledDay']).dt.date\n",
        "data['ScheduledDayDT'] = pd.to_datetime((data['ScheduledDayDT']),utc=True)\n",
        "data['AppointmentDayDT'] = pd.to_datetime(data['AppointmentDay'])"
      ],
      "execution_count": 0,
      "outputs": []
    },
    {
      "cell_type": "code",
      "metadata": {
        "colab_type": "code",
        "id": "syenBaBy43oJ",
        "colab": {}
      },
      "source": [
        "# create new feature - \"days_to_appt\" - no. of days between scheduled date and appt date\n",
        "data['time_between_appts'] = data['AppointmentDayDT']-data['ScheduledDayDT']\n",
        "data['days_to_appt'] = data['time_between_appts']/np.timedelta64(1,'D')"
      ],
      "execution_count": 0,
      "outputs": []
    },
    {
      "cell_type": "code",
      "metadata": {
        "colab_type": "code",
        "id": "PqLwhMYp43oM",
        "colab": {}
      },
      "source": [
        "# create new features - day of the week and month of the year of the scheduling and appointment dates, hour of scheduling\n",
        "data['day_of_appt'] = data['AppointmentDayDT'].dt.dayofweek\n",
        "data['day_of_scheduling'] = data['ScheduledDayDT'].dt.dayofweek\n",
        "data['month_of_appt'] = data['AppointmentDayDT'].dt.month\n",
        "data['month_of_scheduling'] = data['ScheduledDayDT'].dt.month\n",
        "data['hour_of_scheduling'] = pd.to_datetime(data['ScheduledDay']).dt.hour"
      ],
      "execution_count": 0,
      "outputs": []
    },
    {
      "cell_type": "markdown",
      "metadata": {
        "colab_type": "text",
        "id": "TBLwTriHDRzG"
      },
      "source": [
        "Creating new features regarding past patient history;\n",
        "\n",
        "prior_no_shows - number of no-shows the patient had prior to the current appointment.\n",
        "\n",
        "prior_visits - number of total scheduled appointments the patient had prior to the current appointment.\n",
        "\n",
        "visit_freq - frequency of visits (appts/day for each pt, = 0 if they only had one appt \n",
        "in the dataset)"
      ]
    },
    {
      "cell_type": "code",
      "metadata": {
        "colab_type": "code",
        "id": "WNHRSJgpZ0c4",
        "colab": {
          "base_uri": "https://localhost:8080/",
          "height": 54
        },
        "outputId": "c06fc8dc-0042-4c5e-dae4-7568e35c60b1"
      },
      "source": [
        "# loop below takes several mins to run, you can just read in the data by running the cell below this one\n",
        "\n",
        "'''\n",
        "data['prior_no_shows'] = 0\n",
        "data['prior_visits'] = 0\n",
        "data['visit_freq'] = 0\n",
        "\n",
        "for i in data.index: \n",
        "  \n",
        "  # how many no-shows and overall visits happened for this PatientId, prior to current date?\n",
        "  data.loc[i,'prior_no_shows']=len(data[(data['PatientId']==data.loc[i,'PatientId']) & (data['AppointmentDayDT']<data.loc[i,'AppointmentDayDT']) & (data['Labels']==1)])\n",
        "  data.loc[i,'prior_visits']=len(data[(data['PatientId']==data.loc[i,'PatientId']) & (data['AppointmentDayDT']<data.loc[i,'AppointmentDayDT'])])\n",
        "\n",
        "  # visit frequency = total visits/(latest-earliest visit)\n",
        "  max_date = data[data['PatientId']==data.loc[i,'PatientId']]['AppointmentDayDT'].max()\n",
        "  min_date = data[data['PatientId']==data.loc[i,'PatientId']]['AppointmentDayDT'].min()\n",
        "  \n",
        "  if (max_date>min_date): # if there's only 1 appt it stays as zero\n",
        "      data.loc[i,'visit_freq'] = float(len(data[data['PatientId']==data.loc[i,'PatientId']]))/((max_date-min_date)/np.timedelta64(1,'D'))   \n",
        "\n",
        "# write the new columns to disk or google drive\n",
        "data[['prior_no_shows','prior_visits','visit_freq']].to_csv('prior_no_shows.csv')    \n",
        "!cp prior_no_shows.csv drive/My\\ Drive/  # only if using colab\n",
        "\n",
        "'''"
      ],
      "execution_count": 182,
      "outputs": [
        {
          "output_type": "execute_result",
          "data": {
            "text/plain": [
              "\"\\ndata['prior_no_shows'] = 0\\ndata['prior_visits'] = 0\\ndata['visit_freq'] = 0\\n\\nfor i in data.index: \\n  \\n  # how many no-shows and overall visits happened for this PatientId, prior to current date?\\n  data.loc[i,'prior_no_shows']=len(data[(data['PatientId']==data.loc[i,'PatientId']) & (data['AppointmentDayDT']<data.loc[i,'AppointmentDayDT']) & (data['Labels']==1)])\\n  data.loc[i,'prior_visits']=len(data[(data['PatientId']==data.loc[i,'PatientId']) & (data['AppointmentDayDT']<data.loc[i,'AppointmentDayDT'])])\\n\\n  # visit frequency = total visits/(latest-earliest visit)\\n  max_date = data[data['PatientId']==data.loc[i,'PatientId']]['AppointmentDayDT'].max()\\n  min_date = data[data['PatientId']==data.loc[i,'PatientId']]['AppointmentDayDT'].min()\\n  \\n  if (max_date>min_date): # if there's only 1 appt it stays as zero\\n      data.loc[i,'visit_freq'] = float(len(data[data['PatientId']==data.loc[i,'PatientId']]))/((max_date-min_date)/np.timedelta64(1,'D'))   \\n\\n# write the new columns to disk or google drive\\ndata[['prior_no_shows','prior_visits','visit_freq']].to_csv('prior_no_shows.csv')    \\n!cp prior_no_shows.csv drive/My\\\\ Drive/  # only if using colab\\n\\n\""
            ]
          },
          "metadata": {
            "tags": []
          },
          "execution_count": 182
        }
      ]
    },
    {
      "cell_type": "code",
      "metadata": {
        "colab_type": "code",
        "id": "WoEhEZ09zrg7",
        "colab": {}
      },
      "source": [
        "# use this to just read in the data instead of running the cells above\n",
        "prior_no_shows = pd.read_csv('/content/drive/My Drive/prior_no_shows.csv') # change to local dir if not using colab\n",
        "data['prior_no_shows'] = prior_no_shows['prior_no_shows']\n",
        "data['prior_visits'] = prior_no_shows['prior_visits']\n",
        "data['visit_freq'] = prior_no_shows['visit_freq']\n"
      ],
      "execution_count": 0,
      "outputs": []
    },
    {
      "cell_type": "markdown",
      "metadata": {
        "colab_type": "text",
        "id": "O9oavd01VLj4"
      },
      "source": [
        "## 4. Exploratory Analysis"
      ]
    },
    {
      "cell_type": "markdown",
      "metadata": {
        "colab_type": "text",
        "id": "1UeYDeBy43oW"
      },
      "source": [
        "No-shows make up approximately 20% of the data, while 80% of appointments were attended."
      ]
    },
    {
      "cell_type": "code",
      "metadata": {
        "colab_type": "code",
        "id": "SPjpTqHDaMki",
        "outputId": "84a41ca5-c9ab-4d1d-e4e7-e74869e1cba5",
        "colab": {
          "base_uri": "https://localhost:8080/",
          "height": 34
        }
      },
      "source": [
        "# check balance of labels\n",
        "\n",
        "no = len(data[data['No-show']=='No'])\n",
        "yes = len(data[data['No-show']=='Yes'])\n",
        "total = len(data)\n",
        "\n",
        "print('Number of Rows with No-Show = Yes: ', yes,'(',np.round(yes/total*100,2),'%), Number of rows with No-show = No: ', no,'(',np.round(no/total*100,2),'%)')"
      ],
      "execution_count": 184,
      "outputs": [
        {
          "output_type": "stream",
          "text": [
            "Number of Rows with No-Show = Yes:  22319 ( 20.19 %), Number of rows with No-show = No:  88208 ( 79.81 %)\n"
          ],
          "name": "stdout"
        }
      ]
    },
    {
      "cell_type": "markdown",
      "metadata": {
        "colab_type": "text",
        "id": "Tb5wD96QaPTt"
      },
      "source": [
        "Below we look at correlations between the various features and the labels."
      ]
    },
    {
      "cell_type": "code",
      "metadata": {
        "colab_type": "code",
        "id": "aXrSCzmq43oX",
        "outputId": "34edec53-1c78-4b03-86e5-62afc1c62bd0",
        "scrolled": true,
        "colab": {
          "base_uri": "https://localhost:8080/",
          "height": 422
        }
      },
      "source": [
        "#Correlation analysis\n",
        "corr=data.corr()\n",
        "corr['Labels'].sort_values(ascending=False)"
      ],
      "execution_count": 185,
      "outputs": [
        {
          "output_type": "execute_result",
          "data": {
            "text/plain": [
              "Labels                 1.000000\n",
              "days_to_appt           0.186231\n",
              "SMS_received           0.126431\n",
              "prior_no_shows         0.078592\n",
              "hour_of_scheduling     0.060697\n",
              "Scholarship            0.029135\n",
              "day_of_scheduling      0.006020\n",
              "day_of_appt            0.001165\n",
              "Alcoholism            -0.000196\n",
              "high_temp             -0.001033\n",
              "PatientId             -0.001461\n",
              "impeachment_vote      -0.005801\n",
              "Handcap               -0.006076\n",
              "rainfall              -0.014748\n",
              "Diabetes              -0.015180\n",
              "visit_freq            -0.016729\n",
              "prior_visits          -0.020710\n",
              "month_of_appt         -0.020886\n",
              "Hipertension          -0.035701\n",
              "Age                   -0.060319\n",
              "month_of_scheduling   -0.160862\n",
              "AppointmentID         -0.162602\n",
              "Name: Labels, dtype: float64"
            ]
          },
          "metadata": {
            "tags": []
          },
          "execution_count": 185
        }
      ]
    },
    {
      "cell_type": "code",
      "metadata": {
        "colab_type": "code",
        "id": "azci-2_M43ob",
        "outputId": "5503e03e-d39b-4404-cac9-f1e82b35b28b",
        "colab": {
          "base_uri": "https://localhost:8080/",
          "height": 366
        }
      },
      "source": [
        "#Heatmap\n",
        "ax = sns.heatmap(corr,  square=True)"
      ],
      "execution_count": 186,
      "outputs": [
        {
          "output_type": "display_data",
          "data": {
            "image/png": "[encoded data removed]",
            "text/plain": [
              "<Figure size 432x288 with 2 Axes>"
            ]
          },
          "metadata": {
            "tags": []
          }
        }
      ]
    },
    {
      "cell_type": "code",
      "metadata": {
        "colab_type": "code",
        "id": "_AiVKMRB43oj",
        "outputId": "e7a14e4c-10c1-4bcf-b62a-edfe77f90407",
        "colab": {
          "base_uri": "https://localhost:8080/",
          "height": 316
        }
      },
      "source": [
        "data.head()"
      ],
      "execution_count": 187,
      "outputs": [
        {
          "output_type": "execute_result",
          "data": {
            "text/html": [
              "<div>\n",
              "<style scoped>\n",
              "    .dataframe tbody tr th:only-of-type {\n",
              "        vertical-align: middle;\n",
              "    }\n",
              "\n",
              "    .dataframe tbody tr th {\n",
              "        vertical-align: top;\n",
              "    }\n",
              "\n",
              "    .dataframe thead th {\n",
              "        text-align: right;\n",
              "    }\n",
              "</style>\n",
              "<table border=\"1\" class=\"dataframe\">\n",
              "  <thead>\n",
              "    <tr style=\"text-align: right;\">\n",
              "      <th></th>\n",
              "      <th>PatientId</th>\n",
              "      <th>AppointmentID</th>\n",
              "      <th>Gender</th>\n",
              "      <th>ScheduledDay</th>\n",
              "      <th>AppointmentDay</th>\n",
              "      <th>Age</th>\n",
              "      <th>Neighbourhood</th>\n",
              "      <th>Scholarship</th>\n",
              "      <th>Hipertension</th>\n",
              "      <th>Diabetes</th>\n",
              "      <th>Alcoholism</th>\n",
              "      <th>Handcap</th>\n",
              "      <th>SMS_received</th>\n",
              "      <th>No-show</th>\n",
              "      <th>Labels</th>\n",
              "      <th>high_temp</th>\n",
              "      <th>rainfall</th>\n",
              "      <th>impeachment_vote</th>\n",
              "      <th>ScheduledDayDT</th>\n",
              "      <th>AppointmentDayDT</th>\n",
              "      <th>time_between_appts</th>\n",
              "      <th>days_to_appt</th>\n",
              "      <th>day_of_appt</th>\n",
              "      <th>day_of_scheduling</th>\n",
              "      <th>month_of_appt</th>\n",
              "      <th>month_of_scheduling</th>\n",
              "      <th>hour_of_scheduling</th>\n",
              "      <th>prior_no_shows</th>\n",
              "      <th>prior_visits</th>\n",
              "      <th>visit_freq</th>\n",
              "    </tr>\n",
              "  </thead>\n",
              "  <tbody>\n",
              "    <tr>\n",
              "      <th>0</th>\n",
              "      <td>2.987250e+13</td>\n",
              "      <td>5642903</td>\n",
              "      <td>F</td>\n",
              "      <td>2016-04-29T18:38:08Z</td>\n",
              "      <td>2016-04-29T00:00:00Z</td>\n",
              "      <td>62</td>\n",
              "      <td>JARDIM DA PENHA</td>\n",
              "      <td>0</td>\n",
              "      <td>1</td>\n",
              "      <td>0</td>\n",
              "      <td>0</td>\n",
              "      <td>0</td>\n",
              "      <td>0</td>\n",
              "      <td>No</td>\n",
              "      <td>0</td>\n",
              "      <td>24</td>\n",
              "      <td>3.58</td>\n",
              "      <td>0</td>\n",
              "      <td>2016-04-29 00:00:00+00:00</td>\n",
              "      <td>2016-04-29 00:00:00+00:00</td>\n",
              "      <td>0 days</td>\n",
              "      <td>0.0</td>\n",
              "      <td>4</td>\n",
              "      <td>4</td>\n",
              "      <td>4</td>\n",
              "      <td>4</td>\n",
              "      <td>18</td>\n",
              "      <td>0</td>\n",
              "      <td>0</td>\n",
              "      <td>0.0</td>\n",
              "    </tr>\n",
              "    <tr>\n",
              "      <th>1</th>\n",
              "      <td>5.589978e+14</td>\n",
              "      <td>5642503</td>\n",
              "      <td>M</td>\n",
              "      <td>2016-04-29T16:08:27Z</td>\n",
              "      <td>2016-04-29T00:00:00Z</td>\n",
              "      <td>56</td>\n",
              "      <td>JARDIM DA PENHA</td>\n",
              "      <td>0</td>\n",
              "      <td>0</td>\n",
              "      <td>0</td>\n",
              "      <td>0</td>\n",
              "      <td>0</td>\n",
              "      <td>0</td>\n",
              "      <td>No</td>\n",
              "      <td>0</td>\n",
              "      <td>24</td>\n",
              "      <td>3.58</td>\n",
              "      <td>0</td>\n",
              "      <td>2016-04-29 00:00:00+00:00</td>\n",
              "      <td>2016-04-29 00:00:00+00:00</td>\n",
              "      <td>0 days</td>\n",
              "      <td>0.0</td>\n",
              "      <td>4</td>\n",
              "      <td>4</td>\n",
              "      <td>4</td>\n",
              "      <td>4</td>\n",
              "      <td>16</td>\n",
              "      <td>0</td>\n",
              "      <td>0</td>\n",
              "      <td>0.0</td>\n",
              "    </tr>\n",
              "    <tr>\n",
              "      <th>2</th>\n",
              "      <td>4.262962e+12</td>\n",
              "      <td>5642549</td>\n",
              "      <td>F</td>\n",
              "      <td>2016-04-29T16:19:04Z</td>\n",
              "      <td>2016-04-29T00:00:00Z</td>\n",
              "      <td>62</td>\n",
              "      <td>MATA DA PRAIA</td>\n",
              "      <td>0</td>\n",
              "      <td>0</td>\n",
              "      <td>0</td>\n",
              "      <td>0</td>\n",
              "      <td>0</td>\n",
              "      <td>0</td>\n",
              "      <td>No</td>\n",
              "      <td>0</td>\n",
              "      <td>24</td>\n",
              "      <td>3.58</td>\n",
              "      <td>0</td>\n",
              "      <td>2016-04-29 00:00:00+00:00</td>\n",
              "      <td>2016-04-29 00:00:00+00:00</td>\n",
              "      <td>0 days</td>\n",
              "      <td>0.0</td>\n",
              "      <td>4</td>\n",
              "      <td>4</td>\n",
              "      <td>4</td>\n",
              "      <td>4</td>\n",
              "      <td>16</td>\n",
              "      <td>0</td>\n",
              "      <td>0</td>\n",
              "      <td>0.0</td>\n",
              "    </tr>\n",
              "    <tr>\n",
              "      <th>3</th>\n",
              "      <td>8.679512e+11</td>\n",
              "      <td>5642828</td>\n",
              "      <td>F</td>\n",
              "      <td>2016-04-29T17:29:31Z</td>\n",
              "      <td>2016-04-29T00:00:00Z</td>\n",
              "      <td>8</td>\n",
              "      <td>PONTAL DE CAMBURI</td>\n",
              "      <td>0</td>\n",
              "      <td>0</td>\n",
              "      <td>0</td>\n",
              "      <td>0</td>\n",
              "      <td>0</td>\n",
              "      <td>0</td>\n",
              "      <td>No</td>\n",
              "      <td>0</td>\n",
              "      <td>24</td>\n",
              "      <td>3.58</td>\n",
              "      <td>0</td>\n",
              "      <td>2016-04-29 00:00:00+00:00</td>\n",
              "      <td>2016-04-29 00:00:00+00:00</td>\n",
              "      <td>0 days</td>\n",
              "      <td>0.0</td>\n",
              "      <td>4</td>\n",
              "      <td>4</td>\n",
              "      <td>4</td>\n",
              "      <td>4</td>\n",
              "      <td>17</td>\n",
              "      <td>0</td>\n",
              "      <td>0</td>\n",
              "      <td>0.1</td>\n",
              "    </tr>\n",
              "    <tr>\n",
              "      <th>4</th>\n",
              "      <td>8.841186e+12</td>\n",
              "      <td>5642494</td>\n",
              "      <td>F</td>\n",
              "      <td>2016-04-29T16:07:23Z</td>\n",
              "      <td>2016-04-29T00:00:00Z</td>\n",
              "      <td>56</td>\n",
              "      <td>JARDIM DA PENHA</td>\n",
              "      <td>0</td>\n",
              "      <td>1</td>\n",
              "      <td>1</td>\n",
              "      <td>0</td>\n",
              "      <td>0</td>\n",
              "      <td>0</td>\n",
              "      <td>No</td>\n",
              "      <td>0</td>\n",
              "      <td>24</td>\n",
              "      <td>3.58</td>\n",
              "      <td>0</td>\n",
              "      <td>2016-04-29 00:00:00+00:00</td>\n",
              "      <td>2016-04-29 00:00:00+00:00</td>\n",
              "      <td>0 days</td>\n",
              "      <td>0.0</td>\n",
              "      <td>4</td>\n",
              "      <td>4</td>\n",
              "      <td>4</td>\n",
              "      <td>4</td>\n",
              "      <td>16</td>\n",
              "      <td>0</td>\n",
              "      <td>0</td>\n",
              "      <td>0.0</td>\n",
              "    </tr>\n",
              "  </tbody>\n",
              "</table>\n",
              "</div>"
            ],
            "text/plain": [
              "      PatientId  AppointmentID Gender          ScheduledDay  \\\n",
              "0  2.987250e+13        5642903      F  2016-04-29T18:38:08Z   \n",
              "1  5.589978e+14        5642503      M  2016-04-29T16:08:27Z   \n",
              "2  4.262962e+12        5642549      F  2016-04-29T16:19:04Z   \n",
              "3  8.679512e+11        5642828      F  2016-04-29T17:29:31Z   \n",
              "4  8.841186e+12        5642494      F  2016-04-29T16:07:23Z   \n",
              "\n",
              "         AppointmentDay  Age      Neighbourhood  Scholarship  Hipertension  \\\n",
              "0  2016-04-29T00:00:00Z   62    JARDIM DA PENHA            0             1   \n",
              "1  2016-04-29T00:00:00Z   56    JARDIM DA PENHA            0             0   \n",
              "2  2016-04-29T00:00:00Z   62      MATA DA PRAIA            0             0   \n",
              "3  2016-04-29T00:00:00Z    8  PONTAL DE CAMBURI            0             0   \n",
              "4  2016-04-29T00:00:00Z   56    JARDIM DA PENHA            0             1   \n",
              "\n",
              "   Diabetes  Alcoholism  Handcap  SMS_received No-show  Labels  high_temp  \\\n",
              "0         0           0        0             0      No       0         24   \n",
              "1         0           0        0             0      No       0         24   \n",
              "2         0           0        0             0      No       0         24   \n",
              "3         0           0        0             0      No       0         24   \n",
              "4         1           0        0             0      No       0         24   \n",
              "\n",
              "   rainfall  impeachment_vote            ScheduledDayDT  \\\n",
              "0      3.58                 0 2016-04-29 00:00:00+00:00   \n",
              "1      3.58                 0 2016-04-29 00:00:00+00:00   \n",
              "2      3.58                 0 2016-04-29 00:00:00+00:00   \n",
              "3      3.58                 0 2016-04-29 00:00:00+00:00   \n",
              "4      3.58                 0 2016-04-29 00:00:00+00:00   \n",
              "\n",
              "           AppointmentDayDT time_between_appts  days_to_appt  day_of_appt  \\\n",
              "0 2016-04-29 00:00:00+00:00             0 days           0.0            4   \n",
              "1 2016-04-29 00:00:00+00:00             0 days           0.0            4   \n",
              "2 2016-04-29 00:00:00+00:00             0 days           0.0            4   \n",
              "3 2016-04-29 00:00:00+00:00             0 days           0.0            4   \n",
              "4 2016-04-29 00:00:00+00:00             0 days           0.0            4   \n",
              "\n",
              "   day_of_scheduling  month_of_appt  month_of_scheduling  hour_of_scheduling  \\\n",
              "0                  4              4                    4                  18   \n",
              "1                  4              4                    4                  16   \n",
              "2                  4              4                    4                  16   \n",
              "3                  4              4                    4                  17   \n",
              "4                  4              4                    4                  16   \n",
              "\n",
              "   prior_no_shows  prior_visits  visit_freq  \n",
              "0               0             0         0.0  \n",
              "1               0             0         0.0  \n",
              "2               0             0         0.0  \n",
              "3               0             0         0.1  \n",
              "4               0             0         0.0  "
            ]
          },
          "metadata": {
            "tags": []
          },
          "execution_count": 187
        }
      ]
    },
    {
      "cell_type": "code",
      "metadata": {
        "colab_type": "code",
        "id": "PFYhOfE6ED8Z",
        "colab": {}
      },
      "source": [
        "# keep only desired features and labels\n",
        "data_clean = data[['Labels','Gender','Age','SMS_received','day_of_appt','day_of_scheduling','month_of_appt','month_of_scheduling','hour_of_scheduling','days_to_appt','prior_no_shows','prior_visits',\n",
        "                   'high_temp','rainfall','visit_freq','Scholarship']]\n",
        "                   \n",
        "#data_clean = data_clean[0:10000]"
      ],
      "execution_count": 0,
      "outputs": []
    },
    {
      "cell_type": "code",
      "metadata": {
        "colab_type": "code",
        "id": "QqCHQLiIjs71",
        "outputId": "2b3a0407-3c28-41c8-e97d-adc1d8c65da7",
        "colab": {
          "base_uri": "https://localhost:8080/",
          "height": 301
        }
      },
      "source": [
        "#Who visits the doctor frequently ?\n",
        "visiting = data[data['No-show'] == 'No']\n",
        "sns.countplot(x = 'Gender', data = visiting)"
      ],
      "execution_count": 189,
      "outputs": [
        {
          "output_type": "execute_result",
          "data": {
            "text/plain": [
              "<matplotlib.axes._subplots.AxesSubplot at 0x7f357695dfd0>"
            ]
          },
          "metadata": {
            "tags": []
          },
          "execution_count": 189
        },
        {
          "output_type": "display_data",
          "data": {
            "image/png": "[encoded data removed]",
            "text/plain": [
              "<Figure size 432x288 with 1 Axes>"
            ]
          },
          "metadata": {
            "tags": []
          }
        }
      ]
    },
    {
      "cell_type": "code",
      "metadata": {
        "colab_type": "code",
        "id": "r-mWKxf9jxQD",
        "outputId": "c8bd5f86-e09d-44c2-919c-8fe0e94bebe1",
        "colab": {
          "base_uri": "https://localhost:8080/",
          "height": 87
        }
      },
      "source": [
        "# What is the patient age distribtuion for no shows versus those who\n",
        "#shows up for the apppointment ?\n",
        "\n",
        "data.groupby('No-show')['Age'].mean()"
      ],
      "execution_count": 190,
      "outputs": [
        {
          "output_type": "execute_result",
          "data": {
            "text/plain": [
              "No-show\n",
              "No     37.790064\n",
              "Yes    34.317667\n",
              "Name: Age, dtype: float64"
            ]
          },
          "metadata": {
            "tags": []
          },
          "execution_count": 190
        }
      ]
    },
    {
      "cell_type": "code",
      "metadata": {
        "colab_type": "code",
        "id": "ON2dvWGjjx7W",
        "outputId": "2fd7af54-26f8-4fbf-c5e1-89d56eb1b4e2",
        "colab": {
          "base_uri": "https://localhost:8080/",
          "height": 242
        }
      },
      "source": [
        "figure = sns.FacetGrid(data, hue='No-show', aspect=3)\n",
        "figure.map(sns.kdeplot, 'Age', shade= True)\n",
        "figure.add_legend()"
      ],
      "execution_count": 191,
      "outputs": [
        {
          "output_type": "execute_result",
          "data": {
            "text/plain": [
              "<seaborn.axisgrid.FacetGrid at 0x7f35769177b8>"
            ]
          },
          "metadata": {
            "tags": []
          },
          "execution_count": 191
        },
        {
          "output_type": "display_data",
          "data": {
            "image/png": "[encoded data removed]",
            "text/plain": [
              "<Figure size 701.359x216 with 1 Axes>"
            ]
          },
          "metadata": {
            "tags": []
          }
        }
      ]
    },
    {
      "cell_type": "code",
      "metadata": {
        "colab_type": "code",
        "id": "95WahbBVjyjP",
        "outputId": "1fca4ded-1718-4f6d-a5d7-b23ca3b7be29",
        "colab": {
          "base_uri": "https://localhost:8080/",
          "height": 70
        }
      },
      "source": [
        "#Number of males vs females in this dataset\n",
        "\n",
        "data['Gender'].value_counts(normalize = False)"
      ],
      "execution_count": 192,
      "outputs": [
        {
          "output_type": "execute_result",
          "data": {
            "text/plain": [
              "F    71840\n",
              "M    38687\n",
              "Name: Gender, dtype: int64"
            ]
          },
          "metadata": {
            "tags": []
          },
          "execution_count": 192
        }
      ]
    },
    {
      "cell_type": "code",
      "metadata": {
        "colab_type": "code",
        "id": "l25Oz4kk_at6",
        "outputId": "97e9f96c-b761-4522-ac64-6e239b062c35",
        "colab": {
          "base_uri": "https://localhost:8080/",
          "height": 301
        }
      },
      "source": [
        "#Calculating the proportion of no shows if the patient is male or female\n",
        "\n",
        "sns.countplot(x = 'No-show', hue = 'Gender', data=data)"
      ],
      "execution_count": 193,
      "outputs": [
        {
          "output_type": "execute_result",
          "data": {
            "text/plain": [
              "<matplotlib.axes._subplots.AxesSubplot at 0x7f35768dfdd8>"
            ]
          },
          "metadata": {
            "tags": []
          },
          "execution_count": 193
        },
        {
          "output_type": "display_data",
          "data": {
            "image/png": "[encoded data removed]",
            "text/plain": [
              "<Figure size 432x288 with 1 Axes>"
            ]
          },
          "metadata": {
            "tags": []
          }
        }
      ]
    },
    {
      "cell_type": "code",
      "metadata": {
        "colab_type": "code",
        "id": "2zkPxsOh_a6y",
        "outputId": "cdddb71f-3c41-4d8c-f56c-35262b13b631",
        "colab": {
          "base_uri": "https://localhost:8080/",
          "height": 297
        }
      },
      "source": [
        "#Now we will compare the relation of no-show with various features\n",
        "\n",
        "#First we will check the relationship between no-show vs Diabetes\n",
        "\n",
        "sns.countplot(x = 'No-show', hue='Diabetes', data=data)"
      ],
      "execution_count": 194,
      "outputs": [
        {
          "output_type": "execute_result",
          "data": {
            "text/plain": [
              "<matplotlib.axes._subplots.AxesSubplot at 0x7f357e75c588>"
            ]
          },
          "metadata": {
            "tags": []
          },
          "execution_count": 194
        },
        {
          "output_type": "display_data",
          "data": {
            "image/png": "[encoded data removed]",
            "text/plain": [
              "<Figure size 432x288 with 1 Axes>"
            ]
          },
          "metadata": {
            "tags": []
          }
        }
      ]
    },
    {
      "cell_type": "code",
      "metadata": {
        "colab_type": "code",
        "id": "W39OCKVj_bHh",
        "colab": {}
      },
      "source": [
        "#Next we compare the realtionship of No-show with the following features\n",
        "\n",
        "#-'Scholarship'\n",
        "#-'Hipertension'\n",
        "#-'Alcoholism'\n",
        "#-'Handcap'"
      ],
      "execution_count": 0,
      "outputs": []
    },
    {
      "cell_type": "code",
      "metadata": {
        "colab_type": "code",
        "id": "k7wdOXGS_bL5",
        "outputId": "94b819d3-208b-45f0-f7d3-1c07776f5ba4",
        "colab": {
          "base_uri": "https://localhost:8080/",
          "height": 658
        }
      },
      "source": [
        "fig, ax =plt.subplots(2,2, figsize=(15,10))\n",
        "sns.countplot(x='No-show', hue='Scholarship', data=data, ax=ax[0][0]).set_title('No-show vs Scholarship')\n",
        "sns.countplot(x='No-show', hue='Handcap', data=data, ax=ax[1][1]).set_title('No-show vs Handicap')\n",
        "sns.countplot(x='No-show', hue='Hipertension', data=data, ax=ax[1][0]).set_title('No-show vs Hipertension')\n",
        "sns.countplot(x='No-show', hue='Alcoholism', data=data, ax=ax[0][1]).set_title('No-show vs Alcoholism')"
      ],
      "execution_count": 196,
      "outputs": [
        {
          "output_type": "execute_result",
          "data": {
            "text/plain": [
              "Text(0.5, 1.0, 'No-show vs Alcoholism')"
            ]
          },
          "metadata": {
            "tags": []
          },
          "execution_count": 196
        },
        {
          "output_type": "display_data",
          "data": {
            "image/png": "[encoded data removed]",
            "text/plain": [
              "<Figure size 1080x720 with 4 Axes>"
            ]
          },
          "metadata": {
            "tags": []
          }
        }
      ]
    },
    {
      "cell_type": "code",
      "metadata": {
        "colab_type": "code",
        "id": "d1LpBoGg_bQB",
        "outputId": "e6c9ee23-86f3-4979-d949-f98d19c2139c",
        "colab": {
          "base_uri": "https://localhost:8080/",
          "height": 1000
        }
      },
      "source": [
        "#Lastly we compare the relationship between no-shows vs neighbourhoods\n",
        "\n",
        "sns.countplot(x='No-show', hue='Neighbourhood', data=data)"
      ],
      "execution_count": 197,
      "outputs": [
        {
          "output_type": "execute_result",
          "data": {
            "text/plain": [
              "<matplotlib.axes._subplots.AxesSubplot at 0x7f357617aa90>"
            ]
          },
          "metadata": {
            "tags": []
          },
          "execution_count": 197
        },
        {
          "output_type": "display_data",
          "data": {
            "image/png": "[encoded data removed]",
            "text/plain": [
              "<Figure size 432x288 with 1 Axes>"
            ]
          },
          "metadata": {
            "tags": []
          }
        }
      ]
    },
    {
      "cell_type": "code",
      "metadata": {
        "colab_type": "code",
        "id": "fIT_H2Mn_bUI",
        "outputId": "95d326e6-5301-4ea3-fb43-734e0ab566e8",
        "colab": {
          "base_uri": "https://localhost:8080/",
          "height": 558
        }
      },
      "source": [
        "plt.figure(figsize=(15,4))\n",
        "sns.countplot(x='Neighbourhood', hue='No-show', data=data)\n",
        "plt.xticks(rotation=90)"
      ],
      "execution_count": 198,
      "outputs": [
        {
          "output_type": "execute_result",
          "data": {
            "text/plain": [
              "(array([ 0,  1,  2,  3,  4,  5,  6,  7,  8,  9, 10, 11, 12, 13, 14, 15, 16,\n",
              "        17, 18, 19, 20, 21, 22, 23, 24, 25, 26, 27, 28, 29, 30, 31, 32, 33,\n",
              "        34, 35, 36, 37, 38, 39, 40, 41, 42, 43, 44, 45, 46, 47, 48, 49, 50,\n",
              "        51, 52, 53, 54, 55, 56, 57, 58, 59, 60, 61, 62, 63, 64, 65, 66, 67,\n",
              "        68, 69, 70, 71, 72, 73, 74, 75, 76, 77, 78, 79, 80]),\n",
              " <a list of 81 Text xticklabel objects>)"
            ]
          },
          "metadata": {
            "tags": []
          },
          "execution_count": 198
        },
        {
          "output_type": "display_data",
          "data": {
            "image/png": "[encoded data removed]",
            "text/plain": [
              "<Figure size 1080x288 with 1 Axes>"
            ]
          },
          "metadata": {
            "tags": []
          }
        }
      ]
    },
    {
      "cell_type": "code",
      "metadata": {
        "colab_type": "code",
        "id": "U84JD-GZ_bX0",
        "outputId": "a6a2fdf8-92ab-4fec-88a9-eac16ea57aac",
        "colab": {
          "base_uri": "https://localhost:8080/",
          "height": 246
        }
      },
      "source": [
        "#Determining which neighbourhood has the highest number of no shows\n",
        "\n",
        "neigh_no_show = data[data['No-show'] == 'No']\n",
        "neigh_no_show.groupby('Neighbourhood')['No-show'].count().sort_values(ascending=False)"
      ],
      "execution_count": 199,
      "outputs": [
        {
          "output_type": "execute_result",
          "data": {
            "text/plain": [
              "Neighbourhood\n",
              "JARDIM CAMBURI       6252\n",
              "MARIA ORTIZ          4586\n",
              "RESISTÊNCIA          3525\n",
              "JARDIM DA PENHA      3246\n",
              "SANTA MARTHA         2635\n",
              "                     ... \n",
              "PONTAL DE CAMBURI      57\n",
              "ILHA DO BOI            32\n",
              "ILHA DO FRADE           8\n",
              "AEROPORTO               7\n",
              "PARQUE INDUSTRIAL       1\n",
              "Name: No-show, Length: 80, dtype: int64"
            ]
          },
          "metadata": {
            "tags": []
          },
          "execution_count": 199
        }
      ]
    },
    {
      "cell_type": "code",
      "metadata": {
        "id": "WylA1DtCv5ij",
        "colab_type": "code",
        "outputId": "eb4f098a-6ce6-4ac6-dfa3-ef605bddb9e1",
        "colab": {
          "base_uri": "https://localhost:8080/",
          "height": 264
        }
      },
      "source": [
        "# Plotting the distribution of Neighbourhood with pie-chart.\n",
        "plt.subplots(figsize=(8,4))\n",
        "data['Neighbourhood'].value_counts()[:10].plot(kind='pie',autopct='%1.1f%%',shadow=True,explode=[0.1,0,0,0,0,0,0,0,0,0])\n",
        "plt.title('Distribution Of Top Neighbourhood')\n",
        "plt.show()"
      ],
      "execution_count": 200,
      "outputs": [
        {
          "output_type": "display_data",
          "data": {
            "image/png": "[encoded data removed]",
            "text/plain": [
              "<Figure size 576x288 with 1 Axes>"
            ]
          },
          "metadata": {
            "tags": []
          }
        }
      ]
    },
    {
      "cell_type": "code",
      "metadata": {
        "colab_type": "code",
        "id": "iZShOhF5_bbx",
        "outputId": "320e065d-7117-43d5-eea9-fce0744f44b5",
        "colab": {
          "base_uri": "https://localhost:8080/",
          "height": 246
        }
      },
      "source": [
        "#Determining which neighbourhood has the highest number of shows\n",
        "\n",
        "neigh_no_show = data[data['No-show'] == 'Yes']\n",
        "neigh_no_show.groupby('Neighbourhood')['No-show'].count().sort_values(ascending=False)"
      ],
      "execution_count": 201,
      "outputs": [
        {
          "output_type": "execute_result",
          "data": {
            "text/plain": [
              "Neighbourhood\n",
              "JARDIM CAMBURI                 1465\n",
              "MARIA ORTIZ                    1219\n",
              "ITARARÉ                         923\n",
              "RESISTÊNCIA                     906\n",
              "CENTRO                          703\n",
              "                               ... \n",
              "PONTAL DE CAMBURI                12\n",
              "ILHA DO BOI                       3\n",
              "ILHAS OCEÂNICAS DE TRINDADE       2\n",
              "ILHA DO FRADE                     2\n",
              "AEROPORTO                         1\n",
              "Name: No-show, Length: 80, dtype: int64"
            ]
          },
          "metadata": {
            "tags": []
          },
          "execution_count": 201
        }
      ]
    },
    {
      "cell_type": "code",
      "metadata": {
        "colab_type": "code",
        "id": "KBED7OC5TztG",
        "outputId": "5218feca-dbf7-4728-f0d2-a4b18807e8bb",
        "colab": {
          "base_uri": "https://localhost:8080/",
          "height": 298
        }
      },
      "source": [
        "#We like to determine whether a patient would attaned their scheduled \n",
        "#appointment if they received an sms.\n",
        "\n",
        "sns.countplot(x='SMS_received', hue = 'No-show', data = data)"
      ],
      "execution_count": 202,
      "outputs": [
        {
          "output_type": "execute_result",
          "data": {
            "text/plain": [
              "<matplotlib.axes._subplots.AxesSubplot at 0x7f3579206dd8>"
            ]
          },
          "metadata": {
            "tags": []
          },
          "execution_count": 202
        },
        {
          "output_type": "display_data",
          "data": {
            "image/png": "[encoded data removed]",
            "text/plain": [
              "<Figure size 432x288 with 1 Axes>"
            ]
          },
          "metadata": {
            "tags": []
          }
        }
      ]
    },
    {
      "cell_type": "code",
      "metadata": {
        "colab_type": "code",
        "id": "OAZQG0DmT0bH",
        "colab": {}
      },
      "source": [
        "#https://github.com/mwaskom/seaborn/issues/1027"
      ],
      "execution_count": 0,
      "outputs": []
    },
    {
      "cell_type": "code",
      "metadata": {
        "colab_type": "code",
        "id": "zSO92Q_uT03q",
        "colab": {}
      },
      "source": [
        ""
      ],
      "execution_count": 0,
      "outputs": []
    },
    {
      "cell_type": "markdown",
      "metadata": {
        "id": "GgCF2jv7TciM",
        "colab_type": "text"
      },
      "source": [
        "We found it surprising that people with scholarships were less likely to show up to their appointments. This may be because these patients don't\n",
        "have to pay for their appointments, so they are not as invested as people who have to pay to see the doctor."
      ]
    },
    {
      "cell_type": "markdown",
      "metadata": {
        "colab_type": "text",
        "id": "izwTxgiM43on"
      },
      "source": [
        "## 5. Preparing for Modelling\n",
        "\n",
        "The cleaned data is divided into train/test sets (70/30) ratio below. OneHotEncoder() is used to encode categorical features and StandardScaler() is used to transform numerical features.  "
      ]
    },
    {
      "cell_type": "code",
      "metadata": {
        "colab_type": "code",
        "id": "FGXgaFsEZhfD",
        "outputId": "32e9c9aa-2276-49ca-f655-0a1d429cad95",
        "colab": {
          "base_uri": "https://localhost:8080/",
          "height": 105
        }
      },
      "source": [
        "data_clean.columns"
      ],
      "execution_count": 204,
      "outputs": [
        {
          "output_type": "execute_result",
          "data": {
            "text/plain": [
              "Index(['Labels', 'Gender', 'Age', 'SMS_received', 'day_of_appt',\n",
              "       'day_of_scheduling', 'month_of_appt', 'month_of_scheduling',\n",
              "       'hour_of_scheduling', 'days_to_appt', 'prior_no_shows', 'prior_visits',\n",
              "       'high_temp', 'rainfall', 'visit_freq', 'Scholarship'],\n",
              "      dtype='object')"
            ]
          },
          "metadata": {
            "tags": []
          },
          "execution_count": 204
        }
      ]
    },
    {
      "cell_type": "code",
      "metadata": {
        "colab_type": "code",
        "id": "qYnfpNWH43or",
        "outputId": "bd42a6e6-28c3-4fc7-f7a5-eb9f9ca8b68e",
        "colab": {
          "base_uri": "https://localhost:8080/",
          "height": 34
        }
      },
      "source": [
        "# split into test/train\n",
        "train_set,test_set = train_test_split(data_clean,test_size=0.3,stratify=data_clean[\"Labels\"])\n",
        "print(len(train_set), \"train +\", len(test_set), \"test\")\n",
        "\n",
        "# divide into features/labels\n",
        "train_features = train_set.drop('Labels',axis=1)\n",
        "train_labels = train_set[['Labels']]\n",
        "test_features = test_set.drop('Labels',axis=1)\n",
        "test_labels = test_set[['Labels']]"
      ],
      "execution_count": 205,
      "outputs": [
        {
          "output_type": "stream",
          "text": [
            "77368 train + 33159 test\n"
          ],
          "name": "stdout"
        }
      ]
    },
    {
      "cell_type": "code",
      "metadata": {
        "colab_type": "code",
        "id": "IIlo_sf343o9",
        "colab": {}
      },
      "source": [
        "# transform numerical and categorical features using StandardScaler() and OneHotEncoder()\n",
        "num_attribs = ['Age','days_to_appt','prior_no_shows','high_temp','rainfall','prior_visits','visit_freq']\n",
        "cat_attribs_one_hot = ['Gender','day_of_appt','day_of_scheduling','month_of_appt','month_of_scheduling','hour_of_scheduling']\n",
        "\n",
        "pipeline_features = ColumnTransformer(\n",
        "    [(\"num\",StandardScaler(),num_attribs),(\"cat\",OneHotEncoder(categories='auto',handle_unknown='ignore'),cat_attribs_one_hot)],remainder='passthrough')\n",
        "\n",
        "train_features_prepared = pipeline_features.fit_transform(train_features)\n",
        "train_labels_prepared = train_labels.values\n",
        "\n",
        "test_features_prepared = pipeline_features.transform(test_features)\n",
        "test_labels_prepared = test_labels.values"
      ],
      "execution_count": 0,
      "outputs": []
    },
    {
      "cell_type": "code",
      "metadata": {
        "colab_type": "code",
        "id": "eBNDq8il43pA",
        "outputId": "670f23a8-5b3c-4c0a-b83e-b1ea79f9ee78",
        "scrolled": true,
        "colab": {
          "base_uri": "https://localhost:8080/",
          "height": 34
        }
      },
      "source": [
        "train_features_prepared.shape"
      ],
      "execution_count": 207,
      "outputs": [
        {
          "output_type": "execute_result",
          "data": {
            "text/plain": [
              "(77368, 50)"
            ]
          },
          "metadata": {
            "tags": []
          },
          "execution_count": 207
        }
      ]
    },
    {
      "cell_type": "code",
      "metadata": {
        "colab_type": "code",
        "id": "HlgAIOXv43pF",
        "outputId": "65576d76-4719-4179-f355-76b07f09e919",
        "colab": {
          "base_uri": "https://localhost:8080/",
          "height": 34
        }
      },
      "source": [
        "test_features_prepared.shape"
      ],
      "execution_count": 208,
      "outputs": [
        {
          "output_type": "execute_result",
          "data": {
            "text/plain": [
              "(33159, 50)"
            ]
          },
          "metadata": {
            "tags": []
          },
          "execution_count": 208
        }
      ]
    },
    {
      "cell_type": "markdown",
      "metadata": {
        "id": "ittvE-5lMMjT",
        "colab_type": "text"
      },
      "source": [
        "## 5.Model Selection"
      ]
    },
    {
      "cell_type": "markdown",
      "metadata": {
        "id": "f-9GIT_mMcZo",
        "colab_type": "text"
      },
      "source": [
        "Below we will evaluate popular classiifer models on our dataset"
      ]
    },
    {
      "cell_type": "code",
      "metadata": {
        "colab_type": "code",
        "id": "PNay-VDGV8iX",
        "colab": {}
      },
      "source": [
        "# This Function Runs Several Classifiers on Training Data with 3 cv-folds, Prints Out \"metric\" score of each Model\n",
        "metrics=['accuracy', 'precision', 'recall','roc_auc']\n",
        "def testClassifiers(train_features,train_labels,metrics=[]):\n",
        "    LOG=LogisticRegression()\n",
        "    DTC=DecisionTreeClassifier()\n",
        "    RFC=RandomForestClassifier(n_estimators=100)\n",
        "    KNN=KNeighborsClassifier()\n",
        "    SGD=SGDClassifier()\n",
        "    SVC_CLF = SVC(kernel=\"rbf\") \n",
        "    XGB=XGBClassifier()\n",
        "\n",
        "    classifier_list = [LOG,DTC,RFC,KNN,XGB]\n",
        "\n",
        "    score_list=[]\n",
        "    for c in classifier_list:\n",
        "        print(type(c).__name__)\n",
        "        for m in metrics:\n",
        "            #can use cross_validate with multiple scores insteadto make this run faster\n",
        "            cv_results = cross_val_score(c,train_features_prepared,train_labels_prepared,cv=3,scoring=m)\n",
        "            score_list.append([type(c).__name__ + ' '+ m,np.mean(cv_results)])\n",
        "            print('-------------------')\n",
        "            print('Scoring Metric: ', m)\n",
        "            print('Scores: ',cv_results)\n",
        "            print('Mean Score: ',np.round(np.mean(cv_results),3))\n",
        "            print('')\n",
        "\n",
        "    scores=pd.DataFrame(score_list,columns=['classifier&metric','score'])\n",
        "    scores.plot(kind='bar',x='classifier&metric',y=['score'])"
      ],
      "execution_count": 0,
      "outputs": []
    },
    {
      "cell_type": "code",
      "metadata": {
        "colab_type": "code",
        "id": "dZOug8--J6L1",
        "outputId": "87da909e-11be-40f8-93c0-e3f1ad3c2b52",
        "colab": {
          "base_uri": "https://localhost:8080/",
          "height": 1000
        }
      },
      "source": [
        "testClassifiers(train_features_prepared,train_labels, ['accuracy', 'precision', 'recall', 'f1', 'roc_auc'])"
      ],
      "execution_count": 210,
      "outputs": [
        {
          "output_type": "stream",
          "text": [
            "LogisticRegression\n",
            "-------------------\n",
            "Scoring Metric:  accuracy\n",
            "Scores:  [0.79767352 0.79526948 0.7969986 ]\n",
            "Mean Score:  0.797\n",
            "\n",
            "-------------------\n",
            "Scoring Metric:  precision\n",
            "Scores:  [0.48447205 0.39714286 0.45882353]\n",
            "Mean Score:  0.447\n",
            "\n",
            "-------------------\n",
            "Scoring Metric:  recall\n",
            "Scores:  [0.02995392 0.02668971 0.02995967]\n",
            "Mean Score:  0.029\n",
            "\n",
            "-------------------\n",
            "Scoring Metric:  f1\n",
            "Scores:  [0.05641953 0.05001799 0.05624662]\n",
            "Mean Score:  0.054\n",
            "\n",
            "-------------------\n",
            "Scoring Metric:  roc_auc\n",
            "Scores:  [0.68036673 0.67887158 0.68167693]\n",
            "Mean Score:  0.68\n",
            "\n",
            "DecisionTreeClassifier\n",
            "-------------------\n",
            "Scoring Metric:  accuracy\n",
            "Scores:  [0.71985266 0.71682823 0.71955949]\n",
            "Mean Score:  0.719\n",
            "\n",
            "-------------------\n",
            "Scoring Metric:  precision\n",
            "Scores:  [0.31865564 0.32090877 0.31649522]\n",
            "Mean Score:  0.319\n",
            "\n",
            "-------------------\n",
            "Scoring Metric:  recall\n",
            "Scores:  [0.34543011 0.33813364 0.32667563]\n",
            "Mean Score:  0.337\n",
            "\n",
            "-------------------\n",
            "Scoring Metric:  f1\n",
            "Scores:  [0.3320026  0.33027523 0.32267714]\n",
            "Mean Score:  0.328\n",
            "\n",
            "-------------------\n",
            "Scoring Metric:  roc_auc\n",
            "Scores:  [0.57901146 0.57748979 0.57401812]\n",
            "Mean Score:  0.577\n",
            "\n",
            "RandomForestClassifier\n",
            "-------------------\n",
            "Scoring Metric:  accuracy\n",
            "Scores:  [0.79015122 0.79212873 0.79149217]\n",
            "Mean Score:  0.791\n",
            "\n",
            "-------------------\n",
            "Scoring Metric:  precision\n",
            "Scores:  [0.44262295 0.45618247 0.45959284]\n",
            "Mean Score:  0.453\n",
            "\n",
            "-------------------\n",
            "Scoring Metric:  recall\n",
            "Scores:  [0.14650538 0.14324117 0.13961974]\n",
            "Mean Score:  0.143\n",
            "\n",
            "-------------------\n",
            "Scoring Metric:  f1\n",
            "Scores:  [0.21825511 0.21060318 0.22435618]\n",
            "Mean Score:  0.218\n",
            "\n",
            "-------------------\n",
            "Scoring Metric:  roc_auc\n",
            "Scores:  [0.72858188 0.72877778 0.72652246]\n",
            "Mean Score:  0.728\n",
            "\n",
            "KNeighborsClassifier\n",
            "-------------------\n",
            "Scoring Metric:  accuracy\n",
            "Scores:  [0.77312912 0.77541683 0.77675663]\n",
            "Mean Score:  0.775\n",
            "\n",
            "-------------------\n",
            "Scoring Metric:  precision\n",
            "Scores:  [0.3741683  0.38717156 0.38946945]\n",
            "Mean Score:  0.384\n",
            "\n",
            "-------------------\n",
            "Scoring Metric:  recall\n",
            "Scores:  [0.18356375 0.19239631 0.18609564]\n",
            "Mean Score:  0.187\n",
            "\n",
            "-------------------\n",
            "Scoring Metric:  f1\n",
            "Scores:  [0.24629653 0.2570549  0.25185185]\n",
            "Mean Score:  0.252\n",
            "\n",
            "-------------------\n",
            "Scoring Metric:  roc_auc\n",
            "Scores:  [0.65649504 0.66589899 0.66182486]\n",
            "Mean Score:  0.661\n",
            "\n",
            "XGBClassifier\n",
            "-------------------\n",
            "Scoring Metric:  accuracy\n",
            "Scores:  [0.79965103 0.79848779 0.79971304]\n",
            "Mean Score:  0.799\n",
            "\n",
            "-------------------\n",
            "Scoring Metric:  precision\n",
            "Scores:  [0.62130178 0.53005464 0.62209302]\n",
            "Mean Score:  0.591\n",
            "\n",
            "-------------------\n",
            "Scoring Metric:  recall\n",
            "Scores:  [0.02016129 0.01862519 0.02054926]\n",
            "Mean Score:  0.02\n",
            "\n",
            "-------------------\n",
            "Scoring Metric:  f1\n",
            "Scores:  [0.03905524 0.0359859  0.03978435]\n",
            "Mean Score:  0.038\n",
            "\n",
            "-------------------\n",
            "Scoring Metric:  roc_auc\n",
            "Scores:  [0.73786359 0.73924546 0.734795  ]\n",
            "Mean Score:  0.737\n",
            "\n"
          ],
          "name": "stdout"
        },
        {
          "output_type": "display_data",
          "data": {
            "image/png": "[encoded data removed]",
            "text/plain": [
              "<Figure size 432x288 with 1 Axes>"
            ]
          },
          "metadata": {
            "tags": []
          }
        }
      ]
    },
    {
      "cell_type": "markdown",
      "metadata": {
        "id": "VfRqnAqaMpes",
        "colab_type": "text"
      },
      "source": [
        "None of the models above had very high scores. Given this fact, what makese sense for our business scenario would be to focus on maximizing precision (at the expense of recall). Acheving high scores for both is difficult given the weakness of our dataset. However, we may be able to maximize one over the other.\n"
      ]
    },
    {
      "cell_type": "markdown",
      "metadata": {
        "id": "zxrYMWDFNLUI",
        "colab_type": "text"
      },
      "source": [
        "Based on the above scores, some of the models that stood out are KNN, and RFC. We can try to tune hyperparmataers for these"
      ]
    },
    {
      "cell_type": "code",
      "metadata": {
        "id": "18rTY8O3NS69",
        "colab_type": "code",
        "colab": {
          "base_uri": "https://localhost:8080/",
          "height": 87
        },
        "outputId": "77a006f6-9b70-4f53-ef73-c9eff1b35ac3"
      },
      "source": [
        "#grid search\n",
        "from sklearn.model_selection import GridSearchCV\n",
        "\n",
        "param_grid_RFC = { 'n_estimators' : [10,100,200]}\n",
        "\n",
        "param_grid_KNN = { 'n_neighbors' : [2,10,40,50,60]}\n",
        "\n",
        "\n",
        "#Random Forests\n",
        "\n",
        "cv = GridSearchCV(estimator=RandomForestClassifier(), param_grid=param_grid_RFC, cv= 3,\n",
        "                      scoring='precision')\n",
        "cv_results=cv.fit(train_features_prepared,train_labels_prepared)\n",
        "print(cv_results.best_score_)\n",
        "print(cv_results.best_params_)\n",
        "\n",
        "\n",
        "#KNN\n",
        "cv = GridSearchCV(estimator=KNeighborsClassifier(), param_grid=param_grid_KNN, cv= 3,\n",
        "                      scoring='precision')\n",
        "cv_results=cv.fit(train_features_prepared,train_labels_prepared)\n",
        "\n",
        "print(cv_results.best_score_)\n",
        "print(cv_results.best_params_)\n",
        "\n",
        "\n"
      ],
      "execution_count": 211,
      "outputs": [
        {
          "output_type": "stream",
          "text": [
            "0.4514318249948403\n",
            "{'n_estimators': 200}\n",
            "0.5850039860012546\n",
            "{'n_neighbors': 100}\n"
          ],
          "name": "stdout"
        }
      ]
    },
    {
      "cell_type": "markdown",
      "metadata": {
        "id": "nYDckeipMyuN",
        "colab_type": "text"
      },
      "source": [
        "Below builts a voting classifier ensembles using our best models"
      ]
    },
    {
      "cell_type": "code",
      "metadata": {
        "colab_type": "code",
        "id": "-TDrIuVkJ_CG",
        "colab": {}
      },
      "source": [
        "\n",
        "#all models\n",
        "    \n",
        "LOG=LogisticRegression()\n",
        "RFC=RandomForestClassifier(n_estimators=100) #theis estimator number gave us best preicison avg\n",
        "KNN=KNeighborsClassifier(n_neighbors=10) #this neighbors gives highets precision\n",
        "XGB=XGBClassifier()\n",
        "\n",
        "    \n",
        "voting_clf = VotingClassifier(\n",
        "    estimators=[('LOG', LOG),('KNN',KNN),('XGB',XGB),('RFC', RFC)],\n",
        "    voting='hard')"
      ],
      "execution_count": 0,
      "outputs": []
    },
    {
      "cell_type": "code",
      "metadata": {
        "colab_type": "code",
        "id": "F0_FciUCKEHT",
        "colab": {}
      },
      "source": [
        "\n",
        "#model to use\n",
        "model=voting_clf"
      ],
      "execution_count": 0,
      "outputs": []
    },
    {
      "cell_type": "code",
      "metadata": {
        "colab_type": "code",
        "id": "nxuSc5OyKHgp",
        "outputId": "6dd07290-2916-4e40-99c3-8729e2ee15ae",
        "colab": {
          "base_uri": "https://localhost:8080/",
          "height": 175
        }
      },
      "source": [
        "#cross validation\n",
        "metrics=['accuracy', 'precision', 'recall']\n",
        "for m in metrics:\n",
        "    #can use cross_validate with multiple scores insteadto make this run faster\n",
        "    cv_results = cross_val_score(model,train_features_prepared,train_labels_prepared,cv=4,scoring=m)\n",
        "    print('-------------------')\n",
        "    print('Scoring Metric: ', m)\n",
        "    print('Scores: ',cv_results)"
      ],
      "execution_count": 214,
      "outputs": [
        {
          "output_type": "stream",
          "text": [
            "-------------------\n",
            "Scoring Metric:  accuracy\n",
            "Scores:  [0.79915215 0.79960707 0.79929687 0.80016545]\n",
            "-------------------\n",
            "Scoring Metric:  precision\n",
            "Scores:  [0.63157895 0.69736842 0.71014493 0.73493976]\n",
            "-------------------\n",
            "Scoring Metric:  recall\n",
            "Scores:  [0.01356887 0.0140809  0.0125448  0.01459667]\n"
          ],
          "name": "stdout"
        }
      ]
    },
    {
      "cell_type": "code",
      "metadata": {
        "colab_type": "code",
        "id": "kVzc7WcWLEXF",
        "colab": {}
      },
      "source": [
        ""
      ],
      "execution_count": 0,
      "outputs": []
    },
    {
      "cell_type": "markdown",
      "metadata": {
        "id": "fZD_ml8HRLIS",
        "colab_type": "text"
      },
      "source": [
        "Our voting classifier was able to come up with precision score (0.6) much higher than any of the individual models.\n",
        "\n",
        "Best individual model precision was 0.4\n",
        "\n",
        "Voting calssifier precision is around 0.6"
      ]
    },
    {
      "cell_type": "markdown",
      "metadata": {
        "id": "nilfxQGaP8NF",
        "colab_type": "text"
      },
      "source": [
        "### Predict"
      ]
    },
    {
      "cell_type": "code",
      "metadata": {
        "colab_type": "code",
        "id": "ydMLlY81LOqi",
        "colab": {}
      },
      "source": [
        "#Prediction\n",
        "\n",
        "#fit model on entire training set\n",
        "model.fit(train_features_prepared,train_labels_prepared)\n",
        "\n",
        "y_test_pred = model.predict(test_features_prepared)\n"
      ],
      "execution_count": 0,
      "outputs": []
    },
    {
      "cell_type": "code",
      "metadata": {
        "colab_type": "code",
        "id": "SsYPz2ZPM90o",
        "outputId": "48a4b221-8394-4e8d-c1e7-38e126647630",
        "colab": {
          "base_uri": "https://localhost:8080/",
          "height": 140
        }
      },
      "source": [
        "\n",
        "#Scores\n",
        "print('Accuracy =' ,  np.round(accuracy_score(test_labels_prepared, y_test_pred),2))\n",
        "print('precision = ' , precision_score(test_labels_prepared, y_test_pred))\n",
        "print('recall  = ', recall_score(test_labels_prepared, y_test_pred))\n",
        "print('f1  = ', f1_score(test_labels_prepared, y_test_pred))\n",
        "print('auc = ', roc_auc_score(test_labels_prepared, y_test_pred))\n",
        "confusion_matrix(test_labels_prepared,y_test_pred)"
      ],
      "execution_count": 216,
      "outputs": [
        {
          "output_type": "stream",
          "text": [
            "Accuracy = 0.8\n",
            "precision =  0.7441860465116279\n",
            "recall  =  0.014336917562724014\n",
            "f1  =  0.02813186813186813\n",
            "auc =  0.506544946707901\n"
          ],
          "name": "stdout"
        },
        {
          "output_type": "execute_result",
          "data": {
            "text/plain": [
              "array([[26430,    33],\n",
              "       [ 6600,    96]])"
            ]
          },
          "metadata": {
            "tags": []
          },
          "execution_count": 216
        }
      ]
    },
    {
      "cell_type": "code",
      "metadata": {
        "id": "ZbpmRX7QSsGl",
        "colab_type": "code",
        "colab": {}
      },
      "source": [
        "accuracy = np.round(accuracy_score(test_labels_prepared, y_test_pred),2)\n",
        "precision = precision_score(test_labels_prepared, y_test_pred)\n",
        "recall = recall_score(test_labels_prepared, y_test_pred)\n",
        "f_score = f1_score(test_labels_prepared, y_test_pred)"
      ],
      "execution_count": 0,
      "outputs": []
    },
    {
      "cell_type": "code",
      "metadata": {
        "id": "G93tlDfhStiK",
        "colab_type": "code",
        "colab": {
          "base_uri": "https://localhost:8080/",
          "height": 295
        },
        "outputId": "41456aaf-a1f1-4b45-9bd0-c53f7a138f3e"
      },
      "source": [
        "%matplotlib inline\n",
        "\n",
        "x = ['Accuracy', 'Precision','Recall', 'F1']\n",
        "metrics = [accuracy, precision, recall, f_score]\n",
        "plt.gca().yaxis.grid(True)\n",
        "x_pos = [i for i, _ in enumerate(x)]\n",
        "plt.bar(x_pos, metrics, color='lightblue')\n",
        "plt.xlabel(\"Metrics\")\n",
        "plt.ylabel(\"Percentage\")\n",
        "plt.xticks(x_pos, x)\n",
        "plt.title('metric scores for final model on the test data')\n",
        "plt.show()"
      ],
      "execution_count": 218,
      "outputs": [
        {
          "output_type": "display_data",
          "data": {
            "image/png": "[encoded data removed]",
            "text/plain": [
              "<Figure size 432x288 with 1 Axes>"
            ]
          },
          "metadata": {
            "tags": []
          }
        }
      ]
    },
    {
      "cell_type": "markdown",
      "metadata": {
        "id": "Ey1liEi4cDto",
        "colab_type": "text"
      },
      "source": [
        "#Conclusions"
      ]
    },
    {
      "cell_type": "markdown",
      "metadata": {
        "id": "RS6q9ZkRRhAY",
        "colab_type": "text"
      },
      "source": [
        "This model can predict whether or not patients are going to show up to their appointments with a 80% accuracy & 75% precision by using the above features.\n",
        "\n",
        "Although this model still can be improved, this is a good score given the following:\n",
        "\n",
        "1)Weak dataset with extrmeely low feature correlations vs label (correlation less than 0.1 for most features)\n",
        "\n",
        "2)very poor individual model scores (less than 0.4 precision for most)"
      ]
    },
    {
      "cell_type": "markdown",
      "metadata": {
        "id": "qJ6gcrMzR7yD",
        "colab_type": "text"
      },
      "source": [
        "-[link text](https://)The final model has a 0.75 precision but a very low recall. This means the model will not recall the majority of no shows. But the No shows we do predict wil be done with 75% precision.\n",
        "\n",
        "-The implication for the hospital is that they can afford to schedule extra patients to fill in no shows with fairly high trust of our no show predidiction (75%)"
      ]
    },
    {
      "cell_type": "markdown",
      "metadata": {
        "id": "NiCRhq_2QtAh",
        "colab_type": "text"
      },
      "source": [
        "\n",
        "\n",
        "-To encourage people to commit to their appointments, clinics should send them SMS reminders or some other form of reminder. Some people have busy lives and may have forgotten about their appointments, especially if they made the appointments months in advance."
      ]
    },
    {
      "cell_type": "markdown",
      "metadata": {
        "id": "krm_hC5KUA42",
        "colab_type": "text"
      },
      "source": [
        "###How to potentially improve model"
      ]
    },
    {
      "cell_type": "markdown",
      "metadata": {
        "id": "idSAw3ZZQ8B3",
        "colab_type": "text"
      },
      "source": [
        "The model could make better predictions if addtional variables were included such as\n",
        "\n",
        "-Time of appointment\n",
        "\n",
        "-What type of doctor is the patient going to see? (Primary care provider, CARDIO, OBGYN, ...)\n",
        "\n",
        "-What mode of transportation will the patient use?\n",
        "\n",
        "-How far is the patient from the care facility location?"
      ]
    },
    {
      "cell_type": "markdown",
      "metadata": {
        "colab_type": "text",
        "id": "1Q2XCpqZV-HV"
      },
      "source": [
        ""
      ]
    }
  ]
}